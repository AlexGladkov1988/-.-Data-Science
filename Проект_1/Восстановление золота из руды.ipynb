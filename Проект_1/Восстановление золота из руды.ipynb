{
 "cells": [
  {
   "cell_type": "markdown",
   "metadata": {
    "toc": true
   },
   "source": [
    "<h1>Содержание<span class=\"tocSkip\"></span></h1>\n",
    "<div class=\"toc\"><ul class=\"toc-item\"><li><span><a href=\"#Подготовка-данных\" data-toc-modified-id=\"Подготовка-данных-1\"><span class=\"toc-item-num\">1&nbsp;&nbsp;</span>Подготовка данных</a></span></li><li><span><a href=\"#Анализ-данных\" data-toc-modified-id=\"Анализ-данных-2\"><span class=\"toc-item-num\">2&nbsp;&nbsp;</span>Анализ данных</a></span></li><li><span><a href=\"#Модель\" data-toc-modified-id=\"Модель-3\"><span class=\"toc-item-num\">3&nbsp;&nbsp;</span>Модель</a></span></li><li><span><a href=\"#Чек-лист-готовности-проекта\" data-toc-modified-id=\"Чек-лист-готовности-проекта-4\"><span class=\"toc-item-num\">4&nbsp;&nbsp;</span>Чек-лист готовности проекта</a></span></li></ul></div>"
   ]
  },
  {
   "cell_type": "markdown",
   "metadata": {},
   "source": [
    "# Восстановление золота из руды"
   ]
  },
  {
   "cell_type": "markdown",
   "metadata": {},
   "source": [
    "Подготовьте прототип модели машинного обучения для «Цифры». Компания разрабатывает решения для эффективной работы промышленных предприятий.\n",
    "\n",
    "Модель должна предсказать коэффициент восстановления золота из золотосодержащей руды. Используйте данные с параметрами добычи и очистки. \n",
    "\n",
    "Модель поможет оптимизировать производство, чтобы не запускать предприятие с убыточными характеристиками.\n",
    "\n",
    "Вам нужно:\n",
    "\n",
    "1. Подготовить данные;\n",
    "2. Провести исследовательский анализ данных;\n",
    "3. Построить и обучить модель.\n",
    "\n",
    "Чтобы выполнить проект, обращайтесь к библиотекам *pandas*, *matplotlib* и *sklearn.* Вам поможет их документация."
   ]
  },
  {
   "cell_type": "markdown",
   "metadata": {},
   "source": [
    "Добрый день, Уважаемый ревьюер, предлагаю твоему вниманию свой проектпо подготовке прототипа модели машинного обучения.\n",
    "В этом проекте я попытался построить моддель которая предкажет коэффициент восстановления золота из золотосодержащей руды и поможет оптимизировать производство, чтобы не запускать предприятие с убыточными характеристиками.\n",
    "Хотел бы попросить строго не оценивать мою работу, так я не успел её сдать в срок и куратор дал мне дополнительно всего один день для сдачи. Если будут существенные ошибки, я постараюсь в самые короткие сроки их исправить... Очень волнуюсь, ведь если не получится сдать, то придётся переводиться в другую группу :-( Спасибо за понимание *-)"
   ]
  },
  {
   "cell_type": "markdown",
   "metadata": {},
   "source": [
    "## Подготовка данных"
   ]
  },
  {
   "cell_type": "markdown",
   "metadata": {},
   "source": [
    "Импортируем библиотеки:"
   ]
  },
  {
   "cell_type": "code",
   "execution_count": 1,
   "metadata": {},
   "outputs": [],
   "source": [
    "import pandas as pd\n",
    "import matplotlib.pyplot as plt\n",
    "import numpy as np\n",
    "import seaborn as sns\n",
    "from sklearn.model_selection import train_test_split\n",
    "from sklearn.preprocessing import StandardScaler\n",
    "from sklearn.linear_model import LinearRegression\n",
    "from sklearn.tree import DecisionTreeRegressor\n",
    "from sklearn.ensemble import RandomForestRegressor\n",
    "from sklearn.metrics import mean_absolute_error\n",
    "from sklearn.metrics import make_scorer\n",
    "from sklearn.model_selection import cross_val_score\n",
    "from sklearn.dummy import DummyRegressor\n",
    "from sklearn.model_selection import GridSearchCV"
   ]
  },
  {
   "cell_type": "markdown",
   "metadata": {},
   "source": [
    "Игнорируем предупреждения:"
   ]
  },
  {
   "cell_type": "code",
   "execution_count": 2,
   "metadata": {},
   "outputs": [],
   "source": [
    "import warnings\n",
    "warnings.filterwarnings('ignore')"
   ]
  },
  {
   "cell_type": "markdown",
   "metadata": {},
   "source": [
    "Откроем файлы:"
   ]
  },
  {
   "cell_type": "code",
   "execution_count": 3,
   "metadata": {},
   "outputs": [],
   "source": [
    "data_train = pd.read_csv('/datasets/gold_recovery_train_new.csv')\n",
    "data_test = pd.read_csv('/datasets/gold_recovery_test_new.csv')\n",
    "data_full = pd.read_csv('/datasets/gold_recovery_full_new.csv')"
   ]
  },
  {
   "cell_type": "markdown",
   "metadata": {},
   "source": [
    "Выведем первые строки датафреймов:"
   ]
  },
  {
   "cell_type": "code",
   "execution_count": 4,
   "metadata": {},
   "outputs": [
    {
     "data": {
      "text/html": [
       "<div>\n",
       "<style scoped>\n",
       "    .dataframe tbody tr th:only-of-type {\n",
       "        vertical-align: middle;\n",
       "    }\n",
       "\n",
       "    .dataframe tbody tr th {\n",
       "        vertical-align: top;\n",
       "    }\n",
       "\n",
       "    .dataframe thead th {\n",
       "        text-align: right;\n",
       "    }\n",
       "</style>\n",
       "<table border=\"1\" class=\"dataframe\">\n",
       "  <thead>\n",
       "    <tr style=\"text-align: right;\">\n",
       "      <th></th>\n",
       "      <th>date</th>\n",
       "      <th>final.output.concentrate_ag</th>\n",
       "      <th>final.output.concentrate_pb</th>\n",
       "      <th>final.output.concentrate_sol</th>\n",
       "      <th>final.output.concentrate_au</th>\n",
       "      <th>final.output.recovery</th>\n",
       "      <th>final.output.tail_ag</th>\n",
       "      <th>final.output.tail_pb</th>\n",
       "      <th>final.output.tail_sol</th>\n",
       "      <th>final.output.tail_au</th>\n",
       "      <th>...</th>\n",
       "      <th>secondary_cleaner.state.floatbank4_a_air</th>\n",
       "      <th>secondary_cleaner.state.floatbank4_a_level</th>\n",
       "      <th>secondary_cleaner.state.floatbank4_b_air</th>\n",
       "      <th>secondary_cleaner.state.floatbank4_b_level</th>\n",
       "      <th>secondary_cleaner.state.floatbank5_a_air</th>\n",
       "      <th>secondary_cleaner.state.floatbank5_a_level</th>\n",
       "      <th>secondary_cleaner.state.floatbank5_b_air</th>\n",
       "      <th>secondary_cleaner.state.floatbank5_b_level</th>\n",
       "      <th>secondary_cleaner.state.floatbank6_a_air</th>\n",
       "      <th>secondary_cleaner.state.floatbank6_a_level</th>\n",
       "    </tr>\n",
       "  </thead>\n",
       "  <tbody>\n",
       "    <tr>\n",
       "      <th>0</th>\n",
       "      <td>2016-01-15 00:00:00</td>\n",
       "      <td>6.055403</td>\n",
       "      <td>9.889648</td>\n",
       "      <td>5.507324</td>\n",
       "      <td>42.192020</td>\n",
       "      <td>70.541216</td>\n",
       "      <td>10.411962</td>\n",
       "      <td>0.895447</td>\n",
       "      <td>16.904297</td>\n",
       "      <td>2.143149</td>\n",
       "      <td>...</td>\n",
       "      <td>14.016835</td>\n",
       "      <td>-502.488007</td>\n",
       "      <td>12.099931</td>\n",
       "      <td>-504.715942</td>\n",
       "      <td>9.925633</td>\n",
       "      <td>-498.310211</td>\n",
       "      <td>8.079666</td>\n",
       "      <td>-500.470978</td>\n",
       "      <td>14.151341</td>\n",
       "      <td>-605.841980</td>\n",
       "    </tr>\n",
       "    <tr>\n",
       "      <th>1</th>\n",
       "      <td>2016-01-15 01:00:00</td>\n",
       "      <td>6.029369</td>\n",
       "      <td>9.968944</td>\n",
       "      <td>5.257781</td>\n",
       "      <td>42.701629</td>\n",
       "      <td>69.266198</td>\n",
       "      <td>10.462676</td>\n",
       "      <td>0.927452</td>\n",
       "      <td>16.634514</td>\n",
       "      <td>2.224930</td>\n",
       "      <td>...</td>\n",
       "      <td>13.992281</td>\n",
       "      <td>-505.503262</td>\n",
       "      <td>11.950531</td>\n",
       "      <td>-501.331529</td>\n",
       "      <td>10.039245</td>\n",
       "      <td>-500.169983</td>\n",
       "      <td>7.984757</td>\n",
       "      <td>-500.582168</td>\n",
       "      <td>13.998353</td>\n",
       "      <td>-599.787184</td>\n",
       "    </tr>\n",
       "    <tr>\n",
       "      <th>2</th>\n",
       "      <td>2016-01-15 02:00:00</td>\n",
       "      <td>6.055926</td>\n",
       "      <td>10.213995</td>\n",
       "      <td>5.383759</td>\n",
       "      <td>42.657501</td>\n",
       "      <td>68.116445</td>\n",
       "      <td>10.507046</td>\n",
       "      <td>0.953716</td>\n",
       "      <td>16.208849</td>\n",
       "      <td>2.257889</td>\n",
       "      <td>...</td>\n",
       "      <td>14.015015</td>\n",
       "      <td>-502.520901</td>\n",
       "      <td>11.912783</td>\n",
       "      <td>-501.133383</td>\n",
       "      <td>10.070913</td>\n",
       "      <td>-500.129135</td>\n",
       "      <td>8.013877</td>\n",
       "      <td>-500.517572</td>\n",
       "      <td>14.028663</td>\n",
       "      <td>-601.427363</td>\n",
       "    </tr>\n",
       "    <tr>\n",
       "      <th>3</th>\n",
       "      <td>2016-01-15 03:00:00</td>\n",
       "      <td>6.047977</td>\n",
       "      <td>9.977019</td>\n",
       "      <td>4.858634</td>\n",
       "      <td>42.689819</td>\n",
       "      <td>68.347543</td>\n",
       "      <td>10.422762</td>\n",
       "      <td>0.883763</td>\n",
       "      <td>16.532835</td>\n",
       "      <td>2.146849</td>\n",
       "      <td>...</td>\n",
       "      <td>14.036510</td>\n",
       "      <td>-500.857308</td>\n",
       "      <td>11.999550</td>\n",
       "      <td>-501.193686</td>\n",
       "      <td>9.970366</td>\n",
       "      <td>-499.201640</td>\n",
       "      <td>7.977324</td>\n",
       "      <td>-500.255908</td>\n",
       "      <td>14.005551</td>\n",
       "      <td>-599.996129</td>\n",
       "    </tr>\n",
       "    <tr>\n",
       "      <th>4</th>\n",
       "      <td>2016-01-15 04:00:00</td>\n",
       "      <td>6.148599</td>\n",
       "      <td>10.142511</td>\n",
       "      <td>4.939416</td>\n",
       "      <td>42.774141</td>\n",
       "      <td>66.927016</td>\n",
       "      <td>10.360302</td>\n",
       "      <td>0.792826</td>\n",
       "      <td>16.525686</td>\n",
       "      <td>2.055292</td>\n",
       "      <td>...</td>\n",
       "      <td>14.027298</td>\n",
       "      <td>-499.838632</td>\n",
       "      <td>11.953070</td>\n",
       "      <td>-501.053894</td>\n",
       "      <td>9.925709</td>\n",
       "      <td>-501.686727</td>\n",
       "      <td>7.894242</td>\n",
       "      <td>-500.356035</td>\n",
       "      <td>13.996647</td>\n",
       "      <td>-601.496691</td>\n",
       "    </tr>\n",
       "  </tbody>\n",
       "</table>\n",
       "<p>5 rows × 87 columns</p>\n",
       "</div>"
      ],
      "text/plain": [
       "                  date  final.output.concentrate_ag  \\\n",
       "0  2016-01-15 00:00:00                     6.055403   \n",
       "1  2016-01-15 01:00:00                     6.029369   \n",
       "2  2016-01-15 02:00:00                     6.055926   \n",
       "3  2016-01-15 03:00:00                     6.047977   \n",
       "4  2016-01-15 04:00:00                     6.148599   \n",
       "\n",
       "   final.output.concentrate_pb  final.output.concentrate_sol  \\\n",
       "0                     9.889648                      5.507324   \n",
       "1                     9.968944                      5.257781   \n",
       "2                    10.213995                      5.383759   \n",
       "3                     9.977019                      4.858634   \n",
       "4                    10.142511                      4.939416   \n",
       "\n",
       "   final.output.concentrate_au  final.output.recovery  final.output.tail_ag  \\\n",
       "0                    42.192020              70.541216             10.411962   \n",
       "1                    42.701629              69.266198             10.462676   \n",
       "2                    42.657501              68.116445             10.507046   \n",
       "3                    42.689819              68.347543             10.422762   \n",
       "4                    42.774141              66.927016             10.360302   \n",
       "\n",
       "   final.output.tail_pb  final.output.tail_sol  final.output.tail_au  ...  \\\n",
       "0              0.895447              16.904297              2.143149  ...   \n",
       "1              0.927452              16.634514              2.224930  ...   \n",
       "2              0.953716              16.208849              2.257889  ...   \n",
       "3              0.883763              16.532835              2.146849  ...   \n",
       "4              0.792826              16.525686              2.055292  ...   \n",
       "\n",
       "   secondary_cleaner.state.floatbank4_a_air  \\\n",
       "0                                 14.016835   \n",
       "1                                 13.992281   \n",
       "2                                 14.015015   \n",
       "3                                 14.036510   \n",
       "4                                 14.027298   \n",
       "\n",
       "   secondary_cleaner.state.floatbank4_a_level  \\\n",
       "0                                 -502.488007   \n",
       "1                                 -505.503262   \n",
       "2                                 -502.520901   \n",
       "3                                 -500.857308   \n",
       "4                                 -499.838632   \n",
       "\n",
       "   secondary_cleaner.state.floatbank4_b_air  \\\n",
       "0                                 12.099931   \n",
       "1                                 11.950531   \n",
       "2                                 11.912783   \n",
       "3                                 11.999550   \n",
       "4                                 11.953070   \n",
       "\n",
       "   secondary_cleaner.state.floatbank4_b_level  \\\n",
       "0                                 -504.715942   \n",
       "1                                 -501.331529   \n",
       "2                                 -501.133383   \n",
       "3                                 -501.193686   \n",
       "4                                 -501.053894   \n",
       "\n",
       "   secondary_cleaner.state.floatbank5_a_air  \\\n",
       "0                                  9.925633   \n",
       "1                                 10.039245   \n",
       "2                                 10.070913   \n",
       "3                                  9.970366   \n",
       "4                                  9.925709   \n",
       "\n",
       "   secondary_cleaner.state.floatbank5_a_level  \\\n",
       "0                                 -498.310211   \n",
       "1                                 -500.169983   \n",
       "2                                 -500.129135   \n",
       "3                                 -499.201640   \n",
       "4                                 -501.686727   \n",
       "\n",
       "   secondary_cleaner.state.floatbank5_b_air  \\\n",
       "0                                  8.079666   \n",
       "1                                  7.984757   \n",
       "2                                  8.013877   \n",
       "3                                  7.977324   \n",
       "4                                  7.894242   \n",
       "\n",
       "   secondary_cleaner.state.floatbank5_b_level  \\\n",
       "0                                 -500.470978   \n",
       "1                                 -500.582168   \n",
       "2                                 -500.517572   \n",
       "3                                 -500.255908   \n",
       "4                                 -500.356035   \n",
       "\n",
       "   secondary_cleaner.state.floatbank6_a_air  \\\n",
       "0                                 14.151341   \n",
       "1                                 13.998353   \n",
       "2                                 14.028663   \n",
       "3                                 14.005551   \n",
       "4                                 13.996647   \n",
       "\n",
       "   secondary_cleaner.state.floatbank6_a_level  \n",
       "0                                 -605.841980  \n",
       "1                                 -599.787184  \n",
       "2                                 -601.427363  \n",
       "3                                 -599.996129  \n",
       "4                                 -601.496691  \n",
       "\n",
       "[5 rows x 87 columns]"
      ]
     },
     "execution_count": 4,
     "metadata": {},
     "output_type": "execute_result"
    }
   ],
   "source": [
    "data_train.head()"
   ]
  },
  {
   "cell_type": "code",
   "execution_count": 5,
   "metadata": {},
   "outputs": [
    {
     "data": {
      "text/html": [
       "<div>\n",
       "<style scoped>\n",
       "    .dataframe tbody tr th:only-of-type {\n",
       "        vertical-align: middle;\n",
       "    }\n",
       "\n",
       "    .dataframe tbody tr th {\n",
       "        vertical-align: top;\n",
       "    }\n",
       "\n",
       "    .dataframe thead th {\n",
       "        text-align: right;\n",
       "    }\n",
       "</style>\n",
       "<table border=\"1\" class=\"dataframe\">\n",
       "  <thead>\n",
       "    <tr style=\"text-align: right;\">\n",
       "      <th></th>\n",
       "      <th>date</th>\n",
       "      <th>primary_cleaner.input.sulfate</th>\n",
       "      <th>primary_cleaner.input.depressant</th>\n",
       "      <th>primary_cleaner.input.feed_size</th>\n",
       "      <th>primary_cleaner.input.xanthate</th>\n",
       "      <th>primary_cleaner.state.floatbank8_a_air</th>\n",
       "      <th>primary_cleaner.state.floatbank8_a_level</th>\n",
       "      <th>primary_cleaner.state.floatbank8_b_air</th>\n",
       "      <th>primary_cleaner.state.floatbank8_b_level</th>\n",
       "      <th>primary_cleaner.state.floatbank8_c_air</th>\n",
       "      <th>...</th>\n",
       "      <th>secondary_cleaner.state.floatbank4_a_air</th>\n",
       "      <th>secondary_cleaner.state.floatbank4_a_level</th>\n",
       "      <th>secondary_cleaner.state.floatbank4_b_air</th>\n",
       "      <th>secondary_cleaner.state.floatbank4_b_level</th>\n",
       "      <th>secondary_cleaner.state.floatbank5_a_air</th>\n",
       "      <th>secondary_cleaner.state.floatbank5_a_level</th>\n",
       "      <th>secondary_cleaner.state.floatbank5_b_air</th>\n",
       "      <th>secondary_cleaner.state.floatbank5_b_level</th>\n",
       "      <th>secondary_cleaner.state.floatbank6_a_air</th>\n",
       "      <th>secondary_cleaner.state.floatbank6_a_level</th>\n",
       "    </tr>\n",
       "  </thead>\n",
       "  <tbody>\n",
       "    <tr>\n",
       "      <th>0</th>\n",
       "      <td>2016-09-01 00:59:59</td>\n",
       "      <td>210.800909</td>\n",
       "      <td>14.993118</td>\n",
       "      <td>8.080000</td>\n",
       "      <td>1.005021</td>\n",
       "      <td>1398.981301</td>\n",
       "      <td>-500.225577</td>\n",
       "      <td>1399.144926</td>\n",
       "      <td>-499.919735</td>\n",
       "      <td>1400.102998</td>\n",
       "      <td>...</td>\n",
       "      <td>12.023554</td>\n",
       "      <td>-497.795834</td>\n",
       "      <td>8.016656</td>\n",
       "      <td>-501.289139</td>\n",
       "      <td>7.946562</td>\n",
       "      <td>-432.317850</td>\n",
       "      <td>4.872511</td>\n",
       "      <td>-500.037437</td>\n",
       "      <td>26.705889</td>\n",
       "      <td>-499.709414</td>\n",
       "    </tr>\n",
       "    <tr>\n",
       "      <th>1</th>\n",
       "      <td>2016-09-01 01:59:59</td>\n",
       "      <td>215.392455</td>\n",
       "      <td>14.987471</td>\n",
       "      <td>8.080000</td>\n",
       "      <td>0.990469</td>\n",
       "      <td>1398.777912</td>\n",
       "      <td>-500.057435</td>\n",
       "      <td>1398.055362</td>\n",
       "      <td>-499.778182</td>\n",
       "      <td>1396.151033</td>\n",
       "      <td>...</td>\n",
       "      <td>12.058140</td>\n",
       "      <td>-498.695773</td>\n",
       "      <td>8.130979</td>\n",
       "      <td>-499.634209</td>\n",
       "      <td>7.958270</td>\n",
       "      <td>-525.839648</td>\n",
       "      <td>4.878850</td>\n",
       "      <td>-500.162375</td>\n",
       "      <td>25.019940</td>\n",
       "      <td>-499.819438</td>\n",
       "    </tr>\n",
       "    <tr>\n",
       "      <th>2</th>\n",
       "      <td>2016-09-01 02:59:59</td>\n",
       "      <td>215.259946</td>\n",
       "      <td>12.884934</td>\n",
       "      <td>7.786667</td>\n",
       "      <td>0.996043</td>\n",
       "      <td>1398.493666</td>\n",
       "      <td>-500.868360</td>\n",
       "      <td>1398.860436</td>\n",
       "      <td>-499.764529</td>\n",
       "      <td>1398.075709</td>\n",
       "      <td>...</td>\n",
       "      <td>11.962366</td>\n",
       "      <td>-498.767484</td>\n",
       "      <td>8.096893</td>\n",
       "      <td>-500.827423</td>\n",
       "      <td>8.071056</td>\n",
       "      <td>-500.801673</td>\n",
       "      <td>4.905125</td>\n",
       "      <td>-499.828510</td>\n",
       "      <td>24.994862</td>\n",
       "      <td>-500.622559</td>\n",
       "    </tr>\n",
       "    <tr>\n",
       "      <th>3</th>\n",
       "      <td>2016-09-01 03:59:59</td>\n",
       "      <td>215.336236</td>\n",
       "      <td>12.006805</td>\n",
       "      <td>7.640000</td>\n",
       "      <td>0.863514</td>\n",
       "      <td>1399.618111</td>\n",
       "      <td>-498.863574</td>\n",
       "      <td>1397.440120</td>\n",
       "      <td>-499.211024</td>\n",
       "      <td>1400.129303</td>\n",
       "      <td>...</td>\n",
       "      <td>12.033091</td>\n",
       "      <td>-498.350935</td>\n",
       "      <td>8.074946</td>\n",
       "      <td>-499.474407</td>\n",
       "      <td>7.897085</td>\n",
       "      <td>-500.868509</td>\n",
       "      <td>4.931400</td>\n",
       "      <td>-499.963623</td>\n",
       "      <td>24.948919</td>\n",
       "      <td>-498.709987</td>\n",
       "    </tr>\n",
       "    <tr>\n",
       "      <th>4</th>\n",
       "      <td>2016-09-01 04:59:59</td>\n",
       "      <td>199.099327</td>\n",
       "      <td>10.682530</td>\n",
       "      <td>7.530000</td>\n",
       "      <td>0.805575</td>\n",
       "      <td>1401.268123</td>\n",
       "      <td>-500.808305</td>\n",
       "      <td>1398.128818</td>\n",
       "      <td>-499.504543</td>\n",
       "      <td>1402.172226</td>\n",
       "      <td>...</td>\n",
       "      <td>12.025367</td>\n",
       "      <td>-500.786497</td>\n",
       "      <td>8.054678</td>\n",
       "      <td>-500.397500</td>\n",
       "      <td>8.107890</td>\n",
       "      <td>-509.526725</td>\n",
       "      <td>4.957674</td>\n",
       "      <td>-500.360026</td>\n",
       "      <td>25.003331</td>\n",
       "      <td>-500.856333</td>\n",
       "    </tr>\n",
       "  </tbody>\n",
       "</table>\n",
       "<p>5 rows × 53 columns</p>\n",
       "</div>"
      ],
      "text/plain": [
       "                  date  primary_cleaner.input.sulfate  \\\n",
       "0  2016-09-01 00:59:59                     210.800909   \n",
       "1  2016-09-01 01:59:59                     215.392455   \n",
       "2  2016-09-01 02:59:59                     215.259946   \n",
       "3  2016-09-01 03:59:59                     215.336236   \n",
       "4  2016-09-01 04:59:59                     199.099327   \n",
       "\n",
       "   primary_cleaner.input.depressant  primary_cleaner.input.feed_size  \\\n",
       "0                         14.993118                         8.080000   \n",
       "1                         14.987471                         8.080000   \n",
       "2                         12.884934                         7.786667   \n",
       "3                         12.006805                         7.640000   \n",
       "4                         10.682530                         7.530000   \n",
       "\n",
       "   primary_cleaner.input.xanthate  primary_cleaner.state.floatbank8_a_air  \\\n",
       "0                        1.005021                             1398.981301   \n",
       "1                        0.990469                             1398.777912   \n",
       "2                        0.996043                             1398.493666   \n",
       "3                        0.863514                             1399.618111   \n",
       "4                        0.805575                             1401.268123   \n",
       "\n",
       "   primary_cleaner.state.floatbank8_a_level  \\\n",
       "0                               -500.225577   \n",
       "1                               -500.057435   \n",
       "2                               -500.868360   \n",
       "3                               -498.863574   \n",
       "4                               -500.808305   \n",
       "\n",
       "   primary_cleaner.state.floatbank8_b_air  \\\n",
       "0                             1399.144926   \n",
       "1                             1398.055362   \n",
       "2                             1398.860436   \n",
       "3                             1397.440120   \n",
       "4                             1398.128818   \n",
       "\n",
       "   primary_cleaner.state.floatbank8_b_level  \\\n",
       "0                               -499.919735   \n",
       "1                               -499.778182   \n",
       "2                               -499.764529   \n",
       "3                               -499.211024   \n",
       "4                               -499.504543   \n",
       "\n",
       "   primary_cleaner.state.floatbank8_c_air  ...  \\\n",
       "0                             1400.102998  ...   \n",
       "1                             1396.151033  ...   \n",
       "2                             1398.075709  ...   \n",
       "3                             1400.129303  ...   \n",
       "4                             1402.172226  ...   \n",
       "\n",
       "   secondary_cleaner.state.floatbank4_a_air  \\\n",
       "0                                 12.023554   \n",
       "1                                 12.058140   \n",
       "2                                 11.962366   \n",
       "3                                 12.033091   \n",
       "4                                 12.025367   \n",
       "\n",
       "   secondary_cleaner.state.floatbank4_a_level  \\\n",
       "0                                 -497.795834   \n",
       "1                                 -498.695773   \n",
       "2                                 -498.767484   \n",
       "3                                 -498.350935   \n",
       "4                                 -500.786497   \n",
       "\n",
       "   secondary_cleaner.state.floatbank4_b_air  \\\n",
       "0                                  8.016656   \n",
       "1                                  8.130979   \n",
       "2                                  8.096893   \n",
       "3                                  8.074946   \n",
       "4                                  8.054678   \n",
       "\n",
       "   secondary_cleaner.state.floatbank4_b_level  \\\n",
       "0                                 -501.289139   \n",
       "1                                 -499.634209   \n",
       "2                                 -500.827423   \n",
       "3                                 -499.474407   \n",
       "4                                 -500.397500   \n",
       "\n",
       "   secondary_cleaner.state.floatbank5_a_air  \\\n",
       "0                                  7.946562   \n",
       "1                                  7.958270   \n",
       "2                                  8.071056   \n",
       "3                                  7.897085   \n",
       "4                                  8.107890   \n",
       "\n",
       "   secondary_cleaner.state.floatbank5_a_level  \\\n",
       "0                                 -432.317850   \n",
       "1                                 -525.839648   \n",
       "2                                 -500.801673   \n",
       "3                                 -500.868509   \n",
       "4                                 -509.526725   \n",
       "\n",
       "   secondary_cleaner.state.floatbank5_b_air  \\\n",
       "0                                  4.872511   \n",
       "1                                  4.878850   \n",
       "2                                  4.905125   \n",
       "3                                  4.931400   \n",
       "4                                  4.957674   \n",
       "\n",
       "   secondary_cleaner.state.floatbank5_b_level  \\\n",
       "0                                 -500.037437   \n",
       "1                                 -500.162375   \n",
       "2                                 -499.828510   \n",
       "3                                 -499.963623   \n",
       "4                                 -500.360026   \n",
       "\n",
       "   secondary_cleaner.state.floatbank6_a_air  \\\n",
       "0                                 26.705889   \n",
       "1                                 25.019940   \n",
       "2                                 24.994862   \n",
       "3                                 24.948919   \n",
       "4                                 25.003331   \n",
       "\n",
       "   secondary_cleaner.state.floatbank6_a_level  \n",
       "0                                 -499.709414  \n",
       "1                                 -499.819438  \n",
       "2                                 -500.622559  \n",
       "3                                 -498.709987  \n",
       "4                                 -500.856333  \n",
       "\n",
       "[5 rows x 53 columns]"
      ]
     },
     "execution_count": 5,
     "metadata": {},
     "output_type": "execute_result"
    }
   ],
   "source": [
    "data_test.head()"
   ]
  },
  {
   "cell_type": "code",
   "execution_count": 6,
   "metadata": {},
   "outputs": [
    {
     "data": {
      "text/html": [
       "<div>\n",
       "<style scoped>\n",
       "    .dataframe tbody tr th:only-of-type {\n",
       "        vertical-align: middle;\n",
       "    }\n",
       "\n",
       "    .dataframe tbody tr th {\n",
       "        vertical-align: top;\n",
       "    }\n",
       "\n",
       "    .dataframe thead th {\n",
       "        text-align: right;\n",
       "    }\n",
       "</style>\n",
       "<table border=\"1\" class=\"dataframe\">\n",
       "  <thead>\n",
       "    <tr style=\"text-align: right;\">\n",
       "      <th></th>\n",
       "      <th>date</th>\n",
       "      <th>final.output.concentrate_ag</th>\n",
       "      <th>final.output.concentrate_pb</th>\n",
       "      <th>final.output.concentrate_sol</th>\n",
       "      <th>final.output.concentrate_au</th>\n",
       "      <th>final.output.recovery</th>\n",
       "      <th>final.output.tail_ag</th>\n",
       "      <th>final.output.tail_pb</th>\n",
       "      <th>final.output.tail_sol</th>\n",
       "      <th>final.output.tail_au</th>\n",
       "      <th>...</th>\n",
       "      <th>secondary_cleaner.state.floatbank4_a_air</th>\n",
       "      <th>secondary_cleaner.state.floatbank4_a_level</th>\n",
       "      <th>secondary_cleaner.state.floatbank4_b_air</th>\n",
       "      <th>secondary_cleaner.state.floatbank4_b_level</th>\n",
       "      <th>secondary_cleaner.state.floatbank5_a_air</th>\n",
       "      <th>secondary_cleaner.state.floatbank5_a_level</th>\n",
       "      <th>secondary_cleaner.state.floatbank5_b_air</th>\n",
       "      <th>secondary_cleaner.state.floatbank5_b_level</th>\n",
       "      <th>secondary_cleaner.state.floatbank6_a_air</th>\n",
       "      <th>secondary_cleaner.state.floatbank6_a_level</th>\n",
       "    </tr>\n",
       "  </thead>\n",
       "  <tbody>\n",
       "    <tr>\n",
       "      <th>0</th>\n",
       "      <td>2016-01-15 00:00:00</td>\n",
       "      <td>6.055403</td>\n",
       "      <td>9.889648</td>\n",
       "      <td>5.507324</td>\n",
       "      <td>42.192020</td>\n",
       "      <td>70.541216</td>\n",
       "      <td>10.411962</td>\n",
       "      <td>0.895447</td>\n",
       "      <td>16.904297</td>\n",
       "      <td>2.143149</td>\n",
       "      <td>...</td>\n",
       "      <td>14.016835</td>\n",
       "      <td>-502.488007</td>\n",
       "      <td>12.099931</td>\n",
       "      <td>-504.715942</td>\n",
       "      <td>9.925633</td>\n",
       "      <td>-498.310211</td>\n",
       "      <td>8.079666</td>\n",
       "      <td>-500.470978</td>\n",
       "      <td>14.151341</td>\n",
       "      <td>-605.841980</td>\n",
       "    </tr>\n",
       "    <tr>\n",
       "      <th>1</th>\n",
       "      <td>2016-01-15 01:00:00</td>\n",
       "      <td>6.029369</td>\n",
       "      <td>9.968944</td>\n",
       "      <td>5.257781</td>\n",
       "      <td>42.701629</td>\n",
       "      <td>69.266198</td>\n",
       "      <td>10.462676</td>\n",
       "      <td>0.927452</td>\n",
       "      <td>16.634514</td>\n",
       "      <td>2.224930</td>\n",
       "      <td>...</td>\n",
       "      <td>13.992281</td>\n",
       "      <td>-505.503262</td>\n",
       "      <td>11.950531</td>\n",
       "      <td>-501.331529</td>\n",
       "      <td>10.039245</td>\n",
       "      <td>-500.169983</td>\n",
       "      <td>7.984757</td>\n",
       "      <td>-500.582168</td>\n",
       "      <td>13.998353</td>\n",
       "      <td>-599.787184</td>\n",
       "    </tr>\n",
       "    <tr>\n",
       "      <th>2</th>\n",
       "      <td>2016-01-15 02:00:00</td>\n",
       "      <td>6.055926</td>\n",
       "      <td>10.213995</td>\n",
       "      <td>5.383759</td>\n",
       "      <td>42.657501</td>\n",
       "      <td>68.116445</td>\n",
       "      <td>10.507046</td>\n",
       "      <td>0.953716</td>\n",
       "      <td>16.208849</td>\n",
       "      <td>2.257889</td>\n",
       "      <td>...</td>\n",
       "      <td>14.015015</td>\n",
       "      <td>-502.520901</td>\n",
       "      <td>11.912783</td>\n",
       "      <td>-501.133383</td>\n",
       "      <td>10.070913</td>\n",
       "      <td>-500.129135</td>\n",
       "      <td>8.013877</td>\n",
       "      <td>-500.517572</td>\n",
       "      <td>14.028663</td>\n",
       "      <td>-601.427363</td>\n",
       "    </tr>\n",
       "    <tr>\n",
       "      <th>3</th>\n",
       "      <td>2016-01-15 03:00:00</td>\n",
       "      <td>6.047977</td>\n",
       "      <td>9.977019</td>\n",
       "      <td>4.858634</td>\n",
       "      <td>42.689819</td>\n",
       "      <td>68.347543</td>\n",
       "      <td>10.422762</td>\n",
       "      <td>0.883763</td>\n",
       "      <td>16.532835</td>\n",
       "      <td>2.146849</td>\n",
       "      <td>...</td>\n",
       "      <td>14.036510</td>\n",
       "      <td>-500.857308</td>\n",
       "      <td>11.999550</td>\n",
       "      <td>-501.193686</td>\n",
       "      <td>9.970366</td>\n",
       "      <td>-499.201640</td>\n",
       "      <td>7.977324</td>\n",
       "      <td>-500.255908</td>\n",
       "      <td>14.005551</td>\n",
       "      <td>-599.996129</td>\n",
       "    </tr>\n",
       "    <tr>\n",
       "      <th>4</th>\n",
       "      <td>2016-01-15 04:00:00</td>\n",
       "      <td>6.148599</td>\n",
       "      <td>10.142511</td>\n",
       "      <td>4.939416</td>\n",
       "      <td>42.774141</td>\n",
       "      <td>66.927016</td>\n",
       "      <td>10.360302</td>\n",
       "      <td>0.792826</td>\n",
       "      <td>16.525686</td>\n",
       "      <td>2.055292</td>\n",
       "      <td>...</td>\n",
       "      <td>14.027298</td>\n",
       "      <td>-499.838632</td>\n",
       "      <td>11.953070</td>\n",
       "      <td>-501.053894</td>\n",
       "      <td>9.925709</td>\n",
       "      <td>-501.686727</td>\n",
       "      <td>7.894242</td>\n",
       "      <td>-500.356035</td>\n",
       "      <td>13.996647</td>\n",
       "      <td>-601.496691</td>\n",
       "    </tr>\n",
       "  </tbody>\n",
       "</table>\n",
       "<p>5 rows × 87 columns</p>\n",
       "</div>"
      ],
      "text/plain": [
       "                  date  final.output.concentrate_ag  \\\n",
       "0  2016-01-15 00:00:00                     6.055403   \n",
       "1  2016-01-15 01:00:00                     6.029369   \n",
       "2  2016-01-15 02:00:00                     6.055926   \n",
       "3  2016-01-15 03:00:00                     6.047977   \n",
       "4  2016-01-15 04:00:00                     6.148599   \n",
       "\n",
       "   final.output.concentrate_pb  final.output.concentrate_sol  \\\n",
       "0                     9.889648                      5.507324   \n",
       "1                     9.968944                      5.257781   \n",
       "2                    10.213995                      5.383759   \n",
       "3                     9.977019                      4.858634   \n",
       "4                    10.142511                      4.939416   \n",
       "\n",
       "   final.output.concentrate_au  final.output.recovery  final.output.tail_ag  \\\n",
       "0                    42.192020              70.541216             10.411962   \n",
       "1                    42.701629              69.266198             10.462676   \n",
       "2                    42.657501              68.116445             10.507046   \n",
       "3                    42.689819              68.347543             10.422762   \n",
       "4                    42.774141              66.927016             10.360302   \n",
       "\n",
       "   final.output.tail_pb  final.output.tail_sol  final.output.tail_au  ...  \\\n",
       "0              0.895447              16.904297              2.143149  ...   \n",
       "1              0.927452              16.634514              2.224930  ...   \n",
       "2              0.953716              16.208849              2.257889  ...   \n",
       "3              0.883763              16.532835              2.146849  ...   \n",
       "4              0.792826              16.525686              2.055292  ...   \n",
       "\n",
       "   secondary_cleaner.state.floatbank4_a_air  \\\n",
       "0                                 14.016835   \n",
       "1                                 13.992281   \n",
       "2                                 14.015015   \n",
       "3                                 14.036510   \n",
       "4                                 14.027298   \n",
       "\n",
       "   secondary_cleaner.state.floatbank4_a_level  \\\n",
       "0                                 -502.488007   \n",
       "1                                 -505.503262   \n",
       "2                                 -502.520901   \n",
       "3                                 -500.857308   \n",
       "4                                 -499.838632   \n",
       "\n",
       "   secondary_cleaner.state.floatbank4_b_air  \\\n",
       "0                                 12.099931   \n",
       "1                                 11.950531   \n",
       "2                                 11.912783   \n",
       "3                                 11.999550   \n",
       "4                                 11.953070   \n",
       "\n",
       "   secondary_cleaner.state.floatbank4_b_level  \\\n",
       "0                                 -504.715942   \n",
       "1                                 -501.331529   \n",
       "2                                 -501.133383   \n",
       "3                                 -501.193686   \n",
       "4                                 -501.053894   \n",
       "\n",
       "   secondary_cleaner.state.floatbank5_a_air  \\\n",
       "0                                  9.925633   \n",
       "1                                 10.039245   \n",
       "2                                 10.070913   \n",
       "3                                  9.970366   \n",
       "4                                  9.925709   \n",
       "\n",
       "   secondary_cleaner.state.floatbank5_a_level  \\\n",
       "0                                 -498.310211   \n",
       "1                                 -500.169983   \n",
       "2                                 -500.129135   \n",
       "3                                 -499.201640   \n",
       "4                                 -501.686727   \n",
       "\n",
       "   secondary_cleaner.state.floatbank5_b_air  \\\n",
       "0                                  8.079666   \n",
       "1                                  7.984757   \n",
       "2                                  8.013877   \n",
       "3                                  7.977324   \n",
       "4                                  7.894242   \n",
       "\n",
       "   secondary_cleaner.state.floatbank5_b_level  \\\n",
       "0                                 -500.470978   \n",
       "1                                 -500.582168   \n",
       "2                                 -500.517572   \n",
       "3                                 -500.255908   \n",
       "4                                 -500.356035   \n",
       "\n",
       "   secondary_cleaner.state.floatbank6_a_air  \\\n",
       "0                                 14.151341   \n",
       "1                                 13.998353   \n",
       "2                                 14.028663   \n",
       "3                                 14.005551   \n",
       "4                                 13.996647   \n",
       "\n",
       "   secondary_cleaner.state.floatbank6_a_level  \n",
       "0                                 -605.841980  \n",
       "1                                 -599.787184  \n",
       "2                                 -601.427363  \n",
       "3                                 -599.996129  \n",
       "4                                 -601.496691  \n",
       "\n",
       "[5 rows x 87 columns]"
      ]
     },
     "execution_count": 6,
     "metadata": {},
     "output_type": "execute_result"
    }
   ],
   "source": [
    "data_full.head()"
   ]
  },
  {
   "cell_type": "markdown",
   "metadata": {},
   "source": [
    "Выведем основную информацию датафреймов:"
   ]
  },
  {
   "cell_type": "code",
   "execution_count": 7,
   "metadata": {},
   "outputs": [
    {
     "name": "stdout",
     "output_type": "stream",
     "text": [
      "<class 'pandas.core.frame.DataFrame'>\n",
      "RangeIndex: 14149 entries, 0 to 14148\n",
      "Data columns (total 87 columns):\n",
      " #   Column                                              Non-Null Count  Dtype  \n",
      "---  ------                                              --------------  -----  \n",
      " 0   date                                                14149 non-null  object \n",
      " 1   final.output.concentrate_ag                         14148 non-null  float64\n",
      " 2   final.output.concentrate_pb                         14148 non-null  float64\n",
      " 3   final.output.concentrate_sol                        13938 non-null  float64\n",
      " 4   final.output.concentrate_au                         14149 non-null  float64\n",
      " 5   final.output.recovery                               14149 non-null  float64\n",
      " 6   final.output.tail_ag                                14149 non-null  float64\n",
      " 7   final.output.tail_pb                                14049 non-null  float64\n",
      " 8   final.output.tail_sol                               14144 non-null  float64\n",
      " 9   final.output.tail_au                                14149 non-null  float64\n",
      " 10  primary_cleaner.input.sulfate                       14129 non-null  float64\n",
      " 11  primary_cleaner.input.depressant                    14117 non-null  float64\n",
      " 12  primary_cleaner.input.feed_size                     14149 non-null  float64\n",
      " 13  primary_cleaner.input.xanthate                      14049 non-null  float64\n",
      " 14  primary_cleaner.output.concentrate_ag               14149 non-null  float64\n",
      " 15  primary_cleaner.output.concentrate_pb               14063 non-null  float64\n",
      " 16  primary_cleaner.output.concentrate_sol              13863 non-null  float64\n",
      " 17  primary_cleaner.output.concentrate_au               14149 non-null  float64\n",
      " 18  primary_cleaner.output.tail_ag                      14148 non-null  float64\n",
      " 19  primary_cleaner.output.tail_pb                      14134 non-null  float64\n",
      " 20  primary_cleaner.output.tail_sol                     14103 non-null  float64\n",
      " 21  primary_cleaner.output.tail_au                      14149 non-null  float64\n",
      " 22  primary_cleaner.state.floatbank8_a_air              14145 non-null  float64\n",
      " 23  primary_cleaner.state.floatbank8_a_level            14148 non-null  float64\n",
      " 24  primary_cleaner.state.floatbank8_b_air              14145 non-null  float64\n",
      " 25  primary_cleaner.state.floatbank8_b_level            14148 non-null  float64\n",
      " 26  primary_cleaner.state.floatbank8_c_air              14147 non-null  float64\n",
      " 27  primary_cleaner.state.floatbank8_c_level            14148 non-null  float64\n",
      " 28  primary_cleaner.state.floatbank8_d_air              14146 non-null  float64\n",
      " 29  primary_cleaner.state.floatbank8_d_level            14148 non-null  float64\n",
      " 30  rougher.calculation.sulfate_to_au_concentrate       14148 non-null  float64\n",
      " 31  rougher.calculation.floatbank10_sulfate_to_au_feed  14148 non-null  float64\n",
      " 32  rougher.calculation.floatbank11_sulfate_to_au_feed  14148 non-null  float64\n",
      " 33  rougher.calculation.au_pb_ratio                     14149 non-null  float64\n",
      " 34  rougher.input.feed_ag                               14149 non-null  float64\n",
      " 35  rougher.input.feed_pb                               14049 non-null  float64\n",
      " 36  rougher.input.feed_rate                             14141 non-null  float64\n",
      " 37  rougher.input.feed_size                             14005 non-null  float64\n",
      " 38  rougher.input.feed_sol                              14071 non-null  float64\n",
      " 39  rougher.input.feed_au                               14149 non-null  float64\n",
      " 40  rougher.input.floatbank10_sulfate                   14120 non-null  float64\n",
      " 41  rougher.input.floatbank10_xanthate                  14141 non-null  float64\n",
      " 42  rougher.input.floatbank11_sulfate                   14113 non-null  float64\n",
      " 43  rougher.input.floatbank11_xanthate                  13721 non-null  float64\n",
      " 44  rougher.output.concentrate_ag                       14149 non-null  float64\n",
      " 45  rougher.output.concentrate_pb                       14149 non-null  float64\n",
      " 46  rougher.output.concentrate_sol                      14127 non-null  float64\n",
      " 47  rougher.output.concentrate_au                       14149 non-null  float64\n",
      " 48  rougher.output.recovery                             14149 non-null  float64\n",
      " 49  rougher.output.tail_ag                              14148 non-null  float64\n",
      " 50  rougher.output.tail_pb                              14149 non-null  float64\n",
      " 51  rougher.output.tail_sol                             14149 non-null  float64\n",
      " 52  rougher.output.tail_au                              14149 non-null  float64\n",
      " 53  rougher.state.floatbank10_a_air                     14148 non-null  float64\n",
      " 54  rougher.state.floatbank10_a_level                   14148 non-null  float64\n",
      " 55  rougher.state.floatbank10_b_air                     14148 non-null  float64\n",
      " 56  rougher.state.floatbank10_b_level                   14148 non-null  float64\n",
      " 57  rougher.state.floatbank10_c_air                     14148 non-null  float64\n",
      " 58  rougher.state.floatbank10_c_level                   14148 non-null  float64\n",
      " 59  rougher.state.floatbank10_d_air                     14149 non-null  float64\n",
      " 60  rougher.state.floatbank10_d_level                   14149 non-null  float64\n",
      " 61  rougher.state.floatbank10_e_air                     13713 non-null  float64\n",
      " 62  rougher.state.floatbank10_e_level                   14149 non-null  float64\n",
      " 63  rougher.state.floatbank10_f_air                     14149 non-null  float64\n",
      " 64  rougher.state.floatbank10_f_level                   14149 non-null  float64\n",
      " 65  secondary_cleaner.output.tail_ag                    14147 non-null  float64\n",
      " 66  secondary_cleaner.output.tail_pb                    14139 non-null  float64\n",
      " 67  secondary_cleaner.output.tail_sol                   12544 non-null  float64\n",
      " 68  secondary_cleaner.output.tail_au                    14149 non-null  float64\n",
      " 69  secondary_cleaner.state.floatbank2_a_air            13932 non-null  float64\n",
      " 70  secondary_cleaner.state.floatbank2_a_level          14148 non-null  float64\n",
      " 71  secondary_cleaner.state.floatbank2_b_air            14128 non-null  float64\n",
      " 72  secondary_cleaner.state.floatbank2_b_level          14148 non-null  float64\n",
      " 73  secondary_cleaner.state.floatbank3_a_air            14145 non-null  float64\n",
      " 74  secondary_cleaner.state.floatbank3_a_level          14148 non-null  float64\n",
      " 75  secondary_cleaner.state.floatbank3_b_air            14148 non-null  float64\n",
      " 76  secondary_cleaner.state.floatbank3_b_level          14148 non-null  float64\n",
      " 77  secondary_cleaner.state.floatbank4_a_air            14143 non-null  float64\n",
      " 78  secondary_cleaner.state.floatbank4_a_level          14148 non-null  float64\n",
      " 79  secondary_cleaner.state.floatbank4_b_air            14148 non-null  float64\n",
      " 80  secondary_cleaner.state.floatbank4_b_level          14148 non-null  float64\n",
      " 81  secondary_cleaner.state.floatbank5_a_air            14148 non-null  float64\n",
      " 82  secondary_cleaner.state.floatbank5_a_level          14148 non-null  float64\n",
      " 83  secondary_cleaner.state.floatbank5_b_air            14148 non-null  float64\n",
      " 84  secondary_cleaner.state.floatbank5_b_level          14148 non-null  float64\n",
      " 85  secondary_cleaner.state.floatbank6_a_air            14147 non-null  float64\n",
      " 86  secondary_cleaner.state.floatbank6_a_level          14148 non-null  float64\n",
      "dtypes: float64(86), object(1)\n",
      "memory usage: 9.4+ MB\n",
      "None\n",
      "<class 'pandas.core.frame.DataFrame'>\n",
      "RangeIndex: 5290 entries, 0 to 5289\n",
      "Data columns (total 53 columns):\n",
      " #   Column                                      Non-Null Count  Dtype  \n",
      "---  ------                                      --------------  -----  \n",
      " 0   date                                        5290 non-null   object \n",
      " 1   primary_cleaner.input.sulfate               5286 non-null   float64\n",
      " 2   primary_cleaner.input.depressant            5285 non-null   float64\n",
      " 3   primary_cleaner.input.feed_size             5290 non-null   float64\n",
      " 4   primary_cleaner.input.xanthate              5286 non-null   float64\n",
      " 5   primary_cleaner.state.floatbank8_a_air      5290 non-null   float64\n",
      " 6   primary_cleaner.state.floatbank8_a_level    5290 non-null   float64\n",
      " 7   primary_cleaner.state.floatbank8_b_air      5290 non-null   float64\n",
      " 8   primary_cleaner.state.floatbank8_b_level    5290 non-null   float64\n",
      " 9   primary_cleaner.state.floatbank8_c_air      5290 non-null   float64\n",
      " 10  primary_cleaner.state.floatbank8_c_level    5290 non-null   float64\n",
      " 11  primary_cleaner.state.floatbank8_d_air      5290 non-null   float64\n",
      " 12  primary_cleaner.state.floatbank8_d_level    5290 non-null   float64\n",
      " 13  rougher.input.feed_ag                       5290 non-null   float64\n",
      " 14  rougher.input.feed_pb                       5290 non-null   float64\n",
      " 15  rougher.input.feed_rate                     5287 non-null   float64\n",
      " 16  rougher.input.feed_size                     5289 non-null   float64\n",
      " 17  rougher.input.feed_sol                      5269 non-null   float64\n",
      " 18  rougher.input.feed_au                       5290 non-null   float64\n",
      " 19  rougher.input.floatbank10_sulfate           5285 non-null   float64\n",
      " 20  rougher.input.floatbank10_xanthate          5290 non-null   float64\n",
      " 21  rougher.input.floatbank11_sulfate           5282 non-null   float64\n",
      " 22  rougher.input.floatbank11_xanthate          5265 non-null   float64\n",
      " 23  rougher.state.floatbank10_a_air             5290 non-null   float64\n",
      " 24  rougher.state.floatbank10_a_level           5290 non-null   float64\n",
      " 25  rougher.state.floatbank10_b_air             5290 non-null   float64\n",
      " 26  rougher.state.floatbank10_b_level           5290 non-null   float64\n",
      " 27  rougher.state.floatbank10_c_air             5290 non-null   float64\n",
      " 28  rougher.state.floatbank10_c_level           5290 non-null   float64\n",
      " 29  rougher.state.floatbank10_d_air             5290 non-null   float64\n",
      " 30  rougher.state.floatbank10_d_level           5290 non-null   float64\n",
      " 31  rougher.state.floatbank10_e_air             5290 non-null   float64\n",
      " 32  rougher.state.floatbank10_e_level           5290 non-null   float64\n",
      " 33  rougher.state.floatbank10_f_air             5290 non-null   float64\n",
      " 34  rougher.state.floatbank10_f_level           5290 non-null   float64\n",
      " 35  secondary_cleaner.state.floatbank2_a_air    5287 non-null   float64\n",
      " 36  secondary_cleaner.state.floatbank2_a_level  5290 non-null   float64\n",
      " 37  secondary_cleaner.state.floatbank2_b_air    5288 non-null   float64\n",
      " 38  secondary_cleaner.state.floatbank2_b_level  5290 non-null   float64\n",
      " 39  secondary_cleaner.state.floatbank3_a_air    5281 non-null   float64\n",
      " 40  secondary_cleaner.state.floatbank3_a_level  5290 non-null   float64\n",
      " 41  secondary_cleaner.state.floatbank3_b_air    5290 non-null   float64\n",
      " 42  secondary_cleaner.state.floatbank3_b_level  5290 non-null   float64\n",
      " 43  secondary_cleaner.state.floatbank4_a_air    5290 non-null   float64\n",
      " 44  secondary_cleaner.state.floatbank4_a_level  5290 non-null   float64\n",
      " 45  secondary_cleaner.state.floatbank4_b_air    5290 non-null   float64\n",
      " 46  secondary_cleaner.state.floatbank4_b_level  5290 non-null   float64\n",
      " 47  secondary_cleaner.state.floatbank5_a_air    5290 non-null   float64\n",
      " 48  secondary_cleaner.state.floatbank5_a_level  5290 non-null   float64\n",
      " 49  secondary_cleaner.state.floatbank5_b_air    5290 non-null   float64\n",
      " 50  secondary_cleaner.state.floatbank5_b_level  5290 non-null   float64\n",
      " 51  secondary_cleaner.state.floatbank6_a_air    5290 non-null   float64\n",
      " 52  secondary_cleaner.state.floatbank6_a_level  5290 non-null   float64\n",
      "dtypes: float64(52), object(1)\n",
      "memory usage: 2.1+ MB\n",
      "None\n",
      "<class 'pandas.core.frame.DataFrame'>\n",
      "RangeIndex: 19439 entries, 0 to 19438\n",
      "Data columns (total 87 columns):\n",
      " #   Column                                              Non-Null Count  Dtype  \n",
      "---  ------                                              --------------  -----  \n",
      " 0   date                                                19439 non-null  object \n",
      " 1   final.output.concentrate_ag                         19438 non-null  float64\n",
      " 2   final.output.concentrate_pb                         19438 non-null  float64\n",
      " 3   final.output.concentrate_sol                        19228 non-null  float64\n",
      " 4   final.output.concentrate_au                         19439 non-null  float64\n",
      " 5   final.output.recovery                               19439 non-null  float64\n",
      " 6   final.output.tail_ag                                19438 non-null  float64\n",
      " 7   final.output.tail_pb                                19338 non-null  float64\n",
      " 8   final.output.tail_sol                               19433 non-null  float64\n",
      " 9   final.output.tail_au                                19439 non-null  float64\n",
      " 10  primary_cleaner.input.sulfate                       19415 non-null  float64\n",
      " 11  primary_cleaner.input.depressant                    19402 non-null  float64\n",
      " 12  primary_cleaner.input.feed_size                     19439 non-null  float64\n",
      " 13  primary_cleaner.input.xanthate                      19335 non-null  float64\n",
      " 14  primary_cleaner.output.concentrate_ag               19439 non-null  float64\n",
      " 15  primary_cleaner.output.concentrate_pb               19323 non-null  float64\n",
      " 16  primary_cleaner.output.concentrate_sol              19069 non-null  float64\n",
      " 17  primary_cleaner.output.concentrate_au               19439 non-null  float64\n",
      " 18  primary_cleaner.output.tail_ag                      19435 non-null  float64\n",
      " 19  primary_cleaner.output.tail_pb                      19418 non-null  float64\n",
      " 20  primary_cleaner.output.tail_sol                     19377 non-null  float64\n",
      " 21  primary_cleaner.output.tail_au                      19439 non-null  float64\n",
      " 22  primary_cleaner.state.floatbank8_a_air              19435 non-null  float64\n",
      " 23  primary_cleaner.state.floatbank8_a_level            19438 non-null  float64\n",
      " 24  primary_cleaner.state.floatbank8_b_air              19435 non-null  float64\n",
      " 25  primary_cleaner.state.floatbank8_b_level            19438 non-null  float64\n",
      " 26  primary_cleaner.state.floatbank8_c_air              19437 non-null  float64\n",
      " 27  primary_cleaner.state.floatbank8_c_level            19438 non-null  float64\n",
      " 28  primary_cleaner.state.floatbank8_d_air              19436 non-null  float64\n",
      " 29  primary_cleaner.state.floatbank8_d_level            19438 non-null  float64\n",
      " 30  rougher.calculation.sulfate_to_au_concentrate       19437 non-null  float64\n",
      " 31  rougher.calculation.floatbank10_sulfate_to_au_feed  19437 non-null  float64\n",
      " 32  rougher.calculation.floatbank11_sulfate_to_au_feed  19437 non-null  float64\n",
      " 33  rougher.calculation.au_pb_ratio                     19439 non-null  float64\n",
      " 34  rougher.input.feed_ag                               19439 non-null  float64\n",
      " 35  rougher.input.feed_pb                               19339 non-null  float64\n",
      " 36  rougher.input.feed_rate                             19428 non-null  float64\n",
      " 37  rougher.input.feed_size                             19294 non-null  float64\n",
      " 38  rougher.input.feed_sol                              19340 non-null  float64\n",
      " 39  rougher.input.feed_au                               19439 non-null  float64\n",
      " 40  rougher.input.floatbank10_sulfate                   19405 non-null  float64\n",
      " 41  rougher.input.floatbank10_xanthate                  19431 non-null  float64\n",
      " 42  rougher.input.floatbank11_sulfate                   19395 non-null  float64\n",
      " 43  rougher.input.floatbank11_xanthate                  18986 non-null  float64\n",
      " 44  rougher.output.concentrate_ag                       19439 non-null  float64\n",
      " 45  rougher.output.concentrate_pb                       19439 non-null  float64\n",
      " 46  rougher.output.concentrate_sol                      19416 non-null  float64\n",
      " 47  rougher.output.concentrate_au                       19439 non-null  float64\n",
      " 48  rougher.output.recovery                             19439 non-null  float64\n",
      " 49  rougher.output.tail_ag                              19438 non-null  float64\n",
      " 50  rougher.output.tail_pb                              19439 non-null  float64\n",
      " 51  rougher.output.tail_sol                             19439 non-null  float64\n",
      " 52  rougher.output.tail_au                              19439 non-null  float64\n",
      " 53  rougher.state.floatbank10_a_air                     19438 non-null  float64\n",
      " 54  rougher.state.floatbank10_a_level                   19438 non-null  float64\n",
      " 55  rougher.state.floatbank10_b_air                     19438 non-null  float64\n",
      " 56  rougher.state.floatbank10_b_level                   19438 non-null  float64\n",
      " 57  rougher.state.floatbank10_c_air                     19438 non-null  float64\n",
      " 58  rougher.state.floatbank10_c_level                   19438 non-null  float64\n",
      " 59  rougher.state.floatbank10_d_air                     19439 non-null  float64\n",
      " 60  rougher.state.floatbank10_d_level                   19439 non-null  float64\n",
      " 61  rougher.state.floatbank10_e_air                     19003 non-null  float64\n",
      " 62  rougher.state.floatbank10_e_level                   19439 non-null  float64\n",
      " 63  rougher.state.floatbank10_f_air                     19439 non-null  float64\n",
      " 64  rougher.state.floatbank10_f_level                   19439 non-null  float64\n",
      " 65  secondary_cleaner.output.tail_ag                    19437 non-null  float64\n",
      " 66  secondary_cleaner.output.tail_pb                    19427 non-null  float64\n",
      " 67  secondary_cleaner.output.tail_sol                   17691 non-null  float64\n",
      " 68  secondary_cleaner.output.tail_au                    19439 non-null  float64\n",
      " 69  secondary_cleaner.state.floatbank2_a_air            19219 non-null  float64\n",
      " 70  secondary_cleaner.state.floatbank2_a_level          19438 non-null  float64\n",
      " 71  secondary_cleaner.state.floatbank2_b_air            19416 non-null  float64\n",
      " 72  secondary_cleaner.state.floatbank2_b_level          19438 non-null  float64\n",
      " 73  secondary_cleaner.state.floatbank3_a_air            19426 non-null  float64\n",
      " 74  secondary_cleaner.state.floatbank3_a_level          19438 non-null  float64\n",
      " 75  secondary_cleaner.state.floatbank3_b_air            19438 non-null  float64\n",
      " 76  secondary_cleaner.state.floatbank3_b_level          19438 non-null  float64\n",
      " 77  secondary_cleaner.state.floatbank4_a_air            19433 non-null  float64\n",
      " 78  secondary_cleaner.state.floatbank4_a_level          19438 non-null  float64\n",
      " 79  secondary_cleaner.state.floatbank4_b_air            19438 non-null  float64\n",
      " 80  secondary_cleaner.state.floatbank4_b_level          19438 non-null  float64\n",
      " 81  secondary_cleaner.state.floatbank5_a_air            19438 non-null  float64\n",
      " 82  secondary_cleaner.state.floatbank5_a_level          19438 non-null  float64\n",
      " 83  secondary_cleaner.state.floatbank5_b_air            19438 non-null  float64\n",
      " 84  secondary_cleaner.state.floatbank5_b_level          19438 non-null  float64\n",
      " 85  secondary_cleaner.state.floatbank6_a_air            19437 non-null  float64\n",
      " 86  secondary_cleaner.state.floatbank6_a_level          19438 non-null  float64\n",
      "dtypes: float64(86), object(1)\n",
      "memory usage: 12.9+ MB\n",
      "None\n"
     ]
    }
   ],
   "source": [
    "for data in [data_train, data_test, data_full]:\n",
    "    print(data.info())"
   ]
  },
  {
   "cell_type": "code",
   "execution_count": 8,
   "metadata": {},
   "outputs": [
    {
     "name": "stdout",
     "output_type": "stream",
     "text": [
      "       final.output.concentrate_ag  final.output.concentrate_pb  \\\n",
      "count                 14148.000000                 14148.000000   \n",
      "mean                      5.142034                    10.132960   \n",
      "std                       1.369586                     1.654930   \n",
      "min                       0.000000                     0.000000   \n",
      "25%                       4.211620                     9.297355   \n",
      "50%                       4.994652                    10.297144   \n",
      "75%                       5.859540                    11.170603   \n",
      "max                      16.001945                    17.031899   \n",
      "\n",
      "       final.output.concentrate_sol  final.output.concentrate_au  \\\n",
      "count                  13938.000000                 14149.000000   \n",
      "mean                       9.202849                    44.003792   \n",
      "std                        2.790516                     4.905261   \n",
      "min                        0.000000                     0.000000   \n",
      "25%                        7.484645                    43.276111   \n",
      "50%                        8.845462                    44.872436   \n",
      "75%                       10.487508                    46.166425   \n",
      "max                       18.124851                    52.756638   \n",
      "\n",
      "       final.output.recovery  final.output.tail_ag  final.output.tail_pb  \\\n",
      "count           14149.000000          14149.000000          14049.000000   \n",
      "mean               66.518832              9.607035              2.597298   \n",
      "std                10.295402              2.319069              0.971843   \n",
      "min                 0.000000              0.000000              0.000000   \n",
      "25%                62.545817              7.997429              1.905973   \n",
      "50%                67.432775              9.480270              2.592022   \n",
      "75%                72.346428             11.003707              3.241723   \n",
      "max               100.000000             19.552149              5.639565   \n",
      "\n",
      "       final.output.tail_sol  final.output.tail_au  \\\n",
      "count           14144.000000          14149.000000   \n",
      "mean               10.512122              2.918421   \n",
      "std                 3.003617              0.903712   \n",
      "min                 0.000000              0.000000   \n",
      "25%                 8.811324              2.368607   \n",
      "50%                10.514621              2.851025   \n",
      "75%                11.933009              3.434764   \n",
      "max                22.317730              8.197408   \n",
      "\n",
      "       primary_cleaner.input.sulfate  ...  \\\n",
      "count                   14129.000000  ...   \n",
      "mean                      133.320659  ...   \n",
      "std                        39.431659  ...   \n",
      "min                         0.003112  ...   \n",
      "25%                       107.006651  ...   \n",
      "50%                       133.018328  ...   \n",
      "75%                       159.825396  ...   \n",
      "max                       250.127834  ...   \n",
      "\n",
      "       secondary_cleaner.state.floatbank4_a_air  \\\n",
      "count                              14143.000000   \n",
      "mean                                  19.985454   \n",
      "std                                    5.657723   \n",
      "min                                    0.000000   \n",
      "25%                                   14.990775   \n",
      "50%                                   20.001789   \n",
      "75%                                   24.990826   \n",
      "max                                   30.115735   \n",
      "\n",
      "       secondary_cleaner.state.floatbank4_a_level  \\\n",
      "count                                14148.000000   \n",
      "mean                                  -478.696836   \n",
      "std                                     50.736021   \n",
      "min                                   -799.709069   \n",
      "25%                                   -500.628656   \n",
      "50%                                   -499.681450   \n",
      "75%                                   -477.472413   \n",
      "max                                   -245.239184   \n",
      "\n",
      "       secondary_cleaner.state.floatbank4_b_air  \\\n",
      "count                              14148.000000   \n",
      "mean                                  15.487065   \n",
      "std                                    5.255655   \n",
      "min                                    0.000000   \n",
      "25%                                   11.894558   \n",
      "50%                                   14.975536   \n",
      "75%                                   20.059375   \n",
      "max                                   24.007913   \n",
      "\n",
      "       secondary_cleaner.state.floatbank4_b_level  \\\n",
      "count                                14148.000000   \n",
      "mean                                  -460.229416   \n",
      "std                                     58.843586   \n",
      "min                                   -799.889113   \n",
      "25%                                   -500.149000   \n",
      "50%                                   -499.388738   \n",
      "75%                                   -400.039008   \n",
      "max                                   -145.071088   \n",
      "\n",
      "       secondary_cleaner.state.floatbank5_a_air  \\\n",
      "count                              14148.000000   \n",
      "mean                                  16.775136   \n",
      "std                                    5.831906   \n",
      "min                                   -0.372054   \n",
      "25%                                   11.083980   \n",
      "50%                                   17.932223   \n",
      "75%                                   21.346550   \n",
      "max                                   43.709931   \n",
      "\n",
      "       secondary_cleaner.state.floatbank5_a_level  \\\n",
      "count                                14148.000000   \n",
      "mean                                  -483.956022   \n",
      "std                                     37.892788   \n",
      "min                                   -797.142475   \n",
      "25%                                   -500.363177   \n",
      "50%                                   -499.702452   \n",
      "75%                                   -487.712108   \n",
      "max                                   -275.073125   \n",
      "\n",
      "       secondary_cleaner.state.floatbank5_b_air  \\\n",
      "count                              14148.000000   \n",
      "mean                                  13.064590   \n",
      "std                                    5.765617   \n",
      "min                                    0.646208   \n",
      "25%                                    8.994405   \n",
      "50%                                   11.997547   \n",
      "75%                                   17.982903   \n",
      "max                                   27.926001   \n",
      "\n",
      "       secondary_cleaner.state.floatbank5_b_level  \\\n",
      "count                                14148.000000   \n",
      "mean                                  -483.966564   \n",
      "std                                     39.207913   \n",
      "min                                   -800.006180   \n",
      "25%                                   -500.105994   \n",
      "50%                                   -499.914556   \n",
      "75%                                   -453.186936   \n",
      "max                                   -157.396071   \n",
      "\n",
      "       secondary_cleaner.state.floatbank6_a_air  \\\n",
      "count                              14147.000000   \n",
      "mean                                  19.577539   \n",
      "std                                    5.764417   \n",
      "min                                    0.195324   \n",
      "25%                                   14.989304   \n",
      "50%                                   19.984175   \n",
      "75%                                   24.991623   \n",
      "max                                   32.188906   \n",
      "\n",
      "       secondary_cleaner.state.floatbank6_a_level  \n",
      "count                                14148.000000  \n",
      "mean                                  -506.798480  \n",
      "std                                     37.079249  \n",
      "min                                   -809.398668  \n",
      "25%                                   -500.745104  \n",
      "50%                                   -500.061431  \n",
      "75%                                   -499.536466  \n",
      "max                                   -104.427459  \n",
      "\n",
      "[8 rows x 86 columns]\n",
      "       primary_cleaner.input.sulfate  primary_cleaner.input.depressant  \\\n",
      "count                    5286.000000                       5285.000000   \n",
      "mean                      174.839652                          8.683596   \n",
      "std                        43.027080                          3.072050   \n",
      "min                         2.566156                          0.003839   \n",
      "25%                       147.121401                          6.489555   \n",
      "50%                       177.828489                          8.052207   \n",
      "75%                       208.125438                         10.027764   \n",
      "max                       265.983123                         40.000000   \n",
      "\n",
      "       primary_cleaner.input.feed_size  primary_cleaner.input.xanthate  \\\n",
      "count                      5290.000000                     5286.000000   \n",
      "mean                          7.266339                        1.383803   \n",
      "std                           0.610219                        0.643474   \n",
      "min                           5.650000                        0.004984   \n",
      "25%                           6.890000                        0.907623   \n",
      "50%                           7.250000                        1.197610   \n",
      "75%                           7.600000                        1.797819   \n",
      "max                          15.500000                        4.102454   \n",
      "\n",
      "       primary_cleaner.state.floatbank8_a_air  \\\n",
      "count                            5.290000e+03   \n",
      "mean                             1.539494e+03   \n",
      "std                              1.167979e+02   \n",
      "min                              5.445860e-32   \n",
      "25%                              1.498936e+03   \n",
      "50%                              1.585129e+03   \n",
      "75%                              1.602077e+03   \n",
      "max                              2.103104e+03   \n",
      "\n",
      "       primary_cleaner.state.floatbank8_a_level  \\\n",
      "count                               5290.000000   \n",
      "mean                                -497.665883   \n",
      "std                                   19.952431   \n",
      "min                                 -795.316337   \n",
      "25%                                 -500.357298   \n",
      "50%                                 -499.969164   \n",
      "75%                                 -499.568951   \n",
      "max                                  -57.195404   \n",
      "\n",
      "       primary_cleaner.state.floatbank8_b_air  \\\n",
      "count                            5.290000e+03   \n",
      "mean                             1.545174e+03   \n",
      "std                              1.222246e+02   \n",
      "min                              6.647490e-32   \n",
      "25%                              1.498971e+03   \n",
      "50%                              1.595622e+03   \n",
      "75%                              1.602324e+03   \n",
      "max                              1.813084e+03   \n",
      "\n",
      "       primary_cleaner.state.floatbank8_b_level  \\\n",
      "count                               5290.000000   \n",
      "mean                                -500.273098   \n",
      "std                                   32.968307   \n",
      "min                                 -799.997015   \n",
      "25%                                 -500.703002   \n",
      "50%                                 -500.028514   \n",
      "75%                                 -499.293257   \n",
      "max                                 -142.527229   \n",
      "\n",
      "       primary_cleaner.state.floatbank8_c_air  \\\n",
      "count                            5.290000e+03   \n",
      "mean                             1.527272e+03   \n",
      "std                              1.225380e+02   \n",
      "min                              4.033736e-32   \n",
      "25%                              1.473230e+03   \n",
      "50%                              1.549595e+03   \n",
      "75%                              1.601144e+03   \n",
      "max                              1.715054e+03   \n",
      "\n",
      "       primary_cleaner.state.floatbank8_c_level  ...  \\\n",
      "count                               5290.000000  ...   \n",
      "mean                                -498.330680  ...   \n",
      "std                                   21.964876  ...   \n",
      "min                                 -799.960571  ...   \n",
      "25%                                 -501.018117  ...   \n",
      "50%                                 -500.017711  ...   \n",
      "75%                                 -498.994130  ...   \n",
      "max                                 -150.937035  ...   \n",
      "\n",
      "       secondary_cleaner.state.floatbank4_a_air  \\\n",
      "count                              5.290000e+03   \n",
      "mean                               1.632007e+01   \n",
      "std                                3.493583e+00   \n",
      "min                                1.079872e-16   \n",
      "25%                                1.403618e+01   \n",
      "50%                                1.700847e+01   \n",
      "75%                                1.803862e+01   \n",
      "max                                3.005180e+01   \n",
      "\n",
      "       secondary_cleaner.state.floatbank4_a_level  \\\n",
      "count                                 5290.000000   \n",
      "mean                                  -505.144570   \n",
      "std                                     31.427337   \n",
      "min                                   -799.798523   \n",
      "25%                                   -500.868258   \n",
      "50%                                   -500.115727   \n",
      "75%                                   -499.404224   \n",
      "max                                   -401.565212   \n",
      "\n",
      "       secondary_cleaner.state.floatbank4_b_air  \\\n",
      "count                              5.290000e+03   \n",
      "mean                               1.373544e+01   \n",
      "std                                3.430484e+00   \n",
      "min                                2.489718e-17   \n",
      "25%                                1.202862e+01   \n",
      "50%                                1.496486e+01   \n",
      "75%                                1.596213e+01   \n",
      "max                                3.126971e+01   \n",
      "\n",
      "       secondary_cleaner.state.floatbank4_b_level  \\\n",
      "count                                 5290.000000   \n",
      "mean                                  -463.349858   \n",
      "std                                     86.189107   \n",
      "min                                   -800.836914   \n",
      "25%                                   -500.323028   \n",
      "50%                                   -499.576513   \n",
      "75%                                   -400.933805   \n",
      "max                                     -6.506986   \n",
      "\n",
      "       secondary_cleaner.state.floatbank5_a_air  \\\n",
      "count                               5290.000000   \n",
      "mean                                  12.804186   \n",
      "std                                    3.026591   \n",
      "min                                    0.069227   \n",
      "25%                                   10.914838   \n",
      "50%                                   12.954182   \n",
      "75%                                   15.097528   \n",
      "max                                   25.258848   \n",
      "\n",
      "       secondary_cleaner.state.floatbank5_a_level  \\\n",
      "count                                 5290.000000   \n",
      "mean                                  -501.329122   \n",
      "std                                     17.951495   \n",
      "min                                   -797.323986   \n",
      "25%                                   -500.726841   \n",
      "50%                                   -499.990332   \n",
      "75%                                   -499.283191   \n",
      "max                                   -244.483566   \n",
      "\n",
      "       secondary_cleaner.state.floatbank5_b_air  \\\n",
      "count                               5290.000000   \n",
      "mean                                   9.881145   \n",
      "std                                    2.868205   \n",
      "min                                    0.528083   \n",
      "25%                                    8.036719   \n",
      "50%                                   10.004301   \n",
      "75%                                   11.997467   \n",
      "max                                   14.086866   \n",
      "\n",
      "       secondary_cleaner.state.floatbank5_b_level  \\\n",
      "count                                 5290.000000   \n",
      "mean                                  -495.663398   \n",
      "std                                     34.535007   \n",
      "min                                   -800.220337   \n",
      "25%                                   -500.194668   \n",
      "50%                                   -499.990535   \n",
      "75%                                   -499.719913   \n",
      "max                                   -137.740004   \n",
      "\n",
      "       secondary_cleaner.state.floatbank6_a_air  \\\n",
      "count                               5290.000000   \n",
      "mean                                  17.304935   \n",
      "std                                    4.536544   \n",
      "min                                   -0.079426   \n",
      "25%                                   13.997317   \n",
      "50%                                   16.014935   \n",
      "75%                                   21.020013   \n",
      "max                                   26.705889   \n",
      "\n",
      "       secondary_cleaner.state.floatbank6_a_level  \n",
      "count                                 5290.000000  \n",
      "mean                                  -501.793193  \n",
      "std                                     39.044215  \n",
      "min                                   -809.741464  \n",
      "25%                                   -500.690984  \n",
      "50%                                   -500.007126  \n",
      "75%                                   -499.373018  \n",
      "max                                   -123.307487  \n",
      "\n",
      "[8 rows x 52 columns]\n",
      "       final.output.concentrate_ag  final.output.concentrate_pb  \\\n",
      "count                 19438.000000                 19438.000000   \n",
      "mean                      5.168470                     9.978895   \n",
      "std                       1.372348                     1.669240   \n",
      "min                       0.000000                     0.000000   \n",
      "25%                       4.251240                     9.137262   \n",
      "50%                       5.066094                    10.102433   \n",
      "75%                       5.895527                    11.035769   \n",
      "max                      16.001945                    17.031899   \n",
      "\n",
      "       final.output.concentrate_sol  final.output.concentrate_au  \\\n",
      "count                  19228.000000                 19439.000000   \n",
      "mean                       9.501224                    44.076513   \n",
      "std                        2.787537                     5.129784   \n",
      "min                        0.000000                     0.000000   \n",
      "25%                        7.722820                    43.402215   \n",
      "50%                        9.218961                    45.011244   \n",
      "75%                       10.947813                    46.275313   \n",
      "max                       19.615720                    52.756638   \n",
      "\n",
      "       final.output.recovery  final.output.tail_ag  final.output.tail_pb  \\\n",
      "count           19439.000000          19438.000000          19338.000000   \n",
      "mean               67.050208              9.688589              2.705795   \n",
      "std                10.125840              2.328642              0.949077   \n",
      "min                 0.000000              0.000000              0.000000   \n",
      "25%                63.299712              8.062878              2.040119   \n",
      "50%                68.172738              9.743623              2.748730   \n",
      "75%                72.686642             11.134294              3.333216   \n",
      "max               100.000000             19.552149              5.804178   \n",
      "\n",
      "       final.output.tail_sol  final.output.tail_au  \\\n",
      "count           19433.000000          19439.000000   \n",
      "mean               10.583728              3.042467   \n",
      "std                 2.868782              0.922808   \n",
      "min                 0.000000              0.000000   \n",
      "25%                 8.938947              2.461138   \n",
      "50%                10.622456              2.984909   \n",
      "75%                12.104271              3.571351   \n",
      "max                22.317730              8.245022   \n",
      "\n",
      "       primary_cleaner.input.sulfate  ...  \\\n",
      "count                   19415.000000  ...   \n",
      "mean                      144.624774  ...   \n",
      "std                        44.464071  ...   \n",
      "min                         0.003112  ...   \n",
      "25%                       114.107029  ...   \n",
      "50%                       143.232103  ...   \n",
      "75%                       175.075656  ...   \n",
      "max                       265.983123  ...   \n",
      "\n",
      "       secondary_cleaner.state.floatbank4_a_air  \\\n",
      "count                              19433.000000   \n",
      "mean                                  18.987674   \n",
      "std                                    5.411058   \n",
      "min                                    0.000000   \n",
      "25%                                   14.975734   \n",
      "50%                                   18.017481   \n",
      "75%                                   23.012470   \n",
      "max                                   30.115735   \n",
      "\n",
      "       secondary_cleaner.state.floatbank4_a_level  \\\n",
      "count                                19438.000000   \n",
      "mean                                  -485.894516   \n",
      "std                                     47.758570   \n",
      "min                                   -799.798523   \n",
      "25%                                   -500.704892   \n",
      "50%                                   -499.837793   \n",
      "75%                                   -498.249730   \n",
      "max                                   -245.239184   \n",
      "\n",
      "       secondary_cleaner.state.floatbank4_b_air  \\\n",
      "count                              19438.000000   \n",
      "mean                                  15.010366   \n",
      "std                                    4.890228   \n",
      "min                                    0.000000   \n",
      "25%                                   11.940294   \n",
      "50%                                   14.971014   \n",
      "75%                                   19.034162   \n",
      "max                                   31.269706   \n",
      "\n",
      "       secondary_cleaner.state.floatbank4_b_level  \\\n",
      "count                                19438.000000   \n",
      "mean                                  -461.078636   \n",
      "std                                     67.405524   \n",
      "min                                   -800.836914   \n",
      "25%                                   -500.187742   \n",
      "50%                                   -499.459786   \n",
      "75%                                   -400.118106   \n",
      "max                                     -6.506986   \n",
      "\n",
      "       secondary_cleaner.state.floatbank5_a_air  \\\n",
      "count                              19438.000000   \n",
      "mean                                  15.694452   \n",
      "std                                    5.510974   \n",
      "min                                   -0.372054   \n",
      "25%                                   10.988606   \n",
      "50%                                   15.000036   \n",
      "75%                                   18.026190   \n",
      "max                                   43.709931   \n",
      "\n",
      "       secondary_cleaner.state.floatbank5_a_level  \\\n",
      "count                                19438.000000   \n",
      "mean                                  -488.684065   \n",
      "std                                     34.533396   \n",
      "min                                   -797.323986   \n",
      "25%                                   -500.458467   \n",
      "50%                                   -499.802605   \n",
      "75%                                   -498.384187   \n",
      "max                                   -244.483566   \n",
      "\n",
      "       secondary_cleaner.state.floatbank5_b_air  \\\n",
      "count                              19438.000000   \n",
      "mean                                  12.198224   \n",
      "std                                    5.333024   \n",
      "min                                    0.528083   \n",
      "25%                                    8.971105   \n",
      "50%                                   11.019433   \n",
      "75%                                   14.019088   \n",
      "max                                   27.926001   \n",
      "\n",
      "       secondary_cleaner.state.floatbank5_b_level  \\\n",
      "count                                19438.000000   \n",
      "mean                                  -487.149827   \n",
      "std                                     38.347312   \n",
      "min                                   -800.220337   \n",
      "25%                                   -500.129462   \n",
      "50%                                   -499.935317   \n",
      "75%                                   -499.436708   \n",
      "max                                   -137.740004   \n",
      "\n",
      "       secondary_cleaner.state.floatbank6_a_air  \\\n",
      "count                              19437.000000   \n",
      "mean                                  18.959024   \n",
      "std                                    5.550498   \n",
      "min                                   -0.079426   \n",
      "25%                                   14.983037   \n",
      "50%                                   19.960541   \n",
      "75%                                   24.003170   \n",
      "max                                   32.188906   \n",
      "\n",
      "       secondary_cleaner.state.floatbank6_a_level  \n",
      "count                                19438.000000  \n",
      "mean                                  -505.436305  \n",
      "std                                     37.689057  \n",
      "min                                   -809.741464  \n",
      "25%                                   -500.728067  \n",
      "50%                                   -500.048400  \n",
      "75%                                   -499.495378  \n",
      "max                                   -104.427459  \n",
      "\n",
      "[8 rows x 86 columns]\n"
     ]
    }
   ],
   "source": [
    "for data in [data_train, data_test, data_full]:\n",
    "    print(data.describe())"
   ]
  },
  {
   "cell_type": "code",
   "execution_count": 9,
   "metadata": {},
   "outputs": [],
   "source": [
    "C = data_train['rougher.output.concentrate_au']\n",
    "F = data_train['rougher.input.feed_au']\n",
    "T = data_train['rougher.output.tail_au']\n",
    " \n",
    "data_train['rougher.output.recovery_test'] = (C * (F - T)) / (F * (C - T)) * 100"
   ]
  },
  {
   "cell_type": "markdown",
   "metadata": {},
   "source": [
    "Найдем МАЕ:"
   ]
  },
  {
   "cell_type": "code",
   "execution_count": 10,
   "metadata": {},
   "outputs": [
    {
     "data": {
      "text/plain": [
       "9.73512347450521e-15"
      ]
     },
     "execution_count": 10,
     "metadata": {},
     "output_type": "execute_result"
    }
   ],
   "source": [
    "mean_absolute_error(data_train['rougher.output.recovery'], data_train['rougher.output.recovery_test'])"
   ]
  },
  {
   "cell_type": "code",
   "execution_count": 11,
   "metadata": {},
   "outputs": [
    {
     "data": {
      "text/html": [
       "<div>\n",
       "<style scoped>\n",
       "    .dataframe tbody tr th:only-of-type {\n",
       "        vertical-align: middle;\n",
       "    }\n",
       "\n",
       "    .dataframe tbody tr th {\n",
       "        vertical-align: top;\n",
       "    }\n",
       "\n",
       "    .dataframe thead th {\n",
       "        text-align: right;\n",
       "    }\n",
       "</style>\n",
       "<table border=\"1\" class=\"dataframe\">\n",
       "  <thead>\n",
       "    <tr style=\"text-align: right;\">\n",
       "      <th></th>\n",
       "      <th>rougher.output.recovery</th>\n",
       "      <th>rougher.output.recovery_test</th>\n",
       "    </tr>\n",
       "  </thead>\n",
       "  <tbody>\n",
       "    <tr>\n",
       "      <th>0</th>\n",
       "      <td>87.107763</td>\n",
       "      <td>87.107763</td>\n",
       "    </tr>\n",
       "    <tr>\n",
       "      <th>1</th>\n",
       "      <td>86.843261</td>\n",
       "      <td>86.843261</td>\n",
       "    </tr>\n",
       "    <tr>\n",
       "      <th>2</th>\n",
       "      <td>86.842308</td>\n",
       "      <td>86.842308</td>\n",
       "    </tr>\n",
       "    <tr>\n",
       "      <th>3</th>\n",
       "      <td>87.226430</td>\n",
       "      <td>87.226430</td>\n",
       "    </tr>\n",
       "    <tr>\n",
       "      <th>4</th>\n",
       "      <td>86.688794</td>\n",
       "      <td>86.688794</td>\n",
       "    </tr>\n",
       "    <tr>\n",
       "      <th>...</th>\n",
       "      <td>...</td>\n",
       "      <td>...</td>\n",
       "    </tr>\n",
       "    <tr>\n",
       "      <th>14144</th>\n",
       "      <td>89.574376</td>\n",
       "      <td>89.574376</td>\n",
       "    </tr>\n",
       "    <tr>\n",
       "      <th>14145</th>\n",
       "      <td>87.724007</td>\n",
       "      <td>87.724007</td>\n",
       "    </tr>\n",
       "    <tr>\n",
       "      <th>14146</th>\n",
       "      <td>88.890579</td>\n",
       "      <td>88.890579</td>\n",
       "    </tr>\n",
       "    <tr>\n",
       "      <th>14147</th>\n",
       "      <td>89.858126</td>\n",
       "      <td>89.858126</td>\n",
       "    </tr>\n",
       "    <tr>\n",
       "      <th>14148</th>\n",
       "      <td>89.514960</td>\n",
       "      <td>89.514960</td>\n",
       "    </tr>\n",
       "  </tbody>\n",
       "</table>\n",
       "<p>14149 rows × 2 columns</p>\n",
       "</div>"
      ],
      "text/plain": [
       "       rougher.output.recovery  rougher.output.recovery_test\n",
       "0                    87.107763                     87.107763\n",
       "1                    86.843261                     86.843261\n",
       "2                    86.842308                     86.842308\n",
       "3                    87.226430                     87.226430\n",
       "4                    86.688794                     86.688794\n",
       "...                        ...                           ...\n",
       "14144                89.574376                     89.574376\n",
       "14145                87.724007                     87.724007\n",
       "14146                88.890579                     88.890579\n",
       "14147                89.858126                     89.858126\n",
       "14148                89.514960                     89.514960\n",
       "\n",
       "[14149 rows x 2 columns]"
      ]
     },
     "execution_count": 11,
     "metadata": {},
     "output_type": "execute_result"
    }
   ],
   "source": [
    "data_train[['rougher.output.recovery', 'rougher.output.recovery_test']]"
   ]
  },
  {
   "cell_type": "markdown",
   "metadata": {},
   "source": [
    "MAE между нашими расчётами и значением признака идентичны...из этого следует вывод, что в тестовой выборке нет целевых признаков, скорее, потому, что тестовая выборка имитирует ситуацию реального применениия модели, и на начале техпроцесса мы попросту не знаем значения целевых признаков - их мы сможем узнать только по завершении техпроцесса... "
   ]
  },
  {
   "cell_type": "markdown",
   "metadata": {},
   "source": [
    "Заполним пропуски с помощью стратегии forward fill:"
   ]
  },
  {
   "cell_type": "code",
   "execution_count": 12,
   "metadata": {},
   "outputs": [],
   "source": [
    "for data in [data_train, data_test, data_full]:\n",
    "    data.fillna(method='ffill')"
   ]
  },
  {
   "cell_type": "code",
   "execution_count": 13,
   "metadata": {},
   "outputs": [
    {
     "data": {
      "text/plain": [
       "4100"
      ]
     },
     "execution_count": 13,
     "metadata": {},
     "output_type": "execute_result"
    }
   ],
   "source": [
    "data_train.isna().sum().sum()"
   ]
  },
  {
   "cell_type": "markdown",
   "metadata": {},
   "source": [
    "Добавим в тестовую выборку целевые признаки:"
   ]
  },
  {
   "cell_type": "code",
   "execution_count": 14,
   "metadata": {},
   "outputs": [],
   "source": [
    "data_test = pd.merge(data_test, data_full[['date','rougher.output.recovery','final.output.recovery']], how='left')"
   ]
  },
  {
   "cell_type": "code",
   "execution_count": 15,
   "metadata": {},
   "outputs": [
    {
     "data": {
      "text/plain": [
       "Index(['date', 'primary_cleaner.input.sulfate',\n",
       "       'primary_cleaner.input.depressant', 'primary_cleaner.input.feed_size',\n",
       "       'primary_cleaner.input.xanthate',\n",
       "       'primary_cleaner.state.floatbank8_a_air',\n",
       "       'primary_cleaner.state.floatbank8_a_level',\n",
       "       'primary_cleaner.state.floatbank8_b_air',\n",
       "       'primary_cleaner.state.floatbank8_b_level',\n",
       "       'primary_cleaner.state.floatbank8_c_air',\n",
       "       'primary_cleaner.state.floatbank8_c_level',\n",
       "       'primary_cleaner.state.floatbank8_d_air',\n",
       "       'primary_cleaner.state.floatbank8_d_level', 'rougher.input.feed_ag',\n",
       "       'rougher.input.feed_pb', 'rougher.input.feed_rate',\n",
       "       'rougher.input.feed_size', 'rougher.input.feed_sol',\n",
       "       'rougher.input.feed_au', 'rougher.input.floatbank10_sulfate',\n",
       "       'rougher.input.floatbank10_xanthate',\n",
       "       'rougher.input.floatbank11_sulfate',\n",
       "       'rougher.input.floatbank11_xanthate', 'rougher.state.floatbank10_a_air',\n",
       "       'rougher.state.floatbank10_a_level', 'rougher.state.floatbank10_b_air',\n",
       "       'rougher.state.floatbank10_b_level', 'rougher.state.floatbank10_c_air',\n",
       "       'rougher.state.floatbank10_c_level', 'rougher.state.floatbank10_d_air',\n",
       "       'rougher.state.floatbank10_d_level', 'rougher.state.floatbank10_e_air',\n",
       "       'rougher.state.floatbank10_e_level', 'rougher.state.floatbank10_f_air',\n",
       "       'rougher.state.floatbank10_f_level',\n",
       "       'secondary_cleaner.state.floatbank2_a_air',\n",
       "       'secondary_cleaner.state.floatbank2_a_level',\n",
       "       'secondary_cleaner.state.floatbank2_b_air',\n",
       "       'secondary_cleaner.state.floatbank2_b_level',\n",
       "       'secondary_cleaner.state.floatbank3_a_air',\n",
       "       'secondary_cleaner.state.floatbank3_a_level',\n",
       "       'secondary_cleaner.state.floatbank3_b_air',\n",
       "       'secondary_cleaner.state.floatbank3_b_level',\n",
       "       'secondary_cleaner.state.floatbank4_a_air',\n",
       "       'secondary_cleaner.state.floatbank4_a_level',\n",
       "       'secondary_cleaner.state.floatbank4_b_air',\n",
       "       'secondary_cleaner.state.floatbank4_b_level',\n",
       "       'secondary_cleaner.state.floatbank5_a_air',\n",
       "       'secondary_cleaner.state.floatbank5_a_level',\n",
       "       'secondary_cleaner.state.floatbank5_b_air',\n",
       "       'secondary_cleaner.state.floatbank5_b_level',\n",
       "       'secondary_cleaner.state.floatbank6_a_air',\n",
       "       'secondary_cleaner.state.floatbank6_a_level', 'rougher.output.recovery',\n",
       "       'final.output.recovery'],\n",
       "      dtype='object')"
      ]
     },
     "execution_count": 15,
     "metadata": {},
     "output_type": "execute_result"
    }
   ],
   "source": [
    "data_test.columns"
   ]
  },
  {
   "cell_type": "markdown",
   "metadata": {},
   "source": [
    "Выполним анализ признаков, недоступных в тестовой выборке:"
   ]
  },
  {
   "cell_type": "code",
   "execution_count": 16,
   "metadata": {},
   "outputs": [
    {
     "data": {
      "text/plain": [
       "{'final.output.concentrate_ag',\n",
       " 'final.output.concentrate_au',\n",
       " 'final.output.concentrate_pb',\n",
       " 'final.output.concentrate_sol',\n",
       " 'final.output.tail_ag',\n",
       " 'final.output.tail_au',\n",
       " 'final.output.tail_pb',\n",
       " 'final.output.tail_sol',\n",
       " 'primary_cleaner.output.concentrate_ag',\n",
       " 'primary_cleaner.output.concentrate_au',\n",
       " 'primary_cleaner.output.concentrate_pb',\n",
       " 'primary_cleaner.output.concentrate_sol',\n",
       " 'primary_cleaner.output.tail_ag',\n",
       " 'primary_cleaner.output.tail_au',\n",
       " 'primary_cleaner.output.tail_pb',\n",
       " 'primary_cleaner.output.tail_sol',\n",
       " 'rougher.calculation.au_pb_ratio',\n",
       " 'rougher.calculation.floatbank10_sulfate_to_au_feed',\n",
       " 'rougher.calculation.floatbank11_sulfate_to_au_feed',\n",
       " 'rougher.calculation.sulfate_to_au_concentrate',\n",
       " 'rougher.output.concentrate_ag',\n",
       " 'rougher.output.concentrate_au',\n",
       " 'rougher.output.concentrate_pb',\n",
       " 'rougher.output.concentrate_sol',\n",
       " 'rougher.output.tail_ag',\n",
       " 'rougher.output.tail_au',\n",
       " 'rougher.output.tail_pb',\n",
       " 'rougher.output.tail_sol',\n",
       " 'secondary_cleaner.output.tail_ag',\n",
       " 'secondary_cleaner.output.tail_au',\n",
       " 'secondary_cleaner.output.tail_pb',\n",
       " 'secondary_cleaner.output.tail_sol'}"
      ]
     },
     "metadata": {},
     "output_type": "display_data"
    },
    {
     "data": {
      "text/plain": [
       "32"
      ]
     },
     "execution_count": 16,
     "metadata": {},
     "output_type": "execute_result"
    }
   ],
   "source": [
    "features_difference = set(data_full.columns) - set(data_test.columns)\n",
    "display(features_difference)\n",
    "len(features_difference)"
   ]
  },
  {
   "cell_type": "code",
   "execution_count": 17,
   "metadata": {},
   "outputs": [
    {
     "data": {
      "text/plain": [
       "{'final.output.concentrate_ag',\n",
       " 'final.output.concentrate_au',\n",
       " 'final.output.concentrate_pb',\n",
       " 'final.output.concentrate_sol',\n",
       " 'final.output.tail_ag',\n",
       " 'final.output.tail_au',\n",
       " 'final.output.tail_pb',\n",
       " 'final.output.tail_sol',\n",
       " 'primary_cleaner.output.concentrate_ag',\n",
       " 'primary_cleaner.output.concentrate_au',\n",
       " 'primary_cleaner.output.concentrate_pb',\n",
       " 'primary_cleaner.output.concentrate_sol',\n",
       " 'primary_cleaner.output.tail_ag',\n",
       " 'primary_cleaner.output.tail_au',\n",
       " 'primary_cleaner.output.tail_pb',\n",
       " 'primary_cleaner.output.tail_sol',\n",
       " 'rougher.calculation.au_pb_ratio',\n",
       " 'rougher.calculation.floatbank10_sulfate_to_au_feed',\n",
       " 'rougher.calculation.floatbank11_sulfate_to_au_feed',\n",
       " 'rougher.calculation.sulfate_to_au_concentrate',\n",
       " 'rougher.output.concentrate_ag',\n",
       " 'rougher.output.concentrate_au',\n",
       " 'rougher.output.concentrate_pb',\n",
       " 'rougher.output.concentrate_sol',\n",
       " 'rougher.output.recovery_test',\n",
       " 'rougher.output.tail_ag',\n",
       " 'rougher.output.tail_au',\n",
       " 'rougher.output.tail_pb',\n",
       " 'rougher.output.tail_sol',\n",
       " 'secondary_cleaner.output.tail_ag',\n",
       " 'secondary_cleaner.output.tail_au',\n",
       " 'secondary_cleaner.output.tail_pb',\n",
       " 'secondary_cleaner.output.tail_sol'}"
      ]
     },
     "metadata": {},
     "output_type": "display_data"
    },
    {
     "data": {
      "text/plain": [
       "33"
      ]
     },
     "execution_count": 17,
     "metadata": {},
     "output_type": "execute_result"
    }
   ],
   "source": [
    "features_difference = set(data_train.columns) - set(data_test.columns)\n",
    "display(features_difference)\n",
    "len(features_difference)"
   ]
  },
  {
   "cell_type": "markdown",
   "metadata": {},
   "source": [
    "На тестовой выборке отсутствуют целевые признаки, показатели доли металлов в концентрате и хвостах после каждой статии (этапа) очистки), а также расчетные коэффициенты"
   ]
  },
  {
   "cell_type": "markdown",
   "metadata": {},
   "source": [
    "## Анализ данных"
   ]
  },
  {
   "cell_type": "markdown",
   "metadata": {},
   "source": [
    "Посмотрим, как меняется концентрация металлов (Au, Ag, Pb) на различных этапах очистки:"
   ]
  },
  {
   "cell_type": "code",
   "execution_count": 18,
   "metadata": {},
   "outputs": [
    {
     "data": {
      "image/png": "[encoded data removed]",
      "text/plain": [
       "<Figure size 1080x360 with 3 Axes>"
      ]
     },
     "metadata": {},
     "output_type": "display_data"
    }
   ],
   "source": [
    "rougher_ag = data_train[\"rougher.output.concentrate_ag\"]\n",
    "rougher_au = data_train[\"rougher.output.concentrate_au\"]\n",
    "rougher_pb = data_train[\"rougher.output.concentrate_pb\"]\n",
    "primary_ag = data_train[\"primary_cleaner.output.concentrate_ag\"]\n",
    "primary_au = data_train[\"primary_cleaner.output.concentrate_au\"]\n",
    "primary_pb = data_train[\"primary_cleaner.output.concentrate_pb\"]\n",
    "secondary_ag = data_train[\"final.output.concentrate_ag\"]\n",
    "secondary_au = data_train[\"final.output.concentrate_au\"]\n",
    "secondary_pb = data_train[\"final.output.concentrate_pb\"]\n",
    "silver = [rougher_ag, primary_ag, secondary_ag]\n",
    "lead = [rougher_pb, primary_pb, secondary_pb]\n",
    "gold = [rougher_au, primary_au, secondary_au]\n",
    "\n",
    "fig, axes = plt.subplots(1, 3, figsize=(15, 5), facecolor='white')\n",
    "for metal, ax, name in zip([silver, lead, gold], axes, [\"silver\", \"lead\", \"gold\"]):\n",
    "    for stage, color, label in zip(metal, [\"r\", \"y\", \"g\"], [\"rougher\", \"primary\", \"secondary\"]):\n",
    "        ax.hist(stage, alpha=0.4, bins=20, color=color, label=label)\n",
    "    ax.legend()\n",
    "    ax.set_title(name)\n",
    "plt.show();"
   ]
  },
  {
   "cell_type": "markdown",
   "metadata": {},
   "source": [
    "Концентрация серебра после этапов очистки падает, свинца возрастает и золота возрастает..."
   ]
  },
  {
   "cell_type": "markdown",
   "metadata": {},
   "source": [
    "Сравним распределения размеров гранул сырья на обучающей и тестовой выборках:"
   ]
  },
  {
   "cell_type": "code",
   "execution_count": 19,
   "metadata": {},
   "outputs": [
    {
     "data": {
      "image/png": "[encoded data removed]",
      "text/plain": [
       "<Figure size 432x288 with 1 Axes>"
      ]
     },
     "metadata": {
      "needs_background": "light"
     },
     "output_type": "display_data"
    }
   ],
   "source": [
    "sns.kdeplot(data_train['rougher.input.feed_size'], label = 'train rougher.input.feed_size', alpha = 0.5, shade = True)\n",
    "sns.kdeplot(data_test['rougher.input.feed_size'], label = 'test rougher.input.feed_size', alpha = 0.5, shade = True)\n",
    "plt.xlim([10,100])\n",
    "plt.xlabel('Значения')\n",
    "plt.ylabel('Плотность вероятности')\n",
    "plt.legend(loc = 'upper right')\n",
    "plt.title('Сравнение распределения размеров гранул сырья на обучающей и тестовой выборках')\n",
    "plt.show()"
   ]
  },
  {
   "cell_type": "markdown",
   "metadata": {},
   "source": [
    "На первый взгляд распределения достаточно близки, хоть и не идеально совпадают. А значит можно сделать вывод о том что оценки моделей на двух множествах будут сравнимы..."
   ]
  },
  {
   "cell_type": "markdown",
   "metadata": {},
   "source": [
    "Исследуем суммарную концентрацию всех веществ на разных стадиях: в сырье, в черновом и финальном концентратах:"
   ]
  },
  {
   "cell_type": "code",
   "execution_count": 20,
   "metadata": {},
   "outputs": [
    {
     "data": {
      "image/png": "[encoded data removed]",
      "text/plain": [
       "<Figure size 1080x360 with 3 Axes>"
      ]
     },
     "metadata": {},
     "output_type": "display_data"
    }
   ],
   "source": [
    "sum_concentrate = [data_train['rougher.input.feed_ag'] + data_train['rougher.input.feed_pb'] + \\\n",
    "                   data_train['rougher.input.feed_au'] + data_train['rougher.input.feed_sol'], \\\n",
    "                   data_train['rougher.output.concentrate_ag'] + data_train['rougher.output.concentrate_pb'] + \\\n",
    "                   data_train['rougher.output.concentrate_au'] + data_train['rougher.output.concentrate_sol'], \\\n",
    "                   data_train['final.output.concentrate_ag'] + data_train['final.output.concentrate_pb'] + \\\n",
    "                   data_train['final.output.concentrate_au'] + data_train['final.output.concentrate_sol']\n",
    "                  ]\n",
    "fig, axes = plt.subplots(1, 3, figsize=(15, 5), facecolor='white')\n",
    "for concentration, ax, name, color in zip(sum_concentrate, axes, [\"Сырье\", \"Черновой концентрат\", \"Финальный концентрат\"],[\"r\", \"y\", \"g\"]):\n",
    "    ax.hist(concentration, alpha=0.4, bins=20, color=color)\n",
    "    ax.set_title(name)\n",
    "plt.show()"
   ]
  },
  {
   "cell_type": "markdown",
   "metadata": {},
   "source": [
    "Да дествительно есть аномальные значения...Скорее всего это связано со сбоем измерительного оборудования. Модель планируется использовать для подбора параметров оборудования, поэтому примеры со сбоями не интересные для моделирования. удалим их ..."
   ]
  },
  {
   "cell_type": "code",
   "execution_count": 21,
   "metadata": {},
   "outputs": [],
   "source": [
    "data_train_clean = data_train[data_train[['rougher.input.feed_ag','rougher.input.feed_pb', \\\n",
    "                                        'rougher.input.feed_au','rougher.input.feed_sol']].sum(axis=1) >1]\n",
    "data_train_clean = data_train_clean[data_train_clean[['rougher.output.concentrate_ag','rougher.output.concentrate_pb', \\\n",
    "                                                    'rougher.output.concentrate_au','rougher.output.concentrate_sol']].sum(axis=1) > 1]\n",
    "data_train_clean = data_train_clean[data_train_clean[['final.output.concentrate_ag','final.output.concentrate_pb', \\\n",
    "                                                    'final.output.concentrate_au','final.output.concentrate_sol']].sum(axis=1) > 1]\n"
   ]
  },
  {
   "cell_type": "markdown",
   "metadata": {},
   "source": [
    "## Модель"
   ]
  },
  {
   "cell_type": "markdown",
   "metadata": {},
   "source": [
    "Напишем функцию для вычисления итоговой sMAPE:"
   ]
  },
  {
   "cell_type": "code",
   "execution_count": 22,
   "metadata": {},
   "outputs": [],
   "source": [
    "def smape(target, pred):\n",
    "    smape = abs(target - pred) / ((abs(target) + abs(pred))/2) * 100\n",
    "    smape = smape.fillna(value=0)\n",
    "    smape = sum(smape)/len(smape)\n",
    "    return smape"
   ]
  },
  {
   "cell_type": "markdown",
   "metadata": {},
   "source": [
    "Обучим разные модели и оценим их качество кросс-валидацией:"
   ]
  },
  {
   "cell_type": "markdown",
   "metadata": {},
   "source": [
    "Ограничим признаки обучающей выборки теми признаками, которые содержатся в тестовой выбороке и удалим столбец 'date' из обучающей выборки:"
   ]
  },
  {
   "cell_type": "code",
   "execution_count": 23,
   "metadata": {},
   "outputs": [],
   "source": [
    "data_train_adjusted = data_train_clean[data_test.columns].drop('date',axis = 1)"
   ]
  },
  {
   "cell_type": "markdown",
   "metadata": {},
   "source": [
    "Определим признаки для расчета эффективности обогащения финального концентрата:"
   ]
  },
  {
   "cell_type": "code",
   "execution_count": 24,
   "metadata": {},
   "outputs": [],
   "source": [
    "features_final = list(set(data_train_adjusted.columns)- set(['rougher.output.recovery', 'final.output.recovery']))"
   ]
  },
  {
   "cell_type": "markdown",
   "metadata": {},
   "source": [
    "Определим признаки для расчета эффективности обогащения чернового концентрата:"
   ]
  },
  {
   "cell_type": "code",
   "execution_count": 25,
   "metadata": {},
   "outputs": [],
   "source": [
    "features_rougher = list(set([c for c in data_train_adjusted.columns if \"rougher\" in c]) - set(['rougher.output.recovery']))"
   ]
  },
  {
   "cell_type": "markdown",
   "metadata": {},
   "source": [
    "Выполним стандартизацию обучающей выборки:"
   ]
  },
  {
   "cell_type": "code",
   "execution_count": 26,
   "metadata": {},
   "outputs": [],
   "source": [
    "scaler = StandardScaler()\n",
    "scaler.fit(data_train_adjusted[features_final])\n",
    "data_train_adjusted[features_final] = scaler.transform(data_train_adjusted[features_final])"
   ]
  },
  {
   "cell_type": "markdown",
   "metadata": {},
   "source": [
    "Удалим столбец 'date' из тестовой выборки:"
   ]
  },
  {
   "cell_type": "code",
   "execution_count": 27,
   "metadata": {},
   "outputs": [],
   "source": [
    "data_test_adjusted = data_test.drop('date',axis = 1)"
   ]
  },
  {
   "cell_type": "code",
   "execution_count": 28,
   "metadata": {},
   "outputs": [],
   "source": [
    "data_train_adjusted = data_train_adjusted.fillna(method='ffill')\n",
    "data_test_adjusted = data_test_adjusted.fillna(method='ffill')"
   ]
  },
  {
   "cell_type": "markdown",
   "metadata": {},
   "source": [
    "Сформируем список признаков для целей валидации, обучения и проверки моделей на тестовой выборке и список целевых признаков:"
   ]
  },
  {
   "cell_type": "code",
   "execution_count": 29,
   "metadata": {},
   "outputs": [],
   "source": [
    "features = [features_rougher,features_final]\n",
    "targets = ['rougher.output.recovery','final.output.recovery']"
   ]
  },
  {
   "cell_type": "markdown",
   "metadata": {},
   "source": [
    "Проверим модели кросс-валидацией и выберем лучшую модель - отдлельно для расчета каждого из целевых показателей:"
   ]
  },
  {
   "cell_type": "code",
   "execution_count": 30,
   "metadata": {
    "scrolled": true
   },
   "outputs": [
    {
     "name": "stdout",
     "output_type": "stream",
     "text": [
      "\"Флотация\"\n",
      "Средняя оценка качества модели \"Решающее дерево\" по метрике sMAPE на стадии \"Флотация\":-11.76644803338335\n",
      "Средняя оценка качества модели \"Случайный лес\" по метрике sMAPE на стадии \"Флотация\":-6.555205484810149\n",
      "Средняя оценка качества модели \"Линейная регрессия\" по метрике sMAPE на стадии \"Флотация\":-6.617061214692112\n",
      "\n",
      "\"Финальная стадия\"\n",
      "Средняя оценка качества модели \"Решающее дерево\" по метрике sMAPE на стадии \"Финальная стадия\":-15.376202986694334\n",
      "Средняя оценка качества модели \"Случайный лес\" по метрике sMAPE на стадии \"Финальная стадия\":-9.727462886633491\n",
      "Средняя оценка качества модели \"Линейная регрессия\" по метрике sMAPE на стадии \"Финальная стадия\":-11.000182432715352\n",
      "\n",
      "CPU times: user 5min 40s, sys: 2.54 s, total: 5min 43s\n",
      "Wall time: 5min 44s\n"
     ]
    }
   ],
   "source": [
    "%%time\n",
    "\n",
    "best_models = []\n",
    "best_models_names = []\n",
    "for features_set, targets_set, stage in zip([features_rougher,features_final],\n",
    "                                            ['rougher.output.recovery','final.output.recovery'],\n",
    "                                            ['\"Флотация\"','\"Финальная стадия\"']\n",
    "                                           ):\n",
    "    print (stage)\n",
    "    X = data_train_adjusted[features_set]\n",
    "    y = data_train_adjusted[targets_set]\n",
    "    best_score = 10000\n",
    "    for model,name in zip([DecisionTreeRegressor(), RandomForestRegressor(), LinearRegression()],\n",
    "                          ['\"Решающее дерево\"','\"Случайный лес\"','\"Линейная регрессия\"']\n",
    "                         ):\n",
    "        scores = cross_val_score(model, X, y, cv=5, scoring=make_scorer(smape))\n",
    "        final_score = sum(scores)/len(scores)\n",
    "        print(f'Средняя оценка качества модели {name} по метрике sMAPE на стадии {stage}:{-final_score}')\n",
    "        if final_score < best_score:\n",
    "            best_score = final_score\n",
    "            best_model = model\n",
    "            best_model_name = name\n",
    "    print()\n",
    "    best_models.append(best_model)\n",
    "    best_models_names.append(best_model_name)"
   ]
  },
  {
   "cell_type": "code",
   "execution_count": 32,
   "metadata": {},
   "outputs": [],
   "source": [
    "parametrs = { 'n_estimators': range (10, 41, 10), # число деревьев в лесу\n",
    "              'max_depth': range (1,11, 2)} # глубина"
   ]
  },
  {
   "cell_type": "code",
   "execution_count": 38,
   "metadata": {},
   "outputs": [
    {
     "name": "stdout",
     "output_type": "stream",
     "text": [
      "CPU times: user 8min 45s, sys: 1.24 s, total: 8min 47s\n",
      "Wall time: 8min 47s\n"
     ]
    }
   ],
   "source": [
    "%%time\n",
    "\n",
    "grid = GridSearchCV(RandomForestRegressor(), parametrs, cv=5, scoring = make_scorer(smape, greater_is_better = False))\n",
    "for i in range (0,2):\n",
    "    grid.fit(data_train_adjusted[features[i]],data_train_adjusted[targets[i]])\n",
    "    grid.best_params_"
   ]
  },
  {
   "cell_type": "code",
   "execution_count": 39,
   "metadata": {},
   "outputs": [
    {
     "name": "stdout",
     "output_type": "stream",
     "text": [
      "Лучшие параметры: {'max_depth': 3, 'n_estimators': 20} \n",
      "\n"
     ]
    }
   ],
   "source": [
    "print('Лучшие параметры:', grid.best_params_, '\\n')"
   ]
  },
  {
   "cell_type": "markdown",
   "metadata": {},
   "source": [
    "Обучим лучшую модель на обучащей выборке:"
   ]
  },
  {
   "cell_type": "code",
   "execution_count": 42,
   "metadata": {},
   "outputs": [
    {
     "name": "stdout",
     "output_type": "stream",
     "text": [
      "CPU times: user 1min 25s, sys: 208 ms, total: 1min 25s\n",
      "Wall time: 1min 25s\n"
     ]
    }
   ],
   "source": [
    "%%time\n",
    "\n",
    "for i in range (0,2):\n",
    "    best_models[i] = best_models[i].fit(data_train_adjusted[features[i]],data_train_adjusted[targets[i]])"
   ]
  },
  {
   "cell_type": "markdown",
   "metadata": {},
   "source": [
    "Расчитаем итоговую метрику sMAPE на тестовой выборке:"
   ]
  },
  {
   "cell_type": "markdown",
   "metadata": {},
   "source": [
    "Выполним стандартизацию тестовой выборки:"
   ]
  },
  {
   "cell_type": "code",
   "execution_count": 43,
   "metadata": {},
   "outputs": [],
   "source": [
    "scaler.fit(data_test_adjusted[features_final])\n",
    "data_test_adjusted[features_final] = scaler.transform(data_test_adjusted[features_final])"
   ]
  },
  {
   "cell_type": "code",
   "execution_count": 44,
   "metadata": {},
   "outputs": [
    {
     "name": "stdout",
     "output_type": "stream",
     "text": [
      "Итоговая SMAPE на тестовой выборке: 9.911455456987904\n"
     ]
    }
   ],
   "source": [
    "final_smape = 0.25 * smape(data_test_adjusted['rougher.output.recovery'],\n",
    "                           best_models[0].predict(data_test_adjusted[features_rougher]))\\\n",
    "              + 0.75 * smape(data_test_adjusted['final.output.recovery'],\n",
    "                           best_models[1].predict(data_test_adjusted[features_final]))\n",
    "print('Итоговая SMAPE на тестовой выборке:', final_smape) "
   ]
  },
  {
   "cell_type": "markdown",
   "metadata": {},
   "source": [
    "Проведём сравнение с констатной моделью (DummyRegressor)."
   ]
  },
  {
   "cell_type": "code",
   "execution_count": 45,
   "metadata": {},
   "outputs": [
    {
     "name": "stdout",
     "output_type": "stream",
     "text": [
      "Итоговая SMAPE на тестовой выборке с помощью констатной модели DummyRegressor: 14.872741583698865\n"
     ]
    }
   ],
   "source": [
    "dummy_regr = DummyRegressor(strategy=\"mean\")\n",
    "dummy_regressor_models = []\n",
    "for i in range (0,2):\n",
    "    dummy_regressor_models.append(dummy_regr)\n",
    "    dummy_regressor_models[i] = dummy_regressor_models[i].fit(data_train_adjusted[features[i]],data_train_adjusted[targets[i]])\n",
    "final_smape_dummy_regressor = 0.25 * smape(data_test_adjusted['rougher.output.recovery'],\n",
    "                                     dummy_regressor_models[0].predict(data_test_adjusted[features_rougher]))\\\n",
    "                            + 0.75 * smape(data_test_adjusted['final.output.recovery'],\n",
    "                                     dummy_regressor_models[1].predict(data_test_adjusted[features_final]))\n",
    "print('Итоговая SMAPE на тестовой выборке с помощью констатной модели DummyRegressor:', final_smape_dummy_regressor)    "
   ]
  },
  {
   "cell_type": "code",
   "execution_count": 46,
   "metadata": {},
   "outputs": [
    {
     "name": "stdout",
     "output_type": "stream",
     "text": [
      "\"Случайный лес\" RandomForestRegressor()\n",
      "\"Случайный лес\" RandomForestRegressor()\n"
     ]
    }
   ],
   "source": [
    "for i in range (0,2):\n",
    "    print (best_models_names[i],best_models[i])"
   ]
  },
  {
   "cell_type": "markdown",
   "metadata": {},
   "source": [
    "Расчет sMAPE для показателя rougher.output.recovery обученной моделью \"Линейная регрессия\":"
   ]
  },
  {
   "cell_type": "code",
   "execution_count": 47,
   "metadata": {},
   "outputs": [
    {
     "name": "stdout",
     "output_type": "stream",
     "text": [
      "8.172254524111137\n"
     ]
    }
   ],
   "source": [
    "print(smape(data_test_adjusted['rougher.output.recovery'],best_models[0].predict(data_test_adjusted[features_rougher])))"
   ]
  },
  {
   "cell_type": "markdown",
   "metadata": {},
   "source": [
    "Расчет sMAPE для показателя rougher.output.recovery моделью \"Линейная регрессия\" (повторное обучение):"
   ]
  },
  {
   "cell_type": "code",
   "execution_count": 48,
   "metadata": {},
   "outputs": [
    {
     "name": "stdout",
     "output_type": "stream",
     "text": [
      "8.810953074241121\n"
     ]
    }
   ],
   "source": [
    "model_linear_regression = LinearRegression()\n",
    "model_linear_regression.fit(data_train_adjusted[features_rougher],data_train_adjusted['rougher.output.recovery'])\n",
    "print(smape(data_test_adjusted['rougher.output.recovery'],model_linear_regression.predict(data_test_adjusted[features_rougher])))"
   ]
  },
  {
   "cell_type": "markdown",
   "metadata": {},
   "source": [
    "Расчет sMAPE для показателя rougher.output.recovery моделью \"Случайный лес\":"
   ]
  },
  {
   "cell_type": "code",
   "execution_count": 49,
   "metadata": {},
   "outputs": [
    {
     "name": "stdout",
     "output_type": "stream",
     "text": [
      "8.127392611193423\n"
     ]
    }
   ],
   "source": [
    "model_random_forest_regressor = RandomForestRegressor()\n",
    "model_random_forest_regressor.fit(data_train_adjusted[features_rougher],data_train_adjusted['rougher.output.recovery'])\n",
    "print(smape(data_test_adjusted['rougher.output.recovery'], model_random_forest_regressor.predict(data_test_adjusted[features_rougher])))"
   ]
  },
  {
   "cell_type": "markdown",
   "metadata": {},
   "source": [
    "Расчет sMAPE для показателя rougher.output.recovery константной моделью \"DummyRegressor\":"
   ]
  },
  {
   "cell_type": "code",
   "execution_count": 50,
   "metadata": {},
   "outputs": [
    {
     "name": "stdout",
     "output_type": "stream",
     "text": [
      "29.254177819648532\n"
     ]
    }
   ],
   "source": [
    "print(smape(data_test_adjusted['rougher.output.recovery'],dummy_regressor_models[0].predict(data_test_adjusted[features_rougher])))"
   ]
  },
  {
   "cell_type": "markdown",
   "metadata": {},
   "source": []
  },
  {
   "cell_type": "markdown",
   "metadata": {},
   "source": [
    "Расчет sMAPE для показателя final.output.recovery обученной моделью \"Случайный лес\":"
   ]
  },
  {
   "cell_type": "code",
   "execution_count": 51,
   "metadata": {},
   "outputs": [
    {
     "name": "stdout",
     "output_type": "stream",
     "text": [
      "10.491189101280158\n"
     ]
    }
   ],
   "source": [
    "print(smape(data_test_adjusted['final.output.recovery'],best_models[1].predict(data_test_adjusted[features_final])))"
   ]
  },
  {
   "cell_type": "markdown",
   "metadata": {},
   "source": [
    "Расчет sMAPE для показателя rougher.output.recovery константной моделью \"DummyRegressor\":"
   ]
  },
  {
   "cell_type": "code",
   "execution_count": 52,
   "metadata": {},
   "outputs": [
    {
     "name": "stdout",
     "output_type": "stream",
     "text": [
      "10.078929505048976\n"
     ]
    }
   ],
   "source": [
    "print(smape(data_test_adjusted['final.output.recovery'],dummy_regressor_models[1].predict(data_test_adjusted[features_final])))"
   ]
  },
  {
   "cell_type": "markdown",
   "metadata": {},
   "source": [
    "После предобработки данных и подготовки обучающей и тестовых выборок была проведена кросс-валидация моделей \"Решающее дерево\", \"Случайный лес\" и \"Линейная регрессия\" по метрике sMPAE. Для показателя эффективности обогащения чернового концентрата (стадия \"Флотация\") наименьшее значение sMAPE показала модель \"Линейная регрессия\". Для показателя эффективности обогащения финального концентрата (\"Финальная стадия\") наименьшее значение sMAPE показала модель \"Случайный лес\". Именно эти модели были выбраны для обучения на тестовой выборке и расчета итоговой метрике sMAPE на тестовой выборке.\n",
    " \n",
    "Итоговый показатель sMAPE на тестовой выборке получился значительно хуже, чем отдельные показатели sMAPE на обучающей выборке для показателей эффективности обогащения чернового и финального концентратов."
   ]
  },
  {
   "cell_type": "markdown",
   "metadata": {},
   "source": [
    "## Чек-лист готовности проекта"
   ]
  },
  {
   "cell_type": "markdown",
   "metadata": {},
   "source": [
    "- [x]  Jupyter Notebook открыт\n",
    "- [x]  Весь код выполняется без ошибок\n",
    "- [x]  Ячейки с кодом расположены в порядке выполнения\n",
    "- [x]  Выполнен шаг 1: данные подготовлены\n",
    "    - [x]  Проверена формула вычисления эффективности обогащения\n",
    "    - [x]  Проанализированы признаки, недоступные в тестовой выборке\n",
    "    - [x]  Проведена предобработка данных\n",
    "- [x]  Выполнен шаг 2: данные проанализированы\n",
    "    - [x]  Исследовано изменение концентрации элементов на каждом этапе\n",
    "    - [x]  Проанализированы распределения размеров гранул на обучающей и тестовой выборках\n",
    "    - [x]  Исследованы суммарные концентрации\n",
    "- [x]  Выполнен шаг 3: построена модель прогнозирования\n",
    "    - [x]  Написана функция для вычисления итогового *sMAPE*\n",
    "    - [x]  Обучено и проверено несколько моделей\n",
    "    - [x]  Выбрана лучшая модель, её качество проверено на тестовой выборке"
   ]
  }
 ],
 "metadata": {
  "ExecuteTimeLog": [
   {
    "duration": 1341,
    "start_time": "2022-11-13T21:17:40.570Z"
   },
   {
    "duration": 3,
    "start_time": "2022-11-13T21:17:43.529Z"
   },
   {
    "duration": 133,
    "start_time": "2022-11-13T21:17:46.228Z"
   },
   {
    "duration": 1785,
    "start_time": "2022-11-13T21:19:26.707Z"
   },
   {
    "duration": 2,
    "start_time": "2022-11-13T21:19:29.717Z"
   },
   {
    "duration": 9,
    "start_time": "2022-11-13T21:19:49.935Z"
   },
   {
    "duration": 31,
    "start_time": "2022-11-13T21:20:03.362Z"
   },
   {
    "duration": 21,
    "start_time": "2022-11-13T21:21:12.159Z"
   },
   {
    "duration": 20,
    "start_time": "2022-11-13T21:23:37.622Z"
   },
   {
    "duration": 21,
    "start_time": "2022-11-13T21:23:41.874Z"
   },
   {
    "duration": 37,
    "start_time": "2022-11-13T21:24:20.422Z"
   },
   {
    "duration": 510,
    "start_time": "2022-11-13T21:26:10.452Z"
   },
   {
    "duration": 21,
    "start_time": "2022-11-13T21:28:53.005Z"
   },
   {
    "duration": 5,
    "start_time": "2022-11-13T21:28:55.857Z"
   },
   {
    "duration": 6,
    "start_time": "2022-11-13T21:28:59.223Z"
   },
   {
    "duration": 7,
    "start_time": "2022-11-13T21:29:02.958Z"
   },
   {
    "duration": 16,
    "start_time": "2022-11-13T21:30:49.555Z"
   },
   {
    "duration": 11,
    "start_time": "2022-11-13T21:38:32.210Z"
   },
   {
    "duration": 630,
    "start_time": "2022-11-13T21:39:40.912Z"
   },
   {
    "duration": 11,
    "start_time": "2022-11-13T21:59:09.727Z"
   },
   {
    "duration": 18,
    "start_time": "2022-11-13T22:00:00.975Z"
   },
   {
    "duration": 120,
    "start_time": "2022-11-13T22:05:33.525Z"
   },
   {
    "duration": 375,
    "start_time": "2022-11-13T22:11:37.404Z"
   },
   {
    "duration": 365,
    "start_time": "2022-11-13T22:16:04.636Z"
   },
   {
    "duration": 335,
    "start_time": "2022-11-13T22:16:35.056Z"
   },
   {
    "duration": 374,
    "start_time": "2022-11-13T22:16:42.026Z"
   },
   {
    "duration": 394,
    "start_time": "2022-11-13T22:16:50.774Z"
   },
   {
    "duration": 397,
    "start_time": "2022-11-13T22:17:01.802Z"
   },
   {
    "duration": 414,
    "start_time": "2022-11-13T22:17:31.181Z"
   },
   {
    "duration": 354,
    "start_time": "2022-11-13T22:17:37.541Z"
   },
   {
    "duration": 1321,
    "start_time": "2022-11-13T23:35:05.401Z"
   },
   {
    "duration": 1365,
    "start_time": "2022-11-13T23:45:37.660Z"
   },
   {
    "duration": 1307,
    "start_time": "2022-11-13T23:46:03.214Z"
   },
   {
    "duration": 1425,
    "start_time": "2022-11-13T23:46:24.791Z"
   },
   {
    "duration": 3,
    "start_time": "2022-11-13T23:56:50.474Z"
   },
   {
    "duration": 1285,
    "start_time": "2022-11-14T00:07:30.730Z"
   },
   {
    "duration": 3,
    "start_time": "2022-11-14T00:07:57.349Z"
   },
   {
    "duration": 3,
    "start_time": "2022-11-14T00:07:57.373Z"
   },
   {
    "duration": 637,
    "start_time": "2022-11-14T00:07:57.410Z"
   },
   {
    "duration": 81,
    "start_time": "2022-11-14T00:07:58.049Z"
   },
   {
    "duration": 0,
    "start_time": "2022-11-14T00:07:58.132Z"
   },
   {
    "duration": 0,
    "start_time": "2022-11-14T00:07:58.133Z"
   },
   {
    "duration": 0,
    "start_time": "2022-11-14T00:07:58.134Z"
   },
   {
    "duration": 0,
    "start_time": "2022-11-14T00:07:58.134Z"
   },
   {
    "duration": 0,
    "start_time": "2022-11-14T00:07:58.136Z"
   },
   {
    "duration": 0,
    "start_time": "2022-11-14T00:07:58.136Z"
   },
   {
    "duration": 0,
    "start_time": "2022-11-14T00:07:58.138Z"
   },
   {
    "duration": 0,
    "start_time": "2022-11-14T00:07:58.139Z"
   },
   {
    "duration": 0,
    "start_time": "2022-11-14T00:07:58.139Z"
   },
   {
    "duration": 0,
    "start_time": "2022-11-14T00:07:58.140Z"
   },
   {
    "duration": 0,
    "start_time": "2022-11-14T00:07:58.141Z"
   },
   {
    "duration": 0,
    "start_time": "2022-11-14T00:07:58.142Z"
   },
   {
    "duration": 0,
    "start_time": "2022-11-14T00:07:58.143Z"
   },
   {
    "duration": 3,
    "start_time": "2022-11-14T00:08:26.566Z"
   },
   {
    "duration": 12,
    "start_time": "2022-11-14T00:08:26.570Z"
   },
   {
    "duration": 626,
    "start_time": "2022-11-14T00:08:26.583Z"
   },
   {
    "duration": 21,
    "start_time": "2022-11-14T00:08:27.211Z"
   },
   {
    "duration": 19,
    "start_time": "2022-11-14T00:08:27.233Z"
   },
   {
    "duration": 21,
    "start_time": "2022-11-14T00:08:27.253Z"
   },
   {
    "duration": 74,
    "start_time": "2022-11-14T00:08:27.276Z"
   },
   {
    "duration": 0,
    "start_time": "2022-11-14T00:08:27.352Z"
   },
   {
    "duration": 0,
    "start_time": "2022-11-14T00:08:27.353Z"
   },
   {
    "duration": 0,
    "start_time": "2022-11-14T00:08:27.354Z"
   },
   {
    "duration": 0,
    "start_time": "2022-11-14T00:08:27.355Z"
   },
   {
    "duration": 0,
    "start_time": "2022-11-14T00:08:27.356Z"
   },
   {
    "duration": 0,
    "start_time": "2022-11-14T00:08:27.357Z"
   },
   {
    "duration": 0,
    "start_time": "2022-11-14T00:08:27.358Z"
   },
   {
    "duration": 0,
    "start_time": "2022-11-14T00:08:27.359Z"
   },
   {
    "duration": 0,
    "start_time": "2022-11-14T00:08:27.360Z"
   },
   {
    "duration": 3,
    "start_time": "2022-11-14T00:08:47.577Z"
   },
   {
    "duration": 4,
    "start_time": "2022-11-14T00:08:47.582Z"
   },
   {
    "duration": 605,
    "start_time": "2022-11-14T00:08:47.588Z"
   },
   {
    "duration": 19,
    "start_time": "2022-11-14T00:08:48.195Z"
   },
   {
    "duration": 18,
    "start_time": "2022-11-14T00:08:48.215Z"
   },
   {
    "duration": 18,
    "start_time": "2022-11-14T00:08:48.234Z"
   },
   {
    "duration": 37,
    "start_time": "2022-11-14T00:08:48.253Z"
   },
   {
    "duration": 522,
    "start_time": "2022-11-14T00:08:48.292Z"
   },
   {
    "duration": 17,
    "start_time": "2022-11-14T00:08:48.815Z"
   },
   {
    "duration": 5,
    "start_time": "2022-11-14T00:08:48.834Z"
   },
   {
    "duration": 7,
    "start_time": "2022-11-14T00:08:48.840Z"
   },
   {
    "duration": 6,
    "start_time": "2022-11-14T00:08:48.849Z"
   },
   {
    "duration": 16,
    "start_time": "2022-11-14T00:08:48.856Z"
   },
   {
    "duration": 622,
    "start_time": "2022-11-14T00:08:48.873Z"
   },
   {
    "duration": 396,
    "start_time": "2022-11-14T00:08:49.497Z"
   },
   {
    "duration": 1292,
    "start_time": "2022-11-14T00:08:54.014Z"
   },
   {
    "duration": 11,
    "start_time": "2022-11-14T00:12:20.130Z"
   },
   {
    "duration": 3,
    "start_time": "2022-11-14T00:18:18.581Z"
   },
   {
    "duration": 87,
    "start_time": "2022-11-14T00:18:22.052Z"
   },
   {
    "duration": 128,
    "start_time": "2022-11-14T00:19:20.015Z"
   },
   {
    "duration": 4,
    "start_time": "2022-11-14T00:31:24.882Z"
   },
   {
    "duration": 30,
    "start_time": "2022-11-14T00:35:25.084Z"
   },
   {
    "duration": 3,
    "start_time": "2022-11-14T00:39:14.052Z"
   },
   {
    "duration": 8,
    "start_time": "2022-11-14T00:43:13.015Z"
   },
   {
    "duration": 9,
    "start_time": "2022-11-14T00:43:43.102Z"
   },
   {
    "duration": 17,
    "start_time": "2022-11-14T00:44:01.215Z"
   },
   {
    "duration": 2,
    "start_time": "2022-11-14T00:44:41.701Z"
   },
   {
    "duration": 15,
    "start_time": "2022-11-14T00:44:49.297Z"
   },
   {
    "duration": 3,
    "start_time": "2022-11-14T00:44:59.333Z"
   },
   {
    "duration": 5,
    "start_time": "2022-11-14T00:44:59.338Z"
   },
   {
    "duration": 636,
    "start_time": "2022-11-14T00:44:59.345Z"
   },
   {
    "duration": 18,
    "start_time": "2022-11-14T00:44:59.983Z"
   },
   {
    "duration": 23,
    "start_time": "2022-11-14T00:45:00.003Z"
   },
   {
    "duration": 28,
    "start_time": "2022-11-14T00:45:00.027Z"
   },
   {
    "duration": 36,
    "start_time": "2022-11-14T00:45:00.056Z"
   },
   {
    "duration": 541,
    "start_time": "2022-11-14T00:45:00.093Z"
   },
   {
    "duration": 18,
    "start_time": "2022-11-14T00:45:00.636Z"
   },
   {
    "duration": 2,
    "start_time": "2022-11-14T00:45:00.656Z"
   },
   {
    "duration": 11,
    "start_time": "2022-11-14T00:45:00.660Z"
   },
   {
    "duration": 13,
    "start_time": "2022-11-14T00:45:00.672Z"
   },
   {
    "duration": 39,
    "start_time": "2022-11-14T00:45:00.687Z"
   },
   {
    "duration": 690,
    "start_time": "2022-11-14T00:45:00.729Z"
   },
   {
    "duration": 370,
    "start_time": "2022-11-14T00:45:01.421Z"
   },
   {
    "duration": 1320,
    "start_time": "2022-11-14T00:45:01.793Z"
   },
   {
    "duration": 3,
    "start_time": "2022-11-14T00:45:03.114Z"
   },
   {
    "duration": 8,
    "start_time": "2022-11-14T00:45:03.118Z"
   },
   {
    "duration": 145,
    "start_time": "2022-11-14T00:45:03.127Z"
   },
   {
    "duration": 3,
    "start_time": "2022-11-14T00:45:03.273Z"
   },
   {
    "duration": 5,
    "start_time": "2022-11-14T00:45:03.277Z"
   },
   {
    "duration": 16,
    "start_time": "2022-11-14T00:45:06.879Z"
   },
   {
    "duration": 20,
    "start_time": "2022-11-14T00:46:22.367Z"
   },
   {
    "duration": 13,
    "start_time": "2022-11-14T00:47:09.556Z"
   },
   {
    "duration": 9,
    "start_time": "2022-11-14T00:47:38.681Z"
   },
   {
    "duration": 9,
    "start_time": "2022-11-14T00:47:45.459Z"
   },
   {
    "duration": 10,
    "start_time": "2022-11-14T00:49:28.977Z"
   },
   {
    "duration": 34,
    "start_time": "2022-11-14T00:49:39.231Z"
   },
   {
    "duration": 9,
    "start_time": "2022-11-14T00:56:16.789Z"
   },
   {
    "duration": 9,
    "start_time": "2022-11-14T00:56:48.377Z"
   },
   {
    "duration": 9,
    "start_time": "2022-11-14T00:56:55.974Z"
   },
   {
    "duration": 9,
    "start_time": "2022-11-14T00:57:08.473Z"
   },
   {
    "duration": 9,
    "start_time": "2022-11-14T00:57:56.622Z"
   },
   {
    "duration": 3,
    "start_time": "2022-11-14T01:15:36.885Z"
   },
   {
    "duration": 12,
    "start_time": "2022-11-14T01:15:39.898Z"
   },
   {
    "duration": 23,
    "start_time": "2022-11-14T01:15:55.698Z"
   },
   {
    "duration": 4,
    "start_time": "2022-11-14T01:17:26.915Z"
   },
   {
    "duration": 12,
    "start_time": "2022-11-14T01:17:26.921Z"
   },
   {
    "duration": 599,
    "start_time": "2022-11-14T01:17:26.935Z"
   },
   {
    "duration": 18,
    "start_time": "2022-11-14T01:17:27.536Z"
   },
   {
    "duration": 19,
    "start_time": "2022-11-14T01:17:27.556Z"
   },
   {
    "duration": 18,
    "start_time": "2022-11-14T01:17:27.576Z"
   },
   {
    "duration": 36,
    "start_time": "2022-11-14T01:17:27.612Z"
   },
   {
    "duration": 507,
    "start_time": "2022-11-14T01:17:27.649Z"
   },
   {
    "duration": 16,
    "start_time": "2022-11-14T01:17:28.158Z"
   },
   {
    "duration": 3,
    "start_time": "2022-11-14T01:17:28.175Z"
   },
   {
    "duration": 7,
    "start_time": "2022-11-14T01:17:28.179Z"
   },
   {
    "duration": 8,
    "start_time": "2022-11-14T01:17:28.187Z"
   },
   {
    "duration": 27,
    "start_time": "2022-11-14T01:17:28.197Z"
   },
   {
    "duration": 589,
    "start_time": "2022-11-14T01:17:28.226Z"
   },
   {
    "duration": 483,
    "start_time": "2022-11-14T01:17:28.817Z"
   },
   {
    "duration": 1320,
    "start_time": "2022-11-14T01:17:29.301Z"
   },
   {
    "duration": 3,
    "start_time": "2022-11-14T01:17:30.622Z"
   },
   {
    "duration": 14,
    "start_time": "2022-11-14T01:17:30.626Z"
   },
   {
    "duration": 140,
    "start_time": "2022-11-14T01:17:30.641Z"
   },
   {
    "duration": 2,
    "start_time": "2022-11-14T01:17:30.783Z"
   },
   {
    "duration": 11,
    "start_time": "2022-11-14T01:17:30.786Z"
   },
   {
    "duration": 23,
    "start_time": "2022-11-14T01:17:33.631Z"
   },
   {
    "duration": 4,
    "start_time": "2022-11-14T01:18:40.025Z"
   },
   {
    "duration": 7,
    "start_time": "2022-11-14T01:18:40.030Z"
   },
   {
    "duration": 615,
    "start_time": "2022-11-14T01:18:40.038Z"
   },
   {
    "duration": 19,
    "start_time": "2022-11-14T01:18:40.654Z"
   },
   {
    "duration": 18,
    "start_time": "2022-11-14T01:18:40.675Z"
   },
   {
    "duration": 30,
    "start_time": "2022-11-14T01:18:40.695Z"
   },
   {
    "duration": 37,
    "start_time": "2022-11-14T01:18:40.726Z"
   },
   {
    "duration": 500,
    "start_time": "2022-11-14T01:18:40.764Z"
   },
   {
    "duration": 15,
    "start_time": "2022-11-14T01:18:41.266Z"
   },
   {
    "duration": 2,
    "start_time": "2022-11-14T01:18:41.283Z"
   },
   {
    "duration": 7,
    "start_time": "2022-11-14T01:18:41.286Z"
   },
   {
    "duration": 20,
    "start_time": "2022-11-14T01:18:41.294Z"
   },
   {
    "duration": 15,
    "start_time": "2022-11-14T01:18:41.315Z"
   },
   {
    "duration": 592,
    "start_time": "2022-11-14T01:18:41.332Z"
   },
   {
    "duration": 376,
    "start_time": "2022-11-14T01:18:41.925Z"
   },
   {
    "duration": 1311,
    "start_time": "2022-11-14T01:18:42.302Z"
   },
   {
    "duration": 3,
    "start_time": "2022-11-14T01:18:43.614Z"
   },
   {
    "duration": 7,
    "start_time": "2022-11-14T01:18:43.618Z"
   },
   {
    "duration": 143,
    "start_time": "2022-11-14T01:18:43.627Z"
   },
   {
    "duration": 2,
    "start_time": "2022-11-14T01:18:43.772Z"
   },
   {
    "duration": 6,
    "start_time": "2022-11-14T01:18:43.775Z"
   },
   {
    "duration": 18,
    "start_time": "2022-11-14T01:18:45.811Z"
   },
   {
    "duration": 81,
    "start_time": "2022-11-14T01:19:04.641Z"
   },
   {
    "duration": 13,
    "start_time": "2022-11-14T01:19:38.416Z"
   },
   {
    "duration": 17,
    "start_time": "2022-11-14T01:19:52.839Z"
   },
   {
    "duration": 3,
    "start_time": "2022-11-14T01:20:05.466Z"
   },
   {
    "duration": 10,
    "start_time": "2022-11-14T01:20:05.471Z"
   },
   {
    "duration": 636,
    "start_time": "2022-11-14T01:20:05.482Z"
   },
   {
    "duration": 19,
    "start_time": "2022-11-14T01:20:06.119Z"
   },
   {
    "duration": 18,
    "start_time": "2022-11-14T01:20:06.139Z"
   },
   {
    "duration": 16,
    "start_time": "2022-11-14T01:20:06.159Z"
   },
   {
    "duration": 55,
    "start_time": "2022-11-14T01:20:06.177Z"
   },
   {
    "duration": 499,
    "start_time": "2022-11-14T01:20:06.233Z"
   },
   {
    "duration": 16,
    "start_time": "2022-11-14T01:20:06.733Z"
   },
   {
    "duration": 2,
    "start_time": "2022-11-14T01:20:06.751Z"
   },
   {
    "duration": 7,
    "start_time": "2022-11-14T01:20:06.754Z"
   },
   {
    "duration": 6,
    "start_time": "2022-11-14T01:20:06.762Z"
   },
   {
    "duration": 13,
    "start_time": "2022-11-14T01:20:06.770Z"
   },
   {
    "duration": 719,
    "start_time": "2022-11-14T01:20:06.785Z"
   },
   {
    "duration": 401,
    "start_time": "2022-11-14T01:20:07.505Z"
   },
   {
    "duration": 1306,
    "start_time": "2022-11-14T01:20:07.907Z"
   },
   {
    "duration": 3,
    "start_time": "2022-11-14T01:20:09.214Z"
   },
   {
    "duration": 9,
    "start_time": "2022-11-14T01:20:09.219Z"
   },
   {
    "duration": 153,
    "start_time": "2022-11-14T01:20:09.229Z"
   },
   {
    "duration": 2,
    "start_time": "2022-11-14T01:20:09.384Z"
   },
   {
    "duration": 9,
    "start_time": "2022-11-14T01:20:09.387Z"
   },
   {
    "duration": 19,
    "start_time": "2022-11-14T01:20:15.955Z"
   },
   {
    "duration": 9,
    "start_time": "2022-11-14T01:22:34.285Z"
   },
   {
    "duration": 13,
    "start_time": "2022-11-14T01:22:44.896Z"
   },
   {
    "duration": 3,
    "start_time": "2022-11-14T02:03:56.262Z"
   },
   {
    "duration": 4,
    "start_time": "2022-11-14T02:16:22.166Z"
   },
   {
    "duration": 6,
    "start_time": "2022-11-14T02:16:22.172Z"
   },
   {
    "duration": 593,
    "start_time": "2022-11-14T02:16:22.179Z"
   },
   {
    "duration": 18,
    "start_time": "2022-11-14T02:16:22.773Z"
   },
   {
    "duration": 23,
    "start_time": "2022-11-14T02:16:22.793Z"
   },
   {
    "duration": 17,
    "start_time": "2022-11-14T02:16:22.818Z"
   },
   {
    "duration": 34,
    "start_time": "2022-11-14T02:16:22.836Z"
   },
   {
    "duration": 515,
    "start_time": "2022-11-14T02:16:22.871Z"
   },
   {
    "duration": 2,
    "start_time": "2022-11-14T02:16:23.388Z"
   },
   {
    "duration": 8,
    "start_time": "2022-11-14T02:16:23.391Z"
   },
   {
    "duration": 17,
    "start_time": "2022-11-14T02:16:23.400Z"
   },
   {
    "duration": 15,
    "start_time": "2022-11-14T02:16:23.418Z"
   },
   {
    "duration": 16,
    "start_time": "2022-11-14T02:16:23.434Z"
   },
   {
    "duration": 11,
    "start_time": "2022-11-14T02:16:23.453Z"
   },
   {
    "duration": 3,
    "start_time": "2022-11-14T02:16:23.466Z"
   },
   {
    "duration": 589,
    "start_time": "2022-11-14T02:16:23.470Z"
   },
   {
    "duration": 428,
    "start_time": "2022-11-14T02:16:24.061Z"
   },
   {
    "duration": 1414,
    "start_time": "2022-11-14T02:16:24.490Z"
   },
   {
    "duration": 11,
    "start_time": "2022-11-14T02:16:25.912Z"
   },
   {
    "duration": 0,
    "start_time": "2022-11-14T02:16:25.924Z"
   },
   {
    "duration": 0,
    "start_time": "2022-11-14T02:16:25.926Z"
   },
   {
    "duration": 0,
    "start_time": "2022-11-14T02:16:25.927Z"
   },
   {
    "duration": 0,
    "start_time": "2022-11-14T02:16:25.929Z"
   },
   {
    "duration": 0,
    "start_time": "2022-11-14T02:16:25.930Z"
   },
   {
    "duration": 0,
    "start_time": "2022-11-14T02:16:25.931Z"
   },
   {
    "duration": 0,
    "start_time": "2022-11-14T02:16:25.932Z"
   },
   {
    "duration": 18,
    "start_time": "2022-11-14T02:16:53.553Z"
   },
   {
    "duration": 3,
    "start_time": "2022-11-14T02:17:00.196Z"
   },
   {
    "duration": 11,
    "start_time": "2022-11-14T02:17:00.201Z"
   },
   {
    "duration": 605,
    "start_time": "2022-11-14T02:17:00.213Z"
   },
   {
    "duration": 17,
    "start_time": "2022-11-14T02:17:00.820Z"
   },
   {
    "duration": 25,
    "start_time": "2022-11-14T02:17:00.839Z"
   },
   {
    "duration": 20,
    "start_time": "2022-11-14T02:17:00.866Z"
   },
   {
    "duration": 49,
    "start_time": "2022-11-14T02:17:00.887Z"
   },
   {
    "duration": 508,
    "start_time": "2022-11-14T02:17:00.938Z"
   },
   {
    "duration": 3,
    "start_time": "2022-11-14T02:17:01.447Z"
   },
   {
    "duration": 10,
    "start_time": "2022-11-14T02:17:01.451Z"
   },
   {
    "duration": 13,
    "start_time": "2022-11-14T02:17:01.462Z"
   },
   {
    "duration": 18,
    "start_time": "2022-11-14T02:17:01.476Z"
   },
   {
    "duration": 28,
    "start_time": "2022-11-14T02:17:01.495Z"
   },
   {
    "duration": 12,
    "start_time": "2022-11-14T02:17:01.526Z"
   },
   {
    "duration": 4,
    "start_time": "2022-11-14T02:17:01.540Z"
   },
   {
    "duration": 603,
    "start_time": "2022-11-14T02:17:01.545Z"
   },
   {
    "duration": 454,
    "start_time": "2022-11-14T02:17:02.149Z"
   },
   {
    "duration": 1296,
    "start_time": "2022-11-14T02:17:02.605Z"
   },
   {
    "duration": 24,
    "start_time": "2022-11-14T02:17:03.903Z"
   },
   {
    "duration": 2,
    "start_time": "2022-11-14T02:17:03.929Z"
   },
   {
    "duration": 18,
    "start_time": "2022-11-14T02:17:03.933Z"
   },
   {
    "duration": 9,
    "start_time": "2022-11-14T02:17:03.953Z"
   },
   {
    "duration": 11,
    "start_time": "2022-11-14T02:17:03.964Z"
   },
   {
    "duration": 0,
    "start_time": "2022-11-14T02:17:03.977Z"
   },
   {
    "duration": 0,
    "start_time": "2022-11-14T02:17:03.978Z"
   },
   {
    "duration": 0,
    "start_time": "2022-11-14T02:17:03.978Z"
   },
   {
    "duration": 3,
    "start_time": "2022-11-14T02:17:26.110Z"
   },
   {
    "duration": 9,
    "start_time": "2022-11-14T02:17:29.275Z"
   },
   {
    "duration": 23,
    "start_time": "2022-11-14T02:17:38.935Z"
   },
   {
    "duration": 4,
    "start_time": "2022-11-14T02:17:42.130Z"
   },
   {
    "duration": 2,
    "start_time": "2022-11-14T02:17:45.170Z"
   },
   {
    "duration": 61,
    "start_time": "2022-11-14T02:17:48.282Z"
   },
   {
    "duration": 12,
    "start_time": "2022-11-14T02:21:32.836Z"
   },
   {
    "duration": 120,
    "start_time": "2022-11-14T02:21:46.468Z"
   },
   {
    "duration": 3,
    "start_time": "2022-11-14T02:22:26.341Z"
   },
   {
    "duration": 6,
    "start_time": "2022-11-14T02:22:26.346Z"
   },
   {
    "duration": 587,
    "start_time": "2022-11-14T02:22:26.353Z"
   },
   {
    "duration": 20,
    "start_time": "2022-11-14T02:22:26.941Z"
   },
   {
    "duration": 20,
    "start_time": "2022-11-14T02:22:26.962Z"
   },
   {
    "duration": 31,
    "start_time": "2022-11-14T02:22:26.984Z"
   },
   {
    "duration": 35,
    "start_time": "2022-11-14T02:22:27.017Z"
   },
   {
    "duration": 519,
    "start_time": "2022-11-14T02:22:27.053Z"
   },
   {
    "duration": 2,
    "start_time": "2022-11-14T02:22:27.574Z"
   },
   {
    "duration": 7,
    "start_time": "2022-11-14T02:22:27.578Z"
   },
   {
    "duration": 7,
    "start_time": "2022-11-14T02:22:27.586Z"
   },
   {
    "duration": 27,
    "start_time": "2022-11-14T02:22:27.594Z"
   },
   {
    "duration": 20,
    "start_time": "2022-11-14T02:22:27.622Z"
   },
   {
    "duration": 13,
    "start_time": "2022-11-14T02:22:27.645Z"
   },
   {
    "duration": 4,
    "start_time": "2022-11-14T02:22:27.660Z"
   },
   {
    "duration": 705,
    "start_time": "2022-11-14T02:22:27.666Z"
   },
   {
    "duration": 423,
    "start_time": "2022-11-14T02:22:28.373Z"
   },
   {
    "duration": 1317,
    "start_time": "2022-11-14T02:22:28.798Z"
   },
   {
    "duration": 17,
    "start_time": "2022-11-14T02:22:30.117Z"
   },
   {
    "duration": 3,
    "start_time": "2022-11-14T02:22:30.136Z"
   },
   {
    "duration": 13,
    "start_time": "2022-11-14T02:22:30.140Z"
   },
   {
    "duration": 6,
    "start_time": "2022-11-14T02:22:30.155Z"
   },
   {
    "duration": 9,
    "start_time": "2022-11-14T02:22:30.162Z"
   },
   {
    "duration": 28,
    "start_time": "2022-11-14T02:22:30.173Z"
   },
   {
    "duration": 14,
    "start_time": "2022-11-14T02:22:30.203Z"
   },
   {
    "duration": 12,
    "start_time": "2022-11-14T02:22:30.219Z"
   },
   {
    "duration": 117,
    "start_time": "2022-11-14T02:22:36.152Z"
   },
   {
    "duration": 130,
    "start_time": "2022-11-14T02:23:28.615Z"
   },
   {
    "duration": 63,
    "start_time": "2022-11-14T02:24:00.576Z"
   },
   {
    "duration": 32,
    "start_time": "2022-11-14T02:24:13.470Z"
   },
   {
    "duration": 118,
    "start_time": "2022-11-14T02:24:28.045Z"
   },
   {
    "duration": 9,
    "start_time": "2022-11-14T02:25:23.387Z"
   },
   {
    "duration": 58,
    "start_time": "2022-11-14T02:26:04.721Z"
   },
   {
    "duration": 9,
    "start_time": "2022-11-14T02:26:09.394Z"
   },
   {
    "duration": 9,
    "start_time": "2022-11-14T02:35:06.367Z"
   },
   {
    "duration": 3,
    "start_time": "2022-11-14T02:37:16.488Z"
   },
   {
    "duration": 5,
    "start_time": "2022-11-14T02:37:16.493Z"
   },
   {
    "duration": 597,
    "start_time": "2022-11-14T02:37:16.499Z"
   },
   {
    "duration": 19,
    "start_time": "2022-11-14T02:37:17.097Z"
   },
   {
    "duration": 20,
    "start_time": "2022-11-14T02:37:17.117Z"
   },
   {
    "duration": 17,
    "start_time": "2022-11-14T02:37:17.138Z"
   },
   {
    "duration": 35,
    "start_time": "2022-11-14T02:37:17.156Z"
   },
   {
    "duration": 511,
    "start_time": "2022-11-14T02:37:17.193Z"
   },
   {
    "duration": 7,
    "start_time": "2022-11-14T02:37:17.706Z"
   },
   {
    "duration": 8,
    "start_time": "2022-11-14T02:37:17.714Z"
   },
   {
    "duration": 10,
    "start_time": "2022-11-14T02:37:17.723Z"
   },
   {
    "duration": 13,
    "start_time": "2022-11-14T02:37:17.734Z"
   },
   {
    "duration": 16,
    "start_time": "2022-11-14T02:37:17.749Z"
   },
   {
    "duration": 12,
    "start_time": "2022-11-14T02:37:17.766Z"
   },
   {
    "duration": 4,
    "start_time": "2022-11-14T02:37:17.780Z"
   },
   {
    "duration": 593,
    "start_time": "2022-11-14T02:37:17.785Z"
   },
   {
    "duration": 415,
    "start_time": "2022-11-14T02:37:18.380Z"
   },
   {
    "duration": 1308,
    "start_time": "2022-11-14T02:37:18.796Z"
   },
   {
    "duration": 22,
    "start_time": "2022-11-14T02:37:20.105Z"
   },
   {
    "duration": 2,
    "start_time": "2022-11-14T02:37:20.129Z"
   },
   {
    "duration": 27,
    "start_time": "2022-11-14T02:37:20.133Z"
   },
   {
    "duration": 16,
    "start_time": "2022-11-14T02:37:20.162Z"
   },
   {
    "duration": 18,
    "start_time": "2022-11-14T02:37:20.179Z"
   },
   {
    "duration": 34,
    "start_time": "2022-11-14T02:37:20.201Z"
   },
   {
    "duration": 5,
    "start_time": "2022-11-14T02:37:20.237Z"
   },
   {
    "duration": 15,
    "start_time": "2022-11-14T02:37:20.243Z"
   },
   {
    "duration": 165,
    "start_time": "2022-11-14T02:37:20.260Z"
   },
   {
    "duration": 0,
    "start_time": "2022-11-14T02:37:20.427Z"
   },
   {
    "duration": 0,
    "start_time": "2022-11-14T02:37:20.428Z"
   },
   {
    "duration": 0,
    "start_time": "2022-11-14T02:37:20.429Z"
   },
   {
    "duration": 0,
    "start_time": "2022-11-14T02:37:20.430Z"
   },
   {
    "duration": 0,
    "start_time": "2022-11-14T02:37:20.431Z"
   },
   {
    "duration": 0,
    "start_time": "2022-11-14T02:37:20.432Z"
   },
   {
    "duration": 0,
    "start_time": "2022-11-14T02:37:20.433Z"
   },
   {
    "duration": 0,
    "start_time": "2022-11-14T02:37:20.434Z"
   },
   {
    "duration": 0,
    "start_time": "2022-11-14T02:37:20.435Z"
   },
   {
    "duration": 60,
    "start_time": "2022-11-14T02:39:03.953Z"
   },
   {
    "duration": 3,
    "start_time": "2022-11-14T02:41:22.736Z"
   },
   {
    "duration": 18,
    "start_time": "2022-11-14T02:41:22.741Z"
   },
   {
    "duration": 596,
    "start_time": "2022-11-14T02:41:22.760Z"
   },
   {
    "duration": 19,
    "start_time": "2022-11-14T02:41:23.358Z"
   },
   {
    "duration": 21,
    "start_time": "2022-11-14T02:41:23.379Z"
   },
   {
    "duration": 29,
    "start_time": "2022-11-14T02:41:23.402Z"
   },
   {
    "duration": 35,
    "start_time": "2022-11-14T02:41:23.432Z"
   },
   {
    "duration": 518,
    "start_time": "2022-11-14T02:41:23.468Z"
   },
   {
    "duration": 2,
    "start_time": "2022-11-14T02:41:23.987Z"
   },
   {
    "duration": 10,
    "start_time": "2022-11-14T02:41:23.990Z"
   },
   {
    "duration": 13,
    "start_time": "2022-11-14T02:41:24.001Z"
   },
   {
    "duration": 13,
    "start_time": "2022-11-14T02:41:24.016Z"
   },
   {
    "duration": 17,
    "start_time": "2022-11-14T02:41:24.030Z"
   },
   {
    "duration": 13,
    "start_time": "2022-11-14T02:41:24.049Z"
   },
   {
    "duration": 4,
    "start_time": "2022-11-14T02:41:24.064Z"
   },
   {
    "duration": 606,
    "start_time": "2022-11-14T02:41:24.069Z"
   },
   {
    "duration": 419,
    "start_time": "2022-11-14T02:41:24.676Z"
   },
   {
    "duration": 1319,
    "start_time": "2022-11-14T02:41:25.096Z"
   },
   {
    "duration": 16,
    "start_time": "2022-11-14T02:41:26.417Z"
   },
   {
    "duration": 3,
    "start_time": "2022-11-14T02:41:26.435Z"
   },
   {
    "duration": 8,
    "start_time": "2022-11-14T02:41:26.439Z"
   },
   {
    "duration": 4,
    "start_time": "2022-11-14T02:41:26.449Z"
   },
   {
    "duration": 5,
    "start_time": "2022-11-14T02:41:26.454Z"
   },
   {
    "duration": 21,
    "start_time": "2022-11-14T02:41:26.460Z"
   },
   {
    "duration": 4,
    "start_time": "2022-11-14T02:41:26.483Z"
   },
   {
    "duration": 25,
    "start_time": "2022-11-14T02:41:26.488Z"
   },
   {
    "duration": 61,
    "start_time": "2022-11-14T02:41:26.514Z"
   },
   {
    "duration": 0,
    "start_time": "2022-11-14T02:41:26.576Z"
   },
   {
    "duration": 0,
    "start_time": "2022-11-14T02:41:26.577Z"
   },
   {
    "duration": 0,
    "start_time": "2022-11-14T02:41:26.579Z"
   },
   {
    "duration": 0,
    "start_time": "2022-11-14T02:41:26.580Z"
   },
   {
    "duration": 0,
    "start_time": "2022-11-14T02:41:26.581Z"
   },
   {
    "duration": 0,
    "start_time": "2022-11-14T02:41:26.582Z"
   },
   {
    "duration": 0,
    "start_time": "2022-11-14T02:41:26.583Z"
   },
   {
    "duration": 0,
    "start_time": "2022-11-14T02:41:26.584Z"
   },
   {
    "duration": 0,
    "start_time": "2022-11-14T02:41:26.612Z"
   },
   {
    "duration": 0,
    "start_time": "2022-11-14T02:41:26.613Z"
   },
   {
    "duration": 7,
    "start_time": "2022-11-14T03:13:15.967Z"
   },
   {
    "duration": 0,
    "start_time": "2022-11-14T03:19:30.414Z"
   },
   {
    "duration": 0,
    "start_time": "2022-11-14T03:19:30.416Z"
   },
   {
    "duration": 0,
    "start_time": "2022-11-14T03:19:30.418Z"
   },
   {
    "duration": 0,
    "start_time": "2022-11-14T03:19:30.420Z"
   },
   {
    "duration": 0,
    "start_time": "2022-11-14T03:19:30.422Z"
   },
   {
    "duration": 0,
    "start_time": "2022-11-14T03:19:30.424Z"
   },
   {
    "duration": 0,
    "start_time": "2022-11-14T03:19:30.427Z"
   },
   {
    "duration": 0,
    "start_time": "2022-11-14T03:19:30.428Z"
   },
   {
    "duration": 0,
    "start_time": "2022-11-14T03:19:30.430Z"
   },
   {
    "duration": 0,
    "start_time": "2022-11-14T03:19:30.432Z"
   },
   {
    "duration": 0,
    "start_time": "2022-11-14T03:19:30.433Z"
   },
   {
    "duration": 0,
    "start_time": "2022-11-14T03:19:30.435Z"
   },
   {
    "duration": 0,
    "start_time": "2022-11-14T03:19:30.437Z"
   },
   {
    "duration": 1,
    "start_time": "2022-11-14T03:19:30.438Z"
   },
   {
    "duration": 0,
    "start_time": "2022-11-14T03:19:30.440Z"
   },
   {
    "duration": 0,
    "start_time": "2022-11-14T03:19:30.442Z"
   },
   {
    "duration": 0,
    "start_time": "2022-11-14T03:19:30.444Z"
   },
   {
    "duration": 0,
    "start_time": "2022-11-14T03:19:30.445Z"
   },
   {
    "duration": 0,
    "start_time": "2022-11-14T03:19:30.447Z"
   },
   {
    "duration": 0,
    "start_time": "2022-11-14T03:19:30.448Z"
   },
   {
    "duration": 0,
    "start_time": "2022-11-14T03:19:30.514Z"
   },
   {
    "duration": 0,
    "start_time": "2022-11-14T03:19:30.516Z"
   },
   {
    "duration": 0,
    "start_time": "2022-11-14T03:19:30.517Z"
   },
   {
    "duration": 0,
    "start_time": "2022-11-14T03:19:30.519Z"
   },
   {
    "duration": 0,
    "start_time": "2022-11-14T03:19:30.521Z"
   },
   {
    "duration": 0,
    "start_time": "2022-11-14T03:19:30.523Z"
   },
   {
    "duration": 0,
    "start_time": "2022-11-14T03:19:30.533Z"
   },
   {
    "duration": 4,
    "start_time": "2022-11-14T03:19:56.026Z"
   },
   {
    "duration": 4,
    "start_time": "2022-11-14T03:20:06.547Z"
   },
   {
    "duration": 18,
    "start_time": "2022-11-14T03:20:06.553Z"
   },
   {
    "duration": 629,
    "start_time": "2022-11-14T03:20:06.572Z"
   },
   {
    "duration": 18,
    "start_time": "2022-11-14T03:20:07.203Z"
   },
   {
    "duration": 17,
    "start_time": "2022-11-14T03:20:07.223Z"
   },
   {
    "duration": 26,
    "start_time": "2022-11-14T03:20:07.241Z"
   },
   {
    "duration": 46,
    "start_time": "2022-11-14T03:20:07.269Z"
   },
   {
    "duration": 510,
    "start_time": "2022-11-14T03:20:07.317Z"
   },
   {
    "duration": 2,
    "start_time": "2022-11-14T03:20:07.829Z"
   },
   {
    "duration": 10,
    "start_time": "2022-11-14T03:20:07.833Z"
   },
   {
    "duration": 5,
    "start_time": "2022-11-14T03:20:07.844Z"
   },
   {
    "duration": 17,
    "start_time": "2022-11-14T03:20:07.850Z"
   },
   {
    "duration": 22,
    "start_time": "2022-11-14T03:20:07.868Z"
   },
   {
    "duration": 33,
    "start_time": "2022-11-14T03:20:07.891Z"
   },
   {
    "duration": 4,
    "start_time": "2022-11-14T03:20:07.926Z"
   },
   {
    "duration": 730,
    "start_time": "2022-11-14T03:20:07.931Z"
   },
   {
    "duration": 432,
    "start_time": "2022-11-14T03:20:08.663Z"
   },
   {
    "duration": 1326,
    "start_time": "2022-11-14T03:20:09.097Z"
   },
   {
    "duration": 18,
    "start_time": "2022-11-14T03:20:10.425Z"
   },
   {
    "duration": 3,
    "start_time": "2022-11-14T03:20:10.444Z"
   },
   {
    "duration": 15,
    "start_time": "2022-11-14T03:20:10.449Z"
   },
   {
    "duration": 4,
    "start_time": "2022-11-14T03:20:10.466Z"
   },
   {
    "duration": 5,
    "start_time": "2022-11-14T03:20:10.471Z"
   },
   {
    "duration": 42,
    "start_time": "2022-11-14T03:20:10.478Z"
   },
   {
    "duration": 5,
    "start_time": "2022-11-14T03:20:10.521Z"
   },
   {
    "duration": 9,
    "start_time": "2022-11-14T03:20:10.527Z"
   },
   {
    "duration": 2,
    "start_time": "2022-11-14T03:20:10.537Z"
   },
   {
    "duration": 311574,
    "start_time": "2022-11-14T03:20:14.939Z"
   },
   {
    "duration": 57621,
    "start_time": "2022-11-14T03:26:32.483Z"
   },
   {
    "duration": 75,
    "start_time": "2022-11-14T03:27:56.438Z"
   },
   {
    "duration": 209,
    "start_time": "2022-11-14T03:28:36.115Z"
   },
   {
    "duration": 11,
    "start_time": "2022-11-14T03:28:43.622Z"
   },
   {
    "duration": 4,
    "start_time": "2022-11-14T03:29:45.394Z"
   },
   {
    "duration": 15,
    "start_time": "2022-11-14T03:29:55.737Z"
   },
   {
    "duration": 6,
    "start_time": "2022-11-14T03:30:04.638Z"
   },
   {
    "duration": 10,
    "start_time": "2022-11-14T03:30:14.206Z"
   },
   {
    "duration": 37,
    "start_time": "2022-11-14T03:30:17.180Z"
   },
   {
    "duration": 20455,
    "start_time": "2022-11-14T03:30:20.335Z"
   },
   {
    "duration": 7,
    "start_time": "2022-11-14T03:30:58.583Z"
   },
   {
    "duration": 31,
    "start_time": "2022-11-14T03:31:04.745Z"
   },
   {
    "duration": 7,
    "start_time": "2022-11-14T03:31:07.287Z"
   },
   {
    "duration": 2460,
    "start_time": "2022-11-14T05:42:43.465Z"
   },
   {
    "duration": 3,
    "start_time": "2022-11-14T05:42:45.929Z"
   },
   {
    "duration": 3128,
    "start_time": "2022-11-14T05:42:45.934Z"
   },
   {
    "duration": 24,
    "start_time": "2022-11-14T05:42:49.064Z"
   },
   {
    "duration": 21,
    "start_time": "2022-11-14T05:42:49.091Z"
   },
   {
    "duration": 23,
    "start_time": "2022-11-14T05:42:49.118Z"
   },
   {
    "duration": 50,
    "start_time": "2022-11-14T05:42:49.143Z"
   },
   {
    "duration": 585,
    "start_time": "2022-11-14T05:42:49.195Z"
   },
   {
    "duration": 3,
    "start_time": "2022-11-14T05:42:49.782Z"
   },
   {
    "duration": 9,
    "start_time": "2022-11-14T05:42:49.786Z"
   },
   {
    "duration": 6,
    "start_time": "2022-11-14T05:42:49.796Z"
   },
   {
    "duration": 19,
    "start_time": "2022-11-14T05:42:49.820Z"
   },
   {
    "duration": 22,
    "start_time": "2022-11-14T05:42:49.841Z"
   },
   {
    "duration": 8,
    "start_time": "2022-11-14T05:42:49.866Z"
   },
   {
    "duration": 1740,
    "start_time": "2022-11-14T06:10:43.631Z"
   },
   {
    "duration": 3,
    "start_time": "2022-11-14T06:10:45.373Z"
   },
   {
    "duration": 1847,
    "start_time": "2022-11-14T06:10:45.378Z"
   },
   {
    "duration": 28,
    "start_time": "2022-11-14T06:10:47.227Z"
   },
   {
    "duration": 25,
    "start_time": "2022-11-14T06:10:47.257Z"
   },
   {
    "duration": 23,
    "start_time": "2022-11-14T06:10:47.285Z"
   },
   {
    "duration": 69,
    "start_time": "2022-11-14T06:10:47.310Z"
   },
   {
    "duration": 614,
    "start_time": "2022-11-14T06:10:47.381Z"
   },
   {
    "duration": 2,
    "start_time": "2022-11-14T06:10:47.998Z"
   },
   {
    "duration": 7,
    "start_time": "2022-11-14T06:10:48.004Z"
   },
   {
    "duration": 6,
    "start_time": "2022-11-14T06:10:48.013Z"
   },
   {
    "duration": 43,
    "start_time": "2022-11-14T06:10:48.021Z"
   },
   {
    "duration": 22,
    "start_time": "2022-11-14T06:10:48.065Z"
   },
   {
    "duration": 8,
    "start_time": "2022-11-14T06:10:48.089Z"
   },
   {
    "duration": 14,
    "start_time": "2022-11-14T06:10:48.099Z"
   },
   {
    "duration": 5,
    "start_time": "2022-11-14T06:10:48.114Z"
   },
   {
    "duration": 7,
    "start_time": "2022-11-14T06:11:00.464Z"
   },
   {
    "duration": 6,
    "start_time": "2022-11-14T06:11:31.731Z"
   },
   {
    "duration": 75,
    "start_time": "2022-11-14T06:15:44.337Z"
   },
   {
    "duration": 851,
    "start_time": "2022-11-14T06:18:56.135Z"
   },
   {
    "duration": 4,
    "start_time": "2022-11-14T06:19:22.705Z"
   },
   {
    "duration": 7,
    "start_time": "2022-11-14T06:19:22.711Z"
   },
   {
    "duration": 747,
    "start_time": "2022-11-14T06:19:22.720Z"
   },
   {
    "duration": 25,
    "start_time": "2022-11-14T06:19:23.470Z"
   },
   {
    "duration": 32,
    "start_time": "2022-11-14T06:19:23.497Z"
   },
   {
    "duration": 41,
    "start_time": "2022-11-14T06:19:23.531Z"
   },
   {
    "duration": 50,
    "start_time": "2022-11-14T06:19:23.574Z"
   },
   {
    "duration": 640,
    "start_time": "2022-11-14T06:19:23.626Z"
   },
   {
    "duration": 6,
    "start_time": "2022-11-14T06:19:24.268Z"
   },
   {
    "duration": 9,
    "start_time": "2022-11-14T06:19:24.276Z"
   },
   {
    "duration": 25,
    "start_time": "2022-11-14T06:19:24.287Z"
   },
   {
    "duration": 42,
    "start_time": "2022-11-14T06:19:24.315Z"
   },
   {
    "duration": 11,
    "start_time": "2022-11-14T06:19:24.359Z"
   },
   {
    "duration": 15,
    "start_time": "2022-11-14T06:19:24.372Z"
   },
   {
    "duration": 9,
    "start_time": "2022-11-14T06:19:24.389Z"
   },
   {
    "duration": 7,
    "start_time": "2022-11-14T06:19:24.400Z"
   },
   {
    "duration": 6,
    "start_time": "2022-11-14T06:19:24.409Z"
   },
   {
    "duration": 726,
    "start_time": "2022-11-14T06:19:31.429Z"
   },
   {
    "duration": 704,
    "start_time": "2022-11-14T06:21:12.362Z"
   },
   {
    "duration": 829,
    "start_time": "2022-11-14T06:21:36.637Z"
   },
   {
    "duration": 724,
    "start_time": "2022-11-14T06:22:04.158Z"
   },
   {
    "duration": 4,
    "start_time": "2022-11-14T06:23:36.848Z"
   },
   {
    "duration": 31,
    "start_time": "2022-11-14T06:23:36.855Z"
   },
   {
    "duration": 738,
    "start_time": "2022-11-14T06:23:36.888Z"
   },
   {
    "duration": 30,
    "start_time": "2022-11-14T06:23:37.628Z"
   },
   {
    "duration": 38,
    "start_time": "2022-11-14T06:23:37.660Z"
   },
   {
    "duration": 33,
    "start_time": "2022-11-14T06:23:37.700Z"
   },
   {
    "duration": 67,
    "start_time": "2022-11-14T06:23:37.735Z"
   },
   {
    "duration": 597,
    "start_time": "2022-11-14T06:23:37.804Z"
   },
   {
    "duration": 6,
    "start_time": "2022-11-14T06:23:38.403Z"
   },
   {
    "duration": 10,
    "start_time": "2022-11-14T06:23:38.411Z"
   },
   {
    "duration": 34,
    "start_time": "2022-11-14T06:23:38.422Z"
   },
   {
    "duration": 23,
    "start_time": "2022-11-14T06:23:38.458Z"
   },
   {
    "duration": 10,
    "start_time": "2022-11-14T06:23:38.483Z"
   },
   {
    "duration": 20,
    "start_time": "2022-11-14T06:23:38.496Z"
   },
   {
    "duration": 5,
    "start_time": "2022-11-14T06:23:38.517Z"
   },
   {
    "duration": 32,
    "start_time": "2022-11-14T06:23:38.524Z"
   },
   {
    "duration": 7,
    "start_time": "2022-11-14T06:23:38.557Z"
   },
   {
    "duration": 887,
    "start_time": "2022-11-14T06:23:38.567Z"
   },
   {
    "duration": 579,
    "start_time": "2022-11-14T06:23:39.456Z"
   },
   {
    "duration": 147,
    "start_time": "2022-11-14T06:23:40.036Z"
   },
   {
    "duration": 0,
    "start_time": "2022-11-14T06:23:40.185Z"
   },
   {
    "duration": 0,
    "start_time": "2022-11-14T06:23:40.186Z"
   },
   {
    "duration": 0,
    "start_time": "2022-11-14T06:23:40.188Z"
   },
   {
    "duration": 0,
    "start_time": "2022-11-14T06:23:40.190Z"
   },
   {
    "duration": 0,
    "start_time": "2022-11-14T06:23:40.191Z"
   },
   {
    "duration": 0,
    "start_time": "2022-11-14T06:23:40.192Z"
   },
   {
    "duration": 0,
    "start_time": "2022-11-14T06:23:40.194Z"
   },
   {
    "duration": 0,
    "start_time": "2022-11-14T06:23:40.195Z"
   },
   {
    "duration": 0,
    "start_time": "2022-11-14T06:23:40.196Z"
   },
   {
    "duration": 17,
    "start_time": "2022-11-14T06:24:53.844Z"
   },
   {
    "duration": 19,
    "start_time": "2022-11-14T06:25:02.131Z"
   },
   {
    "duration": 19,
    "start_time": "2022-11-14T06:31:17.242Z"
   },
   {
    "duration": 21,
    "start_time": "2022-11-14T06:31:31.429Z"
   },
   {
    "duration": 21,
    "start_time": "2022-11-14T06:31:59.771Z"
   },
   {
    "duration": 24,
    "start_time": "2022-11-14T06:33:06.081Z"
   },
   {
    "duration": 21,
    "start_time": "2022-11-14T06:33:25.649Z"
   },
   {
    "duration": 287,
    "start_time": "2022-11-14T06:33:43.421Z"
   },
   {
    "duration": 288,
    "start_time": "2022-11-14T06:34:05.664Z"
   },
   {
    "duration": 403,
    "start_time": "2022-11-14T06:50:32.660Z"
   },
   {
    "duration": 4,
    "start_time": "2022-11-14T06:51:35.374Z"
   },
   {
    "duration": 18,
    "start_time": "2022-11-14T06:51:35.380Z"
   },
   {
    "duration": 835,
    "start_time": "2022-11-14T06:51:35.400Z"
   },
   {
    "duration": 31,
    "start_time": "2022-11-14T06:51:36.237Z"
   },
   {
    "duration": 30,
    "start_time": "2022-11-14T06:51:36.271Z"
   },
   {
    "duration": 48,
    "start_time": "2022-11-14T06:51:36.303Z"
   },
   {
    "duration": 47,
    "start_time": "2022-11-14T06:51:36.353Z"
   },
   {
    "duration": 635,
    "start_time": "2022-11-14T06:51:36.403Z"
   },
   {
    "duration": 12,
    "start_time": "2022-11-14T06:51:37.041Z"
   },
   {
    "duration": 13,
    "start_time": "2022-11-14T06:51:37.055Z"
   },
   {
    "duration": 19,
    "start_time": "2022-11-14T06:51:37.070Z"
   },
   {
    "duration": 25,
    "start_time": "2022-11-14T06:51:37.091Z"
   },
   {
    "duration": 34,
    "start_time": "2022-11-14T06:51:37.118Z"
   },
   {
    "duration": 16,
    "start_time": "2022-11-14T06:51:37.154Z"
   },
   {
    "duration": 5,
    "start_time": "2022-11-14T06:51:37.172Z"
   },
   {
    "duration": 7,
    "start_time": "2022-11-14T06:51:37.179Z"
   },
   {
    "duration": 7,
    "start_time": "2022-11-14T06:51:37.188Z"
   },
   {
    "duration": 879,
    "start_time": "2022-11-14T06:51:37.197Z"
   },
   {
    "duration": 415,
    "start_time": "2022-11-14T06:51:38.077Z"
   },
   {
    "duration": 77,
    "start_time": "2022-11-14T06:51:38.494Z"
   },
   {
    "duration": 0,
    "start_time": "2022-11-14T06:51:38.574Z"
   },
   {
    "duration": 0,
    "start_time": "2022-11-14T06:51:38.575Z"
   },
   {
    "duration": 0,
    "start_time": "2022-11-14T06:51:38.577Z"
   },
   {
    "duration": 0,
    "start_time": "2022-11-14T06:51:38.578Z"
   },
   {
    "duration": 0,
    "start_time": "2022-11-14T06:51:38.579Z"
   },
   {
    "duration": 0,
    "start_time": "2022-11-14T06:51:38.581Z"
   },
   {
    "duration": 1,
    "start_time": "2022-11-14T06:51:38.582Z"
   },
   {
    "duration": 0,
    "start_time": "2022-11-14T06:51:38.584Z"
   },
   {
    "duration": 0,
    "start_time": "2022-11-14T06:51:38.585Z"
   },
   {
    "duration": 0,
    "start_time": "2022-11-14T06:51:38.586Z"
   },
   {
    "duration": 13,
    "start_time": "2022-11-14T06:52:08.830Z"
   },
   {
    "duration": 394,
    "start_time": "2022-11-14T06:52:31.439Z"
   },
   {
    "duration": 23,
    "start_time": "2022-11-14T06:52:44.974Z"
   },
   {
    "duration": 5,
    "start_time": "2022-11-14T06:52:47.782Z"
   },
   {
    "duration": 9,
    "start_time": "2022-11-14T06:52:50.707Z"
   },
   {
    "duration": 3,
    "start_time": "2022-11-14T06:52:56.009Z"
   },
   {
    "duration": 4,
    "start_time": "2022-11-14T06:52:58.902Z"
   },
   {
    "duration": 28,
    "start_time": "2022-11-14T06:53:01.300Z"
   },
   {
    "duration": 5,
    "start_time": "2022-11-14T06:53:04.767Z"
   },
   {
    "duration": 8,
    "start_time": "2022-11-14T06:53:06.425Z"
   },
   {
    "duration": 3,
    "start_time": "2022-11-14T06:53:09.454Z"
   },
   {
    "duration": 405718,
    "start_time": "2022-11-14T06:53:11.834Z"
   },
   {
    "duration": 15,
    "start_time": "2022-11-14T07:03:56.133Z"
   },
   {
    "duration": 19,
    "start_time": "2022-11-14T07:03:59.740Z"
   },
   {
    "duration": 4,
    "start_time": "2022-11-14T07:04:42.599Z"
   },
   {
    "duration": 12,
    "start_time": "2022-11-14T07:04:42.605Z"
   },
   {
    "duration": 786,
    "start_time": "2022-11-14T07:04:42.618Z"
   },
   {
    "duration": 23,
    "start_time": "2022-11-14T07:04:43.406Z"
   },
   {
    "duration": 38,
    "start_time": "2022-11-14T07:04:43.431Z"
   },
   {
    "duration": 23,
    "start_time": "2022-11-14T07:04:43.471Z"
   },
   {
    "duration": 63,
    "start_time": "2022-11-14T07:04:43.495Z"
   },
   {
    "duration": 609,
    "start_time": "2022-11-14T07:04:43.559Z"
   },
   {
    "duration": 6,
    "start_time": "2022-11-14T07:04:44.170Z"
   },
   {
    "duration": 13,
    "start_time": "2022-11-14T07:04:44.178Z"
   },
   {
    "duration": 25,
    "start_time": "2022-11-14T07:04:44.193Z"
   },
   {
    "duration": 37,
    "start_time": "2022-11-14T07:04:44.220Z"
   },
   {
    "duration": 9,
    "start_time": "2022-11-14T07:04:44.259Z"
   },
   {
    "duration": 15,
    "start_time": "2022-11-14T07:04:44.271Z"
   },
   {
    "duration": 5,
    "start_time": "2022-11-14T07:04:44.288Z"
   },
   {
    "duration": 10,
    "start_time": "2022-11-14T07:04:44.295Z"
   },
   {
    "duration": 7,
    "start_time": "2022-11-14T07:04:44.306Z"
   },
   {
    "duration": 753,
    "start_time": "2022-11-14T07:04:44.315Z"
   },
   {
    "duration": 503,
    "start_time": "2022-11-14T07:04:45.070Z"
   },
   {
    "duration": 502,
    "start_time": "2022-11-14T07:04:45.575Z"
   },
   {
    "duration": 18,
    "start_time": "2022-11-14T07:04:46.079Z"
   },
   {
    "duration": 4,
    "start_time": "2022-11-14T07:04:46.099Z"
   },
   {
    "duration": 13,
    "start_time": "2022-11-14T07:04:46.104Z"
   },
   {
    "duration": 7,
    "start_time": "2022-11-14T07:04:46.118Z"
   },
   {
    "duration": 8,
    "start_time": "2022-11-14T07:04:46.127Z"
   },
   {
    "duration": 37,
    "start_time": "2022-11-14T07:04:46.136Z"
   },
   {
    "duration": 5,
    "start_time": "2022-11-14T07:04:46.175Z"
   },
   {
    "duration": 8,
    "start_time": "2022-11-14T07:04:46.182Z"
   },
   {
    "duration": 3,
    "start_time": "2022-11-14T07:04:48.738Z"
   },
   {
    "duration": 15,
    "start_time": "2022-11-14T07:05:07.327Z"
   },
   {
    "duration": 18,
    "start_time": "2022-11-14T07:05:10.713Z"
   },
   {
    "duration": 5,
    "start_time": "2022-11-14T07:05:26.847Z"
   },
   {
    "duration": 12,
    "start_time": "2022-11-14T07:05:26.855Z"
   },
   {
    "duration": 781,
    "start_time": "2022-11-14T07:05:26.869Z"
   },
   {
    "duration": 32,
    "start_time": "2022-11-14T07:05:27.654Z"
   },
   {
    "duration": 32,
    "start_time": "2022-11-14T07:05:27.688Z"
   },
   {
    "duration": 42,
    "start_time": "2022-11-14T07:05:27.722Z"
   },
   {
    "duration": 55,
    "start_time": "2022-11-14T07:05:27.766Z"
   },
   {
    "duration": 669,
    "start_time": "2022-11-14T07:05:27.823Z"
   },
   {
    "duration": 7,
    "start_time": "2022-11-14T07:05:28.494Z"
   },
   {
    "duration": 8,
    "start_time": "2022-11-14T07:05:28.503Z"
   },
   {
    "duration": 40,
    "start_time": "2022-11-14T07:05:28.512Z"
   },
   {
    "duration": 29,
    "start_time": "2022-11-14T07:05:28.555Z"
   },
   {
    "duration": 11,
    "start_time": "2022-11-14T07:05:28.587Z"
   },
   {
    "duration": 18,
    "start_time": "2022-11-14T07:05:28.600Z"
   },
   {
    "duration": 38,
    "start_time": "2022-11-14T07:05:28.620Z"
   },
   {
    "duration": 24,
    "start_time": "2022-11-14T07:05:28.661Z"
   },
   {
    "duration": 10,
    "start_time": "2022-11-14T07:05:28.687Z"
   },
   {
    "duration": 854,
    "start_time": "2022-11-14T07:05:28.699Z"
   },
   {
    "duration": 599,
    "start_time": "2022-11-14T07:05:29.555Z"
   },
   {
    "duration": 446,
    "start_time": "2022-11-14T07:05:30.157Z"
   },
   {
    "duration": 23,
    "start_time": "2022-11-14T07:05:30.605Z"
   },
   {
    "duration": 44,
    "start_time": "2022-11-14T07:05:30.631Z"
   },
   {
    "duration": 26,
    "start_time": "2022-11-14T07:05:30.678Z"
   },
   {
    "duration": 48,
    "start_time": "2022-11-14T07:05:30.709Z"
   },
   {
    "duration": 49,
    "start_time": "2022-11-14T07:05:30.759Z"
   },
   {
    "duration": 49,
    "start_time": "2022-11-14T07:05:30.810Z"
   },
   {
    "duration": 7,
    "start_time": "2022-11-14T07:05:30.861Z"
   },
   {
    "duration": 36,
    "start_time": "2022-11-14T07:05:30.870Z"
   },
   {
    "duration": 36,
    "start_time": "2022-11-14T07:05:30.908Z"
   },
   {
    "duration": 412210,
    "start_time": "2022-11-14T07:05:30.946Z"
   },
   {
    "duration": 1971,
    "start_time": "2022-11-14T07:12:23.250Z"
   },
   {
    "duration": 17,
    "start_time": "2022-11-14T07:12:25.223Z"
   },
   {
    "duration": 22,
    "start_time": "2022-11-14T07:12:55.298Z"
   },
   {
    "duration": 4,
    "start_time": "2022-11-14T07:16:26.909Z"
   },
   {
    "duration": 10,
    "start_time": "2022-11-14T07:16:29.507Z"
   },
   {
    "duration": 4,
    "start_time": "2022-11-14T07:17:48.672Z"
   },
   {
    "duration": 10,
    "start_time": "2022-11-14T07:18:13.148Z"
   },
   {
    "duration": 11,
    "start_time": "2022-11-14T07:20:13.117Z"
   },
   {
    "duration": 16,
    "start_time": "2022-11-14T07:22:10.277Z"
   },
   {
    "duration": 13,
    "start_time": "2022-11-14T07:23:11.361Z"
   },
   {
    "duration": 5,
    "start_time": "2022-11-14T07:23:38.012Z"
   },
   {
    "duration": 3,
    "start_time": "2022-11-14T07:23:41.299Z"
   },
   {
    "duration": 4,
    "start_time": "2022-11-14T07:23:49.715Z"
   },
   {
    "duration": 407,
    "start_time": "2022-11-14T07:23:54.209Z"
   },
   {
    "duration": 76,
    "start_time": "2022-11-14T07:24:15.563Z"
   },
   {
    "duration": 634793,
    "start_time": "2022-11-14T07:29:28.570Z"
   },
   {
    "duration": 393,
    "start_time": "2022-11-14T07:40:13.173Z"
   },
   {
    "duration": 5,
    "start_time": "2022-11-14T07:41:16.133Z"
   },
   {
    "duration": 8,
    "start_time": "2022-11-14T07:51:49.462Z"
   },
   {
    "duration": 72,
    "start_time": "2022-11-14T07:53:24.761Z"
   },
   {
    "duration": 4,
    "start_time": "2022-11-14T07:55:04.237Z"
   },
   {
    "duration": 10,
    "start_time": "2022-11-14T07:55:04.244Z"
   },
   {
    "duration": 718,
    "start_time": "2022-11-14T07:55:04.258Z"
   },
   {
    "duration": 23,
    "start_time": "2022-11-14T07:55:04.978Z"
   },
   {
    "duration": 23,
    "start_time": "2022-11-14T07:55:05.005Z"
   },
   {
    "duration": 44,
    "start_time": "2022-11-14T07:55:05.051Z"
   },
   {
    "duration": 69,
    "start_time": "2022-11-14T07:55:05.097Z"
   },
   {
    "duration": 642,
    "start_time": "2022-11-14T07:55:05.168Z"
   },
   {
    "duration": 7,
    "start_time": "2022-11-14T07:55:05.811Z"
   },
   {
    "duration": 39,
    "start_time": "2022-11-14T07:55:05.820Z"
   },
   {
    "duration": 24,
    "start_time": "2022-11-14T07:55:05.862Z"
   },
   {
    "duration": 34,
    "start_time": "2022-11-14T07:55:05.888Z"
   },
   {
    "duration": 10,
    "start_time": "2022-11-14T07:55:05.924Z"
   },
   {
    "duration": 53,
    "start_time": "2022-11-14T07:55:05.936Z"
   },
   {
    "duration": 28,
    "start_time": "2022-11-14T07:55:05.991Z"
   },
   {
    "duration": 25,
    "start_time": "2022-11-14T07:55:06.021Z"
   },
   {
    "duration": 33,
    "start_time": "2022-11-14T07:55:06.049Z"
   },
   {
    "duration": 779,
    "start_time": "2022-11-14T07:55:06.084Z"
   },
   {
    "duration": 430,
    "start_time": "2022-11-14T07:55:06.865Z"
   },
   {
    "duration": 413,
    "start_time": "2022-11-14T07:55:07.297Z"
   },
   {
    "duration": 40,
    "start_time": "2022-11-14T07:55:07.712Z"
   },
   {
    "duration": 4,
    "start_time": "2022-11-14T07:55:07.754Z"
   },
   {
    "duration": 18,
    "start_time": "2022-11-14T07:55:07.761Z"
   },
   {
    "duration": 6,
    "start_time": "2022-11-14T07:55:07.781Z"
   },
   {
    "duration": 9,
    "start_time": "2022-11-14T07:55:07.789Z"
   },
   {
    "duration": 53,
    "start_time": "2022-11-14T07:55:07.800Z"
   },
   {
    "duration": 7,
    "start_time": "2022-11-14T07:55:07.855Z"
   },
   {
    "duration": 12,
    "start_time": "2022-11-14T07:55:07.864Z"
   },
   {
    "duration": 4,
    "start_time": "2022-11-14T07:55:07.879Z"
   },
   {
    "duration": 426375,
    "start_time": "2022-11-14T07:55:07.884Z"
   },
   {
    "duration": 96,
    "start_time": "2022-11-14T08:02:14.261Z"
   },
   {
    "duration": 657377,
    "start_time": "2022-11-14T08:02:14.360Z"
   },
   {
    "duration": 4,
    "start_time": "2022-11-14T08:13:11.739Z"
   },
   {
    "duration": 1839,
    "start_time": "2022-11-14T08:13:11.756Z"
   },
   {
    "duration": 17,
    "start_time": "2022-11-14T08:13:13.598Z"
   },
   {
    "duration": 20,
    "start_time": "2022-11-14T08:13:13.617Z"
   },
   {
    "duration": 32,
    "start_time": "2022-11-14T08:13:13.659Z"
   },
   {
    "duration": 26,
    "start_time": "2022-11-14T08:13:13.693Z"
   },
   {
    "duration": 29,
    "start_time": "2022-11-14T08:13:13.721Z"
   },
   {
    "duration": 111,
    "start_time": "2022-11-14T08:13:13.768Z"
   },
   {
    "duration": 28596,
    "start_time": "2022-11-14T08:13:13.884Z"
   },
   {
    "duration": 8,
    "start_time": "2022-11-14T08:13:42.481Z"
   },
   {
    "duration": 17,
    "start_time": "2022-11-14T08:13:42.491Z"
   },
   {
    "duration": 94,
    "start_time": "2022-11-14T08:13:42.511Z"
   },
   {
    "duration": 8,
    "start_time": "2022-11-14T08:13:55.725Z"
   },
   {
    "duration": 1553,
    "start_time": "2022-11-14T15:45:27.225Z"
   },
   {
    "duration": 3,
    "start_time": "2022-11-14T15:45:28.781Z"
   },
   {
    "duration": 2012,
    "start_time": "2022-11-14T15:45:28.786Z"
   },
   {
    "duration": 28,
    "start_time": "2022-11-14T15:45:30.800Z"
   },
   {
    "duration": 21,
    "start_time": "2022-11-14T15:45:30.830Z"
   },
   {
    "duration": 38,
    "start_time": "2022-11-14T15:45:30.852Z"
   },
   {
    "duration": 54,
    "start_time": "2022-11-14T15:45:30.892Z"
   },
   {
    "duration": 570,
    "start_time": "2022-11-14T15:45:30.948Z"
   },
   {
    "duration": 8,
    "start_time": "2022-11-14T15:45:31.523Z"
   },
   {
    "duration": 5,
    "start_time": "2022-11-14T15:45:31.533Z"
   },
   {
    "duration": 21,
    "start_time": "2022-11-14T15:45:31.540Z"
   },
   {
    "duration": 22,
    "start_time": "2022-11-14T15:45:31.563Z"
   },
   {
    "duration": 32,
    "start_time": "2022-11-14T15:45:31.586Z"
   },
   {
    "duration": 16,
    "start_time": "2022-11-14T15:45:31.620Z"
   },
   {
    "duration": 5,
    "start_time": "2022-11-14T15:45:31.637Z"
   },
   {
    "duration": 7,
    "start_time": "2022-11-14T15:45:31.643Z"
   },
   {
    "duration": 6,
    "start_time": "2022-11-14T15:45:31.652Z"
   },
   {
    "duration": 786,
    "start_time": "2022-11-14T15:45:31.660Z"
   },
   {
    "duration": 469,
    "start_time": "2022-11-14T15:45:32.447Z"
   },
   {
    "duration": 358,
    "start_time": "2022-11-14T15:45:32.921Z"
   },
   {
    "duration": 20,
    "start_time": "2022-11-14T15:45:33.281Z"
   },
   {
    "duration": 4,
    "start_time": "2022-11-14T15:45:33.312Z"
   },
   {
    "duration": 17,
    "start_time": "2022-11-14T15:45:33.318Z"
   },
   {
    "duration": 7,
    "start_time": "2022-11-14T15:45:33.337Z"
   },
   {
    "duration": 6,
    "start_time": "2022-11-14T15:45:33.345Z"
   },
   {
    "duration": 26,
    "start_time": "2022-11-14T15:45:33.353Z"
   },
   {
    "duration": 6,
    "start_time": "2022-11-14T15:45:33.380Z"
   },
   {
    "duration": 9,
    "start_time": "2022-11-14T15:45:33.388Z"
   },
   {
    "duration": 16,
    "start_time": "2022-11-14T15:45:33.398Z"
   },
   {
    "duration": 344039,
    "start_time": "2022-11-14T15:45:37.282Z"
   },
   {
    "duration": 195,
    "start_time": "2022-11-14T15:54:21.361Z"
   },
   {
    "duration": 3,
    "start_time": "2022-11-14T15:54:32.794Z"
   },
   {
    "duration": 83,
    "start_time": "2022-11-14T15:54:35.565Z"
   },
   {
    "duration": 86,
    "start_time": "2022-11-14T15:56:28.153Z"
   },
   {
    "duration": 91,
    "start_time": "2022-11-14T15:57:19.152Z"
   },
   {
    "duration": 81,
    "start_time": "2022-11-14T15:57:27.126Z"
   },
   {
    "duration": 75,
    "start_time": "2022-11-14T15:57:51.148Z"
   },
   {
    "duration": 527519,
    "start_time": "2022-11-14T16:00:30.503Z"
   },
   {
    "duration": 4,
    "start_time": "2022-11-14T16:09:27.990Z"
   },
   {
    "duration": 84095,
    "start_time": "2022-11-14T16:09:33.370Z"
   },
   {
    "duration": 14,
    "start_time": "2022-11-14T16:10:57.468Z"
   },
   {
    "duration": 85761,
    "start_time": "2022-11-14T16:12:26.297Z"
   },
   {
    "duration": 13,
    "start_time": "2022-11-14T16:14:03.641Z"
   },
   {
    "duration": 147,
    "start_time": "2022-11-14T16:14:06.950Z"
   },
   {
    "duration": 15,
    "start_time": "2022-11-14T16:14:11.666Z"
   },
   {
    "duration": 5,
    "start_time": "2022-11-14T16:14:16.602Z"
   },
   {
    "duration": 66,
    "start_time": "2022-11-14T16:14:21.430Z"
   },
   {
    "duration": 103,
    "start_time": "2022-11-14T16:14:25.224Z"
   },
   {
    "duration": 22477,
    "start_time": "2022-11-14T16:14:28.499Z"
   },
   {
    "duration": 7,
    "start_time": "2022-11-14T16:14:56.666Z"
   },
   {
    "duration": 86,
    "start_time": "2022-11-14T16:15:00.491Z"
   },
   {
    "duration": 6,
    "start_time": "2022-11-14T16:15:02.893Z"
   }
  ],
  "kernelspec": {
   "display_name": "Python 3 (ipykernel)",
   "language": "python",
   "name": "python3"
  },
  "language_info": {
   "codemirror_mode": {
    "name": "ipython",
    "version": 3
   },
   "file_extension": ".py",
   "mimetype": "text/x-python",
   "name": "python",
   "nbconvert_exporter": "python",
   "pygments_lexer": "ipython3",
   "version": "3.9.5"
  },
  "toc": {
   "base_numbering": 1,
   "nav_menu": {},
   "number_sections": true,
   "sideBar": true,
   "skip_h1_title": true,
   "title_cell": "Содержание",
   "title_sidebar": "Contents",
   "toc_cell": true,
   "toc_position": {},
   "toc_section_display": true,
   "toc_window_display": true
  }
 },
 "nbformat": 4,
 "nbformat_minor": 2
}
