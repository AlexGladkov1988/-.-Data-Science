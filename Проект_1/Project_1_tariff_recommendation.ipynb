{
 "cells": [
  {
   "cell_type": "markdown",
   "metadata": {},
   "source": [
    "# Рекомендация тарифов"
   ]
  },
  {
   "cell_type": "markdown",
   "metadata": {},
   "source": [
    "В нашем распоряжении данные о поведении клиентов, которые уже перешли на эти тарифы (из проекта курса «Статистический анализ данных»). Нужно построить модель для задачи классификации, которая выберет подходящий тариф. Предобработка данных не понадобится — вы её уже сделали.\n",
    "\n",
    "Постройте модель с максимально большим значением *accuracy*. Чтобы сдать проект успешно, нужно довести долю правильных ответов по крайней мере до 0.75. Проверьте *accuracy* на тестовой выборке самостоятельно."
   ]
  },
  {
   "cell_type": "markdown",
   "metadata": {},
   "source": [
    "импортируем библиотеки:"
   ]
  },
  {
   "cell_type": "code",
   "execution_count": 200,
   "metadata": {},
   "outputs": [],
   "source": [
    "import pandas as pd\n",
    "from sklearn.tree import DecisionTreeClassifier\n",
    "from sklearn.ensemble import RandomForestClassifier\n",
    "from joblib import dump\n",
    "from sklearn.linear_model import LogisticRegression\n",
    "from sklearn.model_selection import train_test_split\n",
    "from sklearn.metrics import accuracy_score"
   ]
  },
  {
   "cell_type": "markdown",
   "metadata": {},
   "source": [
    "откроем файл:"
   ]
  },
  {
   "cell_type": "code",
   "execution_count": 201,
   "metadata": {},
   "outputs": [],
   "source": [
    "data = pd.read_csv('/datasets/users_behavior.csv')"
   ]
  },
  {
   "cell_type": "markdown",
   "metadata": {},
   "source": [
    "Выведим первые 5 строк датафрейма:"
   ]
  },
  {
   "cell_type": "code",
   "execution_count": 202,
   "metadata": {},
   "outputs": [
    {
     "data": {
      "text/html": [
       "<div>\n",
       "<style scoped>\n",
       "    .dataframe tbody tr th:only-of-type {\n",
       "        vertical-align: middle;\n",
       "    }\n",
       "\n",
       "    .dataframe tbody tr th {\n",
       "        vertical-align: top;\n",
       "    }\n",
       "\n",
       "    .dataframe thead th {\n",
       "        text-align: right;\n",
       "    }\n",
       "</style>\n",
       "<table border=\"1\" class=\"dataframe\">\n",
       "  <thead>\n",
       "    <tr style=\"text-align: right;\">\n",
       "      <th></th>\n",
       "      <th>calls</th>\n",
       "      <th>minutes</th>\n",
       "      <th>messages</th>\n",
       "      <th>mb_used</th>\n",
       "      <th>is_ultra</th>\n",
       "    </tr>\n",
       "  </thead>\n",
       "  <tbody>\n",
       "    <tr>\n",
       "      <th>0</th>\n",
       "      <td>40.0</td>\n",
       "      <td>311.90</td>\n",
       "      <td>83.0</td>\n",
       "      <td>19915.42</td>\n",
       "      <td>0</td>\n",
       "    </tr>\n",
       "    <tr>\n",
       "      <th>1</th>\n",
       "      <td>85.0</td>\n",
       "      <td>516.75</td>\n",
       "      <td>56.0</td>\n",
       "      <td>22696.96</td>\n",
       "      <td>0</td>\n",
       "    </tr>\n",
       "    <tr>\n",
       "      <th>2</th>\n",
       "      <td>77.0</td>\n",
       "      <td>467.66</td>\n",
       "      <td>86.0</td>\n",
       "      <td>21060.45</td>\n",
       "      <td>0</td>\n",
       "    </tr>\n",
       "    <tr>\n",
       "      <th>3</th>\n",
       "      <td>106.0</td>\n",
       "      <td>745.53</td>\n",
       "      <td>81.0</td>\n",
       "      <td>8437.39</td>\n",
       "      <td>1</td>\n",
       "    </tr>\n",
       "    <tr>\n",
       "      <th>4</th>\n",
       "      <td>66.0</td>\n",
       "      <td>418.74</td>\n",
       "      <td>1.0</td>\n",
       "      <td>14502.75</td>\n",
       "      <td>0</td>\n",
       "    </tr>\n",
       "  </tbody>\n",
       "</table>\n",
       "</div>"
      ],
      "text/plain": [
       "   calls  minutes  messages   mb_used  is_ultra\n",
       "0   40.0   311.90      83.0  19915.42         0\n",
       "1   85.0   516.75      56.0  22696.96         0\n",
       "2   77.0   467.66      86.0  21060.45         0\n",
       "3  106.0   745.53      81.0   8437.39         1\n",
       "4   66.0   418.74       1.0  14502.75         0"
      ]
     },
     "execution_count": 202,
     "metadata": {},
     "output_type": "execute_result"
    }
   ],
   "source": [
    "data.head()"
   ]
  },
  {
   "cell_type": "markdown",
   "metadata": {},
   "source": [
    "Выведим основную информацию для датафрейма:"
   ]
  },
  {
   "cell_type": "code",
   "execution_count": 203,
   "metadata": {},
   "outputs": [
    {
     "name": "stdout",
     "output_type": "stream",
     "text": [
      "<class 'pandas.core.frame.DataFrame'>\n",
      "RangeIndex: 3214 entries, 0 to 3213\n",
      "Data columns (total 5 columns):\n",
      " #   Column    Non-Null Count  Dtype  \n",
      "---  ------    --------------  -----  \n",
      " 0   calls     3214 non-null   float64\n",
      " 1   minutes   3214 non-null   float64\n",
      " 2   messages  3214 non-null   float64\n",
      " 3   mb_used   3214 non-null   float64\n",
      " 4   is_ultra  3214 non-null   int64  \n",
      "dtypes: float64(4), int64(1)\n",
      "memory usage: 125.7 KB\n"
     ]
    }
   ],
   "source": [
    "data.info()"
   ]
  },
  {
   "cell_type": "markdown",
   "metadata": {},
   "source": [
    "Целевой признак - тариф Ультра, признаки - все столбцы, кроме Ультра"
   ]
  },
  {
   "cell_type": "markdown",
   "metadata": {},
   "source": [
    "Разделим исходные данные на обучающую, валидационную и тестовую выборки:"
   ]
  },
  {
   "cell_type": "markdown",
   "metadata": {},
   "source": [
    "Создадим переменные для признаков и целевого признака:"
   ]
  },
  {
   "cell_type": "code",
   "execution_count": 204,
   "metadata": {},
   "outputs": [],
   "source": [
    "features = data.drop(['is_ultra'], axis=1)\n",
    "target = data['is_ultra']"
   ]
  },
  {
   "cell_type": "markdown",
   "metadata": {},
   "source": [
    "Выделим из исходных данных обучающую выборку:"
   ]
  },
  {
   "cell_type": "code",
   "execution_count": 205,
   "metadata": {},
   "outputs": [],
   "source": [
    "data_train, data_temp = train_test_split(data, train_size=0.6, random_state=12345)"
   ]
  },
  {
   "cell_type": "code",
   "execution_count": 206,
   "metadata": {},
   "outputs": [
    {
     "data": {
      "text/plain": [
       "(3214, 5)"
      ]
     },
     "execution_count": 206,
     "metadata": {},
     "output_type": "execute_result"
    }
   ],
   "source": [
    "data.shape"
   ]
  },
  {
   "cell_type": "code",
   "execution_count": 207,
   "metadata": {},
   "outputs": [
    {
     "data": {
      "text/plain": [
       "(1928, 5)"
      ]
     },
     "execution_count": 207,
     "metadata": {},
     "output_type": "execute_result"
    }
   ],
   "source": [
    "data_train.shape"
   ]
  },
  {
   "cell_type": "markdown",
   "metadata": {},
   "source": [
    "Создадим переменные для признаков и целевого признака для тренировочной выборки:"
   ]
  },
  {
   "cell_type": "code",
   "execution_count": 208,
   "metadata": {},
   "outputs": [],
   "source": [
    "features_train = data_train.drop(['is_ultra'], axis=1)\n",
    "target_train = data_train['is_ultra']"
   ]
  },
  {
   "cell_type": "markdown",
   "metadata": {},
   "source": [
    "Оставшиеся данные поделим пополам на валидационную и тестовые выборки:"
   ]
  },
  {
   "cell_type": "code",
   "execution_count": 209,
   "metadata": {},
   "outputs": [],
   "source": [
    "data_valid, data_test = train_test_split(data_temp, test_size=0.5, random_state=12345)"
   ]
  },
  {
   "cell_type": "code",
   "execution_count": 210,
   "metadata": {},
   "outputs": [
    {
     "data": {
      "text/plain": [
       "(643, 5)"
      ]
     },
     "execution_count": 210,
     "metadata": {},
     "output_type": "execute_result"
    }
   ],
   "source": [
    "data_valid.shape"
   ]
  },
  {
   "cell_type": "code",
   "execution_count": 211,
   "metadata": {},
   "outputs": [
    {
     "data": {
      "text/plain": [
       "(643, 5)"
      ]
     },
     "execution_count": 211,
     "metadata": {},
     "output_type": "execute_result"
    }
   ],
   "source": [
    "data_test.shape"
   ]
  },
  {
   "cell_type": "markdown",
   "metadata": {},
   "source": [
    "Создадим переменные для признаков и целевого признака для валидационной и тестовой выборки:"
   ]
  },
  {
   "cell_type": "code",
   "execution_count": 212,
   "metadata": {},
   "outputs": [],
   "source": [
    "features_valid = data_valid.drop(['is_ultra'], axis=1)\n",
    "target_valid = data_valid['is_ultra']\n",
    "features_test = data_test.drop(['is_ultra'], axis=1)\n",
    "target_test = data_test['is_ultra']"
   ]
  },
  {
   "cell_type": "markdown",
   "metadata": {},
   "source": [
    "## Исследуйте модели"
   ]
  },
  {
   "cell_type": "markdown",
   "metadata": {},
   "source": [
    "Исследуем качество разных моделей, меняя гиперпараметры:"
   ]
  },
  {
   "cell_type": "markdown",
   "metadata": {},
   "source": [
    "Исследуем качество модели по валидационной выборке:"
   ]
  },
  {
   "cell_type": "code",
   "execution_count": 213,
   "metadata": {},
   "outputs": [
    {
     "name": "stdout",
     "output_type": "stream",
     "text": [
      "max_depth = 1 : 0.7542768273716952\n",
      "max_depth = 2 : 0.7822706065318819\n",
      "max_depth = 3 : 0.7853810264385692\n",
      "max_depth = 4 : 0.7791601866251944\n",
      "max_depth = 5 : 0.7791601866251944\n"
     ]
    }
   ],
   "source": [
    "for depth in range(1, 6):\n",
    "    model_DTC = DecisionTreeClassifier(random_state = 12345, max_depth = depth)\n",
    "    model_DTC.fit(features_train, target_train)\n",
    "    predictions_valid_DTC = model_DTC.predict(features_valid)\n",
    "    print(\"max_depth =\", depth, \": \", end='')\n",
    "    print(accuracy_score(target_valid, predictions_valid_DTC))"
   ]
  },
  {
   "cell_type": "markdown",
   "metadata": {},
   "source": [
    "наилучший гиперпараметр примем равным: 3"
   ]
  },
  {
   "cell_type": "code",
   "execution_count": 214,
   "metadata": {},
   "outputs": [
    {
     "data": {
      "text/plain": [
       "('Accuracy лучшей модели(Дерево решений) валидационной выборки:',\n",
       " 0.7853810264385692)"
      ]
     },
     "execution_count": 214,
     "metadata": {},
     "output_type": "execute_result"
    }
   ],
   "source": [
    "best_model_DTC = None\n",
    "best_result_DTC = 0\n",
    "model_DTC = DecisionTreeClassifier(random_state=12345, max_depth=3)\n",
    "model_DTC.fit(features_train, target_train)\n",
    "predictions_DTC = model_DTC.predict(features_valid)\n",
    "result_DTC = accuracy_score(target_valid, predictions_DTC)\n",
    "if result_DTC > best_result_DTC:\n",
    "    best_model_DTC = model_DTC\n",
    "    best_result_DTC = result_DTC        \n",
    "\"Accuracy лучшей модели(Дерево решений) валидационной выборки:\", best_result_DTC"
   ]
  },
  {
   "cell_type": "code",
   "execution_count": 215,
   "metadata": {},
   "outputs": [
    {
     "name": "stdout",
     "output_type": "stream",
     "text": [
      "max_est = 1 : 0.7107309486780715\n",
      "max_est = 2 : 0.7636080870917574\n",
      "max_est = 3 : 0.7387247278382582\n",
      "max_est = 4 : 0.7713841368584758\n",
      "max_est = 5 : 0.749611197511664\n",
      "max_est = 6 : 0.7807153965785381\n",
      "max_est = 7 : 0.7682737169517885\n",
      "max_est = 8 : 0.7822706065318819\n",
      "max_est = 9 : 0.7729393468118196\n",
      "max_est = 10 : 0.7853810264385692\n"
     ]
    }
   ],
   "source": [
    "for est in range(1, 11):\n",
    "    model_RFC = RandomForestClassifier(random_state=12345, n_estimators= est)\n",
    "    model_RFC.fit(features_train, target_train)\n",
    "    predictions_valid_RFC = model_RFC.predict(features_valid)\n",
    "    print(\"max_est =\", est, \": \", end='')\n",
    "    print(accuracy_score(target_valid, predictions_valid_RFC))"
   ]
  },
  {
   "cell_type": "markdown",
   "metadata": {},
   "source": [
    "наилучший гиперпараметр примем равным: 10"
   ]
  },
  {
   "cell_type": "code",
   "execution_count": 216,
   "metadata": {},
   "outputs": [
    {
     "name": "stdout",
     "output_type": "stream",
     "text": [
      "Accuracy наилучшей модели(Случайнй лес) на валидационной выборке: 0.7853810264385692\n"
     ]
    }
   ],
   "source": [
    "best_model_RFC = None\n",
    "best_result_RFC = 0\n",
    "model_RFC = RandomForestClassifier(random_state=12345, n_estimators= 10)\n",
    "model_RFC.fit(features_train, target_train)\n",
    "result_RFC = model_RFC.score(features_valid, target_valid)\n",
    "if result_RFC > best_result_RFC:\n",
    "    best_model_RFC = model_RFC\n",
    "    best_result_RFC = result_RFC\n",
    "print(\"Accuracy наилучшей модели(Случайнй лес) на валидационной выборке:\", best_result_RFC)"
   ]
  },
  {
   "cell_type": "code",
   "execution_count": 217,
   "metadata": {},
   "outputs": [
    {
     "name": "stdout",
     "output_type": "stream",
     "text": [
      "Accuracy наилучшей модели(Логистическая регрессия) на валидационной выборке: 0.7107309486780715\n"
     ]
    }
   ],
   "source": [
    "best_model_LR = None\n",
    "best_result_LR = 0\n",
    "model_LR = LogisticRegression(random_state=12345, solver='lbfgs', max_iter=1000)\n",
    "model_LR.fit(features_train, target_train)\n",
    "result_LR = model_LR.score(features_valid, target_valid)\n",
    "if result_LR > best_result_LR:\n",
    "    best_model_LR = model_LR\n",
    "    best_result_LR = result_LR\n",
    "print(\"Accuracy наилучшей модели(Логистическая регрессия) на валидационной выборке:\", best_result_LR)"
   ]
  },
  {
   "cell_type": "markdown",
   "metadata": {},
   "source": [
    "Проверим модель на тестовой выборке:"
   ]
  },
  {
   "cell_type": "code",
   "execution_count": 194,
   "metadata": {},
   "outputs": [
    {
     "name": "stdout",
     "output_type": "stream",
     "text": [
      "Accuracy\n",
      "Тестовая выборка: 0.7807153965785381\n"
     ]
    }
   ],
   "source": [
    "predictions_test = model_RFC.predict(features_test)\n",
    "print(\"Accuracy\")\n",
    "print(\"Тестовая выборка:\", accuracy_score(target_test, predictions_test) )"
   ]
  },
  {
   "cell_type": "code",
   "execution_count": 196,
   "metadata": {},
   "outputs": [
    {
     "name": "stdout",
     "output_type": "stream",
     "text": [
      "Accuracy\n",
      "Обучающая выборка: 0.9026135656502801\n",
      "Тестовая выборка: 0.7807153965785381\n"
     ]
    }
   ],
   "source": [
    "train_predictions = model_RFC.predict(features)\n",
    "test_predictions = model_RFC.predict(features_test)\n",
    "print(\"Accuracy\")\n",
    "print(\"Обучающая выборка:\", accuracy_score(target, train_predictions) )\n",
    "print(\"Тестовая выборка:\", accuracy_score(target_test, test_predictions) )"
   ]
  },
  {
   "cell_type": "code",
   "execution_count": 219,
   "metadata": {},
   "outputs": [
    {
     "data": {
      "text/plain": [
       "0.6842923794712286"
      ]
     },
     "execution_count": 219,
     "metadata": {},
     "output_type": "execute_result"
    }
   ],
   "source": [
    "from sklearn.dummy import DummyClassifier\n",
    "model_DC = DummyClassifier(strategy='most_frequent', random_state=1)  \n",
    "model_DC.fit(features_train, target_train)\n",
    "model_DC.predict(features_valid)\n",
    "model_DC.score(features_test, target_test)"
   ]
  },
  {
   "cell_type": "markdown",
   "metadata": {},
   "source": [
    "На обучающей выборке модель предсказывает лучше\n",
    "Качество на обучающей и тестовой выборках примерно одинаковое, высокое - мы наблюдаем эффект \"недообучение\"\n",
    "Такой эффект наблюдается, вследствии низкого дерева обучения!"
   ]
  },
  {
   "cell_type": "code",
   "execution_count": null,
   "metadata": {},
   "outputs": [],
   "source": []
  }
 ],
 "metadata": {
  "ExecuteTimeLog": [
   {
    "duration": 1275,
    "start_time": "2022-09-20T17:18:46.013Z"
   },
   {
    "duration": 138,
    "start_time": "2022-09-20T17:18:48.513Z"
   },
   {
    "duration": 18,
    "start_time": "2022-09-20T17:18:51.162Z"
   },
   {
    "duration": 12,
    "start_time": "2022-09-20T17:18:55.285Z"
   },
   {
    "duration": 1204,
    "start_time": "2022-09-21T06:24:36.232Z"
   },
   {
    "duration": 117,
    "start_time": "2022-09-21T06:24:37.438Z"
   },
   {
    "duration": 17,
    "start_time": "2022-09-21T06:24:37.557Z"
   },
   {
    "duration": 19,
    "start_time": "2022-09-21T06:24:37.576Z"
   },
   {
    "duration": 128,
    "start_time": "2022-09-21T06:24:44.077Z"
   },
   {
    "duration": 49,
    "start_time": "2022-09-21T06:25:53.037Z"
   },
   {
    "duration": 9,
    "start_time": "2022-09-21T06:26:14.042Z"
   },
   {
    "duration": 52,
    "start_time": "2022-09-21T06:26:50.947Z"
   },
   {
    "duration": 12,
    "start_time": "2022-09-21T06:32:04.800Z"
   },
   {
    "duration": 12,
    "start_time": "2022-09-21T06:32:18.734Z"
   },
   {
    "duration": 5,
    "start_time": "2022-09-21T06:34:35.396Z"
   },
   {
    "duration": 5,
    "start_time": "2022-09-21T06:37:01.463Z"
   },
   {
    "duration": 6,
    "start_time": "2022-09-21T06:44:06.584Z"
   },
   {
    "duration": 3,
    "start_time": "2022-09-21T06:47:49.046Z"
   },
   {
    "duration": 10,
    "start_time": "2022-09-21T06:52:50.386Z"
   },
   {
    "duration": 4,
    "start_time": "2022-09-21T06:53:42.557Z"
   },
   {
    "duration": 21,
    "start_time": "2022-09-21T06:53:47.748Z"
   },
   {
    "duration": 23,
    "start_time": "2022-09-21T06:55:23.938Z"
   },
   {
    "duration": 20,
    "start_time": "2022-09-21T06:56:18.561Z"
   },
   {
    "duration": 18,
    "start_time": "2022-09-21T06:56:47.136Z"
   },
   {
    "duration": 7,
    "start_time": "2022-09-21T06:56:50.123Z"
   },
   {
    "duration": 6,
    "start_time": "2022-09-21T06:56:53.047Z"
   },
   {
    "duration": 5,
    "start_time": "2022-09-21T06:56:56.309Z"
   },
   {
    "duration": 31,
    "start_time": "2022-09-21T07:05:39.675Z"
   },
   {
    "duration": 33,
    "start_time": "2022-09-21T07:23:33.950Z"
   },
   {
    "duration": 36,
    "start_time": "2022-09-21T07:24:22.613Z"
   },
   {
    "duration": 36,
    "start_time": "2022-09-21T07:24:35.984Z"
   },
   {
    "duration": 33,
    "start_time": "2022-09-21T07:56:58.700Z"
   },
   {
    "duration": 33,
    "start_time": "2022-09-21T07:57:38.123Z"
   },
   {
    "duration": 12,
    "start_time": "2022-09-21T07:59:17.618Z"
   },
   {
    "duration": 33,
    "start_time": "2022-09-21T07:59:36.968Z"
   },
   {
    "duration": 6,
    "start_time": "2022-09-21T08:01:36.608Z"
   },
   {
    "duration": 33,
    "start_time": "2022-09-21T08:01:56.934Z"
   },
   {
    "duration": 17,
    "start_time": "2022-09-21T08:08:26.180Z"
   },
   {
    "duration": 15,
    "start_time": "2022-09-21T08:08:34.233Z"
   },
   {
    "duration": 20,
    "start_time": "2022-09-21T08:12:17.241Z"
   },
   {
    "duration": 14,
    "start_time": "2022-09-21T08:12:53.564Z"
   },
   {
    "duration": 4,
    "start_time": "2022-09-21T08:12:55.946Z"
   },
   {
    "duration": 4,
    "start_time": "2022-09-21T08:12:58.242Z"
   },
   {
    "duration": 5,
    "start_time": "2022-09-21T08:13:00.844Z"
   },
   {
    "duration": 8,
    "start_time": "2022-09-21T08:24:23.140Z"
   },
   {
    "duration": 3,
    "start_time": "2022-09-21T08:24:29.904Z"
   },
   {
    "duration": 5,
    "start_time": "2022-09-21T08:24:32.328Z"
   },
   {
    "duration": 67,
    "start_time": "2022-09-21T08:29:03.480Z"
   },
   {
    "duration": 1361,
    "start_time": "2022-09-21T10:22:20.663Z"
   },
   {
    "duration": 112,
    "start_time": "2022-09-21T10:22:22.026Z"
   },
   {
    "duration": 17,
    "start_time": "2022-09-21T10:22:22.140Z"
   },
   {
    "duration": 14,
    "start_time": "2022-09-21T10:22:22.159Z"
   },
   {
    "duration": 4,
    "start_time": "2022-09-21T10:22:22.174Z"
   },
   {
    "duration": 16,
    "start_time": "2022-09-21T10:22:22.179Z"
   },
   {
    "duration": 7,
    "start_time": "2022-09-21T10:22:22.197Z"
   },
   {
    "duration": 28,
    "start_time": "2022-09-21T10:22:22.205Z"
   },
   {
    "duration": 5,
    "start_time": "2022-09-21T10:22:22.235Z"
   },
   {
    "duration": 9,
    "start_time": "2022-09-21T10:22:22.243Z"
   },
   {
    "duration": 6,
    "start_time": "2022-09-21T10:22:22.254Z"
   },
   {
    "duration": 37,
    "start_time": "2022-09-21T10:22:22.262Z"
   },
   {
    "duration": 30,
    "start_time": "2022-09-21T10:22:22.300Z"
   },
   {
    "duration": 30,
    "start_time": "2022-09-21T10:22:22.331Z"
   },
   {
    "duration": 13,
    "start_time": "2022-09-21T10:22:22.363Z"
   },
   {
    "duration": 4,
    "start_time": "2022-09-21T10:22:22.377Z"
   },
   {
    "duration": 27,
    "start_time": "2022-09-21T10:22:22.382Z"
   },
   {
    "duration": 8,
    "start_time": "2022-09-21T10:22:22.411Z"
   },
   {
    "duration": 11,
    "start_time": "2022-09-21T10:22:22.420Z"
   },
   {
    "duration": 6,
    "start_time": "2022-09-21T10:22:22.433Z"
   },
   {
    "duration": 1231,
    "start_time": "2022-09-21T11:03:12.136Z"
   },
   {
    "duration": 48,
    "start_time": "2022-09-21T11:24:33.631Z"
   },
   {
    "duration": 4,
    "start_time": "2022-09-21T11:35:17.568Z"
   },
   {
    "duration": 117,
    "start_time": "2022-09-21T11:35:17.574Z"
   },
   {
    "duration": 16,
    "start_time": "2022-09-21T11:35:17.693Z"
   },
   {
    "duration": 14,
    "start_time": "2022-09-21T11:35:17.711Z"
   },
   {
    "duration": 5,
    "start_time": "2022-09-21T11:35:17.726Z"
   },
   {
    "duration": 6,
    "start_time": "2022-09-21T11:35:17.732Z"
   },
   {
    "duration": 18,
    "start_time": "2022-09-21T11:35:17.740Z"
   },
   {
    "duration": 17,
    "start_time": "2022-09-21T11:35:17.760Z"
   },
   {
    "duration": 103,
    "start_time": "2022-09-21T11:35:17.779Z"
   },
   {
    "duration": 0,
    "start_time": "2022-09-21T11:35:17.884Z"
   },
   {
    "duration": 0,
    "start_time": "2022-09-21T11:35:17.885Z"
   },
   {
    "duration": 0,
    "start_time": "2022-09-21T11:35:17.886Z"
   },
   {
    "duration": 0,
    "start_time": "2022-09-21T11:35:17.887Z"
   },
   {
    "duration": 0,
    "start_time": "2022-09-21T11:35:17.888Z"
   },
   {
    "duration": 0,
    "start_time": "2022-09-21T11:35:17.889Z"
   },
   {
    "duration": 0,
    "start_time": "2022-09-21T11:35:17.890Z"
   },
   {
    "duration": 0,
    "start_time": "2022-09-21T11:35:17.891Z"
   },
   {
    "duration": 1,
    "start_time": "2022-09-21T11:35:17.891Z"
   },
   {
    "duration": 4,
    "start_time": "2022-09-21T11:35:47.332Z"
   },
   {
    "duration": 3,
    "start_time": "2022-09-21T11:35:57.079Z"
   },
   {
    "duration": 47,
    "start_time": "2022-09-21T11:35:57.084Z"
   },
   {
    "duration": 10,
    "start_time": "2022-09-21T11:35:57.132Z"
   },
   {
    "duration": 19,
    "start_time": "2022-09-21T11:35:57.144Z"
   },
   {
    "duration": 6,
    "start_time": "2022-09-21T11:35:57.164Z"
   },
   {
    "duration": 23,
    "start_time": "2022-09-21T11:35:57.171Z"
   },
   {
    "duration": 20,
    "start_time": "2022-09-21T11:35:57.196Z"
   },
   {
    "duration": 4,
    "start_time": "2022-09-21T11:35:57.218Z"
   },
   {
    "duration": 7,
    "start_time": "2022-09-21T11:35:57.224Z"
   },
   {
    "duration": 41,
    "start_time": "2022-09-21T11:35:57.233Z"
   },
   {
    "duration": 21,
    "start_time": "2022-09-21T11:35:57.276Z"
   },
   {
    "duration": 0,
    "start_time": "2022-09-21T11:35:57.300Z"
   },
   {
    "duration": 0,
    "start_time": "2022-09-21T11:35:57.301Z"
   },
   {
    "duration": 0,
    "start_time": "2022-09-21T11:35:57.302Z"
   },
   {
    "duration": 0,
    "start_time": "2022-09-21T11:35:57.303Z"
   },
   {
    "duration": 0,
    "start_time": "2022-09-21T11:35:57.305Z"
   },
   {
    "duration": 0,
    "start_time": "2022-09-21T11:35:57.306Z"
   },
   {
    "duration": 0,
    "start_time": "2022-09-21T11:35:57.308Z"
   },
   {
    "duration": 0,
    "start_time": "2022-09-21T11:35:57.309Z"
   },
   {
    "duration": 0,
    "start_time": "2022-09-21T11:35:57.311Z"
   },
   {
    "duration": 25,
    "start_time": "2022-09-21T11:36:30.073Z"
   },
   {
    "duration": 33,
    "start_time": "2022-09-21T11:36:46.189Z"
   },
   {
    "duration": 84,
    "start_time": "2022-09-21T11:36:54.261Z"
   },
   {
    "duration": 10,
    "start_time": "2022-09-21T11:36:58.245Z"
   },
   {
    "duration": 26,
    "start_time": "2022-09-21T11:37:38.627Z"
   },
   {
    "duration": 3,
    "start_time": "2022-09-21T11:38:11.323Z"
   },
   {
    "duration": 204,
    "start_time": "2022-09-21T11:38:25.224Z"
   },
   {
    "duration": 4,
    "start_time": "2022-09-21T11:38:36.126Z"
   },
   {
    "duration": 16,
    "start_time": "2022-09-21T11:38:39.183Z"
   },
   {
    "duration": 31,
    "start_time": "2022-09-21T11:38:42.203Z"
   },
   {
    "duration": 4,
    "start_time": "2022-09-21T11:38:49.815Z"
   },
   {
    "duration": 4,
    "start_time": "2022-09-21T11:38:52.143Z"
   },
   {
    "duration": 5,
    "start_time": "2022-09-21T11:38:54.832Z"
   },
   {
    "duration": 2737,
    "start_time": "2022-09-21T11:47:04.479Z"
   },
   {
    "duration": 1720,
    "start_time": "2022-09-21T11:48:12.214Z"
   },
   {
    "duration": 5,
    "start_time": "2022-09-21T11:49:28.811Z"
   },
   {
    "duration": 17,
    "start_time": "2022-09-21T11:49:31.356Z"
   },
   {
    "duration": 50,
    "start_time": "2022-09-21T11:49:34.474Z"
   },
   {
    "duration": 2344,
    "start_time": "2022-09-21T11:49:42.156Z"
   },
   {
    "duration": 11,
    "start_time": "2022-09-21T11:50:57.889Z"
   },
   {
    "duration": 1428,
    "start_time": "2022-09-21T11:51:23.758Z"
   },
   {
    "duration": 1359,
    "start_time": "2022-09-21T11:51:36.807Z"
   },
   {
    "duration": 5,
    "start_time": "2022-09-21T11:53:04.732Z"
   },
   {
    "duration": 1571,
    "start_time": "2022-09-21T11:53:12.000Z"
   },
   {
    "duration": 5,
    "start_time": "2022-09-21T12:02:47.468Z"
   },
   {
    "duration": 54,
    "start_time": "2022-09-21T12:06:02.591Z"
   },
   {
    "duration": 51,
    "start_time": "2022-09-22T03:13:07.607Z"
   },
   {
    "duration": 7,
    "start_time": "2022-09-22T03:13:11.823Z"
   },
   {
    "duration": 2286,
    "start_time": "2022-09-22T03:13:17.601Z"
   },
   {
    "duration": 121,
    "start_time": "2022-09-22T03:13:19.889Z"
   },
   {
    "duration": 17,
    "start_time": "2022-09-22T03:13:20.012Z"
   },
   {
    "duration": 13,
    "start_time": "2022-09-22T03:13:20.031Z"
   },
   {
    "duration": 14,
    "start_time": "2022-09-22T03:13:20.046Z"
   },
   {
    "duration": 8,
    "start_time": "2022-09-22T03:13:20.062Z"
   },
   {
    "duration": 5,
    "start_time": "2022-09-22T03:13:25.064Z"
   },
   {
    "duration": 66,
    "start_time": "2022-09-22T03:18:41.839Z"
   },
   {
    "duration": 4,
    "start_time": "2022-09-22T03:18:47.152Z"
   },
   {
    "duration": 39,
    "start_time": "2022-09-22T03:18:47.158Z"
   },
   {
    "duration": 12,
    "start_time": "2022-09-22T03:18:47.199Z"
   },
   {
    "duration": 17,
    "start_time": "2022-09-22T03:18:47.213Z"
   },
   {
    "duration": 11,
    "start_time": "2022-09-22T03:18:47.232Z"
   },
   {
    "duration": 7,
    "start_time": "2022-09-22T03:18:47.245Z"
   },
   {
    "duration": 10,
    "start_time": "2022-09-22T03:18:51.832Z"
   },
   {
    "duration": 4,
    "start_time": "2022-09-22T03:19:09.643Z"
   },
   {
    "duration": 4,
    "start_time": "2022-09-22T03:19:39.374Z"
   },
   {
    "duration": 4,
    "start_time": "2022-09-22T03:19:57.490Z"
   },
   {
    "duration": 4,
    "start_time": "2022-09-22T03:20:24.678Z"
   },
   {
    "duration": 11,
    "start_time": "2022-09-22T03:36:13.719Z"
   },
   {
    "duration": 4,
    "start_time": "2022-09-22T03:36:24.167Z"
   },
   {
    "duration": 46,
    "start_time": "2022-09-22T03:36:24.173Z"
   },
   {
    "duration": 10,
    "start_time": "2022-09-22T03:36:24.220Z"
   },
   {
    "duration": 17,
    "start_time": "2022-09-22T03:36:24.232Z"
   },
   {
    "duration": 24,
    "start_time": "2022-09-22T03:36:24.251Z"
   },
   {
    "duration": 12,
    "start_time": "2022-09-22T03:36:24.277Z"
   },
   {
    "duration": 9,
    "start_time": "2022-09-22T03:36:24.291Z"
   },
   {
    "duration": 14,
    "start_time": "2022-09-22T03:36:24.302Z"
   },
   {
    "duration": 10,
    "start_time": "2022-09-22T03:36:24.318Z"
   },
   {
    "duration": 8,
    "start_time": "2022-09-22T03:36:24.330Z"
   },
   {
    "duration": 9,
    "start_time": "2022-09-22T03:36:24.340Z"
   },
   {
    "duration": 14,
    "start_time": "2022-09-22T03:36:24.351Z"
   },
   {
    "duration": 17,
    "start_time": "2022-09-22T03:36:24.367Z"
   },
   {
    "duration": 34,
    "start_time": "2022-09-22T03:36:27.979Z"
   },
   {
    "duration": 29,
    "start_time": "2022-09-22T03:41:36.174Z"
   },
   {
    "duration": 24,
    "start_time": "2022-09-22T03:41:42.066Z"
   },
   {
    "duration": 264,
    "start_time": "2022-09-22T03:46:31.186Z"
   },
   {
    "duration": 264,
    "start_time": "2022-09-22T03:47:01.993Z"
   },
   {
    "duration": 33,
    "start_time": "2022-09-22T03:50:09.969Z"
   },
   {
    "duration": 39,
    "start_time": "2022-09-22T03:50:49.000Z"
   },
   {
    "duration": 36,
    "start_time": "2022-09-22T03:50:55.502Z"
   },
   {
    "duration": 32,
    "start_time": "2022-09-22T03:52:27.353Z"
   },
   {
    "duration": 315,
    "start_time": "2022-09-22T03:53:11.435Z"
   },
   {
    "duration": 3,
    "start_time": "2022-09-22T03:54:42.378Z"
   },
   {
    "duration": 38,
    "start_time": "2022-09-22T03:54:42.384Z"
   },
   {
    "duration": 8,
    "start_time": "2022-09-22T03:54:42.424Z"
   },
   {
    "duration": 13,
    "start_time": "2022-09-22T03:54:42.433Z"
   },
   {
    "duration": 3,
    "start_time": "2022-09-22T03:54:42.448Z"
   },
   {
    "duration": 7,
    "start_time": "2022-09-22T03:54:42.453Z"
   },
   {
    "duration": 6,
    "start_time": "2022-09-22T03:54:42.462Z"
   },
   {
    "duration": 5,
    "start_time": "2022-09-22T03:54:42.470Z"
   },
   {
    "duration": 14,
    "start_time": "2022-09-22T03:54:42.477Z"
   },
   {
    "duration": 6,
    "start_time": "2022-09-22T03:54:42.492Z"
   },
   {
    "duration": 5,
    "start_time": "2022-09-22T03:54:42.500Z"
   },
   {
    "duration": 7,
    "start_time": "2022-09-22T03:54:42.507Z"
   },
   {
    "duration": 6,
    "start_time": "2022-09-22T03:54:42.516Z"
   },
   {
    "duration": 51,
    "start_time": "2022-09-22T03:54:42.523Z"
   },
   {
    "duration": 32,
    "start_time": "2022-09-22T03:54:52.773Z"
   },
   {
    "duration": 257,
    "start_time": "2022-09-22T03:55:02.075Z"
   },
   {
    "duration": 16,
    "start_time": "2022-09-22T03:56:41.595Z"
   },
   {
    "duration": 48,
    "start_time": "2022-09-22T03:57:58.950Z"
   },
   {
    "duration": 118,
    "start_time": "2022-09-22T03:58:18.874Z"
   },
   {
    "duration": 51,
    "start_time": "2022-09-22T03:58:33.326Z"
   },
   {
    "duration": 281,
    "start_time": "2022-09-22T04:00:15.125Z"
   },
   {
    "duration": 41,
    "start_time": "2022-09-22T04:01:47.042Z"
   },
   {
    "duration": 51,
    "start_time": "2022-09-22T04:02:30.256Z"
   },
   {
    "duration": 271,
    "start_time": "2022-09-22T04:05:21.384Z"
   },
   {
    "duration": 88,
    "start_time": "2022-09-22T04:06:13.568Z"
   },
   {
    "duration": 33,
    "start_time": "2022-09-22T04:11:51.617Z"
   },
   {
    "duration": 26,
    "start_time": "2022-09-22T04:14:40.432Z"
   },
   {
    "duration": 12,
    "start_time": "2022-09-22T04:20:47.670Z"
   },
   {
    "duration": 13,
    "start_time": "2022-09-22T04:20:54.935Z"
   },
   {
    "duration": 50,
    "start_time": "2022-09-22T04:21:37.931Z"
   },
   {
    "duration": 13,
    "start_time": "2022-09-22T04:24:12.659Z"
   },
   {
    "duration": 6,
    "start_time": "2022-09-22T04:26:15.290Z"
   },
   {
    "duration": 5,
    "start_time": "2022-09-22T04:26:20.804Z"
   },
   {
    "duration": 12,
    "start_time": "2022-09-22T04:29:52.889Z"
   },
   {
    "duration": 6,
    "start_time": "2022-09-22T04:30:16.081Z"
   },
   {
    "duration": 5,
    "start_time": "2022-09-22T04:30:18.318Z"
   },
   {
    "duration": 43,
    "start_time": "2022-09-22T04:36:55.049Z"
   },
   {
    "duration": 30,
    "start_time": "2022-09-22T04:37:05.252Z"
   },
   {
    "duration": 24,
    "start_time": "2022-09-22T04:37:32.156Z"
   },
   {
    "duration": 4,
    "start_time": "2022-09-22T04:38:08.905Z"
   },
   {
    "duration": 36,
    "start_time": "2022-09-22T04:38:08.911Z"
   },
   {
    "duration": 9,
    "start_time": "2022-09-22T04:38:08.949Z"
   },
   {
    "duration": 32,
    "start_time": "2022-09-22T04:38:08.960Z"
   },
   {
    "duration": 5,
    "start_time": "2022-09-22T04:38:08.995Z"
   },
   {
    "duration": 8,
    "start_time": "2022-09-22T04:38:09.001Z"
   },
   {
    "duration": 12,
    "start_time": "2022-09-22T04:38:09.010Z"
   },
   {
    "duration": 6,
    "start_time": "2022-09-22T04:38:09.023Z"
   },
   {
    "duration": 6,
    "start_time": "2022-09-22T04:38:09.031Z"
   },
   {
    "duration": 17,
    "start_time": "2022-09-22T04:38:09.038Z"
   },
   {
    "duration": 8,
    "start_time": "2022-09-22T04:38:09.057Z"
   },
   {
    "duration": 17,
    "start_time": "2022-09-22T04:38:09.067Z"
   },
   {
    "duration": 12,
    "start_time": "2022-09-22T04:38:09.086Z"
   },
   {
    "duration": 34,
    "start_time": "2022-09-22T04:38:09.100Z"
   },
   {
    "duration": 11,
    "start_time": "2022-09-22T04:38:09.136Z"
   },
   {
    "duration": 302,
    "start_time": "2022-09-22T04:38:09.153Z"
   },
   {
    "duration": 49,
    "start_time": "2022-09-22T04:38:09.457Z"
   },
   {
    "duration": 25,
    "start_time": "2022-09-22T04:38:09.508Z"
   },
   {
    "duration": 28,
    "start_time": "2022-09-22T04:38:09.535Z"
   },
   {
    "duration": 6,
    "start_time": "2022-09-22T04:38:09.565Z"
   },
   {
    "duration": 8,
    "start_time": "2022-09-22T04:38:09.572Z"
   },
   {
    "duration": 10,
    "start_time": "2022-09-22T04:38:12.320Z"
   },
   {
    "duration": 12,
    "start_time": "2022-09-22T04:50:05.303Z"
   },
   {
    "duration": 9,
    "start_time": "2022-09-22T05:07:07.801Z"
   },
   {
    "duration": 457,
    "start_time": "2022-09-22T05:08:53.687Z"
   },
   {
    "duration": 22,
    "start_time": "2022-09-22T05:08:56.687Z"
   },
   {
    "duration": 231,
    "start_time": "2022-09-22T05:09:30.045Z"
   },
   {
    "duration": 23,
    "start_time": "2022-09-22T05:09:46.136Z"
   },
   {
    "duration": 23,
    "start_time": "2022-09-22T05:10:20.040Z"
   },
   {
    "duration": 3,
    "start_time": "2022-09-22T05:13:46.023Z"
   },
   {
    "duration": 4586,
    "start_time": "2022-09-22T05:13:49.280Z"
   },
   {
    "duration": 5231,
    "start_time": "2022-09-22T05:15:07.204Z"
   },
   {
    "duration": 5196,
    "start_time": "2022-09-22T05:15:32.233Z"
   },
   {
    "duration": 5723,
    "start_time": "2022-09-22T05:15:53.728Z"
   },
   {
    "duration": 4,
    "start_time": "2022-09-22T05:16:24.569Z"
   },
   {
    "duration": 32,
    "start_time": "2022-09-22T05:16:24.584Z"
   },
   {
    "duration": 10,
    "start_time": "2022-09-22T05:16:24.618Z"
   },
   {
    "duration": 39,
    "start_time": "2022-09-22T05:16:24.630Z"
   },
   {
    "duration": 7,
    "start_time": "2022-09-22T05:16:24.671Z"
   },
   {
    "duration": 24,
    "start_time": "2022-09-22T05:16:24.679Z"
   },
   {
    "duration": 20,
    "start_time": "2022-09-22T05:16:24.705Z"
   },
   {
    "duration": 7,
    "start_time": "2022-09-22T05:16:24.727Z"
   },
   {
    "duration": 12,
    "start_time": "2022-09-22T05:16:24.736Z"
   },
   {
    "duration": 7,
    "start_time": "2022-09-22T05:16:24.750Z"
   },
   {
    "duration": 9,
    "start_time": "2022-09-22T05:16:24.760Z"
   },
   {
    "duration": 14,
    "start_time": "2022-09-22T05:16:24.771Z"
   },
   {
    "duration": 9,
    "start_time": "2022-09-22T05:16:24.787Z"
   },
   {
    "duration": 42,
    "start_time": "2022-09-22T05:16:24.798Z"
   },
   {
    "duration": 14,
    "start_time": "2022-09-22T05:16:24.842Z"
   },
   {
    "duration": 280,
    "start_time": "2022-09-22T05:16:24.857Z"
   },
   {
    "duration": 62,
    "start_time": "2022-09-22T05:16:25.139Z"
   },
   {
    "duration": 26,
    "start_time": "2022-09-22T05:16:25.204Z"
   },
   {
    "duration": 32,
    "start_time": "2022-09-22T05:16:25.233Z"
   },
   {
    "duration": 7,
    "start_time": "2022-09-22T05:16:25.267Z"
   },
   {
    "duration": 9,
    "start_time": "2022-09-22T05:16:25.276Z"
   },
   {
    "duration": 10,
    "start_time": "2022-09-22T05:16:32.053Z"
   },
   {
    "duration": 1827,
    "start_time": "2022-09-22T06:12:30.617Z"
   },
   {
    "duration": 33,
    "start_time": "2022-09-22T06:12:32.446Z"
   },
   {
    "duration": 38,
    "start_time": "2022-09-22T06:12:32.481Z"
   },
   {
    "duration": 25,
    "start_time": "2022-09-22T06:12:32.522Z"
   },
   {
    "duration": 8,
    "start_time": "2022-09-22T06:12:32.550Z"
   },
   {
    "duration": 14,
    "start_time": "2022-09-22T06:12:32.560Z"
   },
   {
    "duration": 51,
    "start_time": "2022-09-22T06:12:32.576Z"
   },
   {
    "duration": 18,
    "start_time": "2022-09-22T06:12:32.629Z"
   },
   {
    "duration": 8,
    "start_time": "2022-09-22T06:12:32.649Z"
   },
   {
    "duration": 22,
    "start_time": "2022-09-22T06:12:32.659Z"
   },
   {
    "duration": 46,
    "start_time": "2022-09-22T06:12:32.683Z"
   },
   {
    "duration": 24,
    "start_time": "2022-09-22T06:12:32.731Z"
   },
   {
    "duration": 26,
    "start_time": "2022-09-22T06:12:32.757Z"
   },
   {
    "duration": 86,
    "start_time": "2022-09-22T06:12:32.786Z"
   },
   {
    "duration": 14,
    "start_time": "2022-09-22T06:12:32.873Z"
   },
   {
    "duration": 381,
    "start_time": "2022-09-22T06:12:32.889Z"
   },
   {
    "duration": 87,
    "start_time": "2022-09-22T06:12:33.272Z"
   },
   {
    "duration": 39,
    "start_time": "2022-09-22T06:12:33.362Z"
   },
   {
    "duration": 41,
    "start_time": "2022-09-22T06:12:33.405Z"
   },
   {
    "duration": 7,
    "start_time": "2022-09-22T06:12:33.449Z"
   },
   {
    "duration": 25,
    "start_time": "2022-09-22T06:12:33.458Z"
   },
   {
    "duration": 50,
    "start_time": "2022-09-22T06:12:33.485Z"
   },
   {
    "duration": 13,
    "start_time": "2022-09-22T06:26:13.899Z"
   },
   {
    "duration": 3,
    "start_time": "2022-09-22T06:26:18.718Z"
   },
   {
    "duration": 37,
    "start_time": "2022-09-22T06:26:18.723Z"
   },
   {
    "duration": 9,
    "start_time": "2022-09-22T06:26:18.762Z"
   },
   {
    "duration": 18,
    "start_time": "2022-09-22T06:26:18.773Z"
   },
   {
    "duration": 3,
    "start_time": "2022-09-22T06:26:18.794Z"
   },
   {
    "duration": 7,
    "start_time": "2022-09-22T06:26:18.799Z"
   },
   {
    "duration": 7,
    "start_time": "2022-09-22T06:26:18.807Z"
   },
   {
    "duration": 6,
    "start_time": "2022-09-22T06:26:18.816Z"
   },
   {
    "duration": 8,
    "start_time": "2022-09-22T06:26:18.824Z"
   },
   {
    "duration": 26,
    "start_time": "2022-09-22T06:26:18.833Z"
   },
   {
    "duration": 8,
    "start_time": "2022-09-22T06:26:18.860Z"
   },
   {
    "duration": 6,
    "start_time": "2022-09-22T06:26:18.870Z"
   },
   {
    "duration": 7,
    "start_time": "2022-09-22T06:26:18.878Z"
   },
   {
    "duration": 35,
    "start_time": "2022-09-22T06:26:18.887Z"
   },
   {
    "duration": 12,
    "start_time": "2022-09-22T06:26:28.040Z"
   },
   {
    "duration": 48,
    "start_time": "2022-09-22T06:27:18.020Z"
   },
   {
    "duration": 28,
    "start_time": "2022-09-22T06:27:57.799Z"
   },
   {
    "duration": 38,
    "start_time": "2022-09-22T06:29:04.635Z"
   },
   {
    "duration": 275,
    "start_time": "2022-09-22T06:30:42.851Z"
   },
   {
    "duration": 49,
    "start_time": "2022-09-22T06:30:47.793Z"
   },
   {
    "duration": 35,
    "start_time": "2022-09-22T06:31:44.353Z"
   },
   {
    "duration": 13,
    "start_time": "2022-09-22T06:32:47.147Z"
   },
   {
    "duration": 14,
    "start_time": "2022-09-22T06:37:28.836Z"
   },
   {
    "duration": 15,
    "start_time": "2022-09-22T06:39:15.844Z"
   },
   {
    "duration": 14,
    "start_time": "2022-09-22T06:39:43.643Z"
   },
   {
    "duration": 3,
    "start_time": "2022-09-22T06:40:06.366Z"
   },
   {
    "duration": 58,
    "start_time": "2022-09-22T06:40:06.371Z"
   },
   {
    "duration": 13,
    "start_time": "2022-09-22T06:40:06.431Z"
   },
   {
    "duration": 39,
    "start_time": "2022-09-22T06:40:06.445Z"
   },
   {
    "duration": 34,
    "start_time": "2022-09-22T06:40:06.487Z"
   },
   {
    "duration": 8,
    "start_time": "2022-09-22T06:40:06.523Z"
   },
   {
    "duration": 26,
    "start_time": "2022-09-22T06:40:06.533Z"
   },
   {
    "duration": 13,
    "start_time": "2022-09-22T06:40:06.561Z"
   },
   {
    "duration": 17,
    "start_time": "2022-09-22T06:40:06.576Z"
   },
   {
    "duration": 35,
    "start_time": "2022-09-22T06:40:06.595Z"
   },
   {
    "duration": 21,
    "start_time": "2022-09-22T06:40:06.632Z"
   },
   {
    "duration": 34,
    "start_time": "2022-09-22T06:40:06.655Z"
   },
   {
    "duration": 31,
    "start_time": "2022-09-22T06:40:06.692Z"
   },
   {
    "duration": 57,
    "start_time": "2022-09-22T06:40:06.725Z"
   },
   {
    "duration": 22,
    "start_time": "2022-09-22T06:40:06.784Z"
   },
   {
    "duration": 310,
    "start_time": "2022-09-22T06:40:06.808Z"
   },
   {
    "duration": 66,
    "start_time": "2022-09-22T06:40:07.121Z"
   },
   {
    "duration": 27,
    "start_time": "2022-09-22T06:40:07.189Z"
   },
   {
    "duration": 10,
    "start_time": "2022-09-22T06:40:13.063Z"
   },
   {
    "duration": 9,
    "start_time": "2022-09-22T06:40:55.987Z"
   },
   {
    "duration": 16,
    "start_time": "2022-09-22T06:48:40.309Z"
   },
   {
    "duration": 33,
    "start_time": "2022-09-22T06:49:53.746Z"
   },
   {
    "duration": 34,
    "start_time": "2022-09-22T06:50:15.013Z"
   },
   {
    "duration": 265,
    "start_time": "2022-09-22T06:51:15.244Z"
   },
   {
    "duration": 50,
    "start_time": "2022-09-22T06:51:27.745Z"
   },
   {
    "duration": 29,
    "start_time": "2022-09-22T06:52:24.642Z"
   },
   {
    "duration": 7,
    "start_time": "2022-09-22T06:53:01.918Z"
   },
   {
    "duration": 9,
    "start_time": "2022-09-22T06:53:32.735Z"
   },
   {
    "duration": 11,
    "start_time": "2022-09-22T06:56:35.588Z"
   },
   {
    "duration": 25,
    "start_time": "2022-09-22T07:00:45.424Z"
   },
   {
    "duration": 73,
    "start_time": "2022-09-22T07:08:54.425Z"
   },
   {
    "duration": 12,
    "start_time": "2022-09-22T07:10:44.189Z"
   },
   {
    "duration": 12,
    "start_time": "2022-09-22T07:10:47.373Z"
   },
   {
    "duration": 4,
    "start_time": "2022-09-22T07:11:06.419Z"
   },
   {
    "duration": 44,
    "start_time": "2022-09-22T07:11:06.425Z"
   },
   {
    "duration": 10,
    "start_time": "2022-09-22T07:11:06.471Z"
   },
   {
    "duration": 28,
    "start_time": "2022-09-22T07:11:06.483Z"
   },
   {
    "duration": 31,
    "start_time": "2022-09-22T07:11:06.514Z"
   },
   {
    "duration": 19,
    "start_time": "2022-09-22T07:11:06.546Z"
   },
   {
    "duration": 8,
    "start_time": "2022-09-22T07:11:06.567Z"
   },
   {
    "duration": 13,
    "start_time": "2022-09-22T07:11:06.576Z"
   },
   {
    "duration": 7,
    "start_time": "2022-09-22T07:11:06.590Z"
   },
   {
    "duration": 12,
    "start_time": "2022-09-22T07:11:06.599Z"
   },
   {
    "duration": 6,
    "start_time": "2022-09-22T07:11:06.613Z"
   },
   {
    "duration": 7,
    "start_time": "2022-09-22T07:11:06.621Z"
   },
   {
    "duration": 6,
    "start_time": "2022-09-22T07:11:06.630Z"
   },
   {
    "duration": 40,
    "start_time": "2022-09-22T07:11:06.638Z"
   },
   {
    "duration": 11,
    "start_time": "2022-09-22T07:11:06.680Z"
   },
   {
    "duration": 313,
    "start_time": "2022-09-22T07:11:06.693Z"
   },
   {
    "duration": 57,
    "start_time": "2022-09-22T07:11:07.008Z"
   },
   {
    "duration": 25,
    "start_time": "2022-09-22T07:11:07.067Z"
   },
   {
    "duration": 11,
    "start_time": "2022-09-22T07:20:15.756Z"
   },
   {
    "duration": 6,
    "start_time": "2022-09-22T07:21:15.889Z"
   }
  ],
  "kernelspec": {
   "display_name": "Python 3 (ipykernel)",
   "language": "python",
   "name": "python3"
  },
  "language_info": {
   "codemirror_mode": {
    "name": "ipython",
    "version": 3
   },
   "file_extension": ".py",
   "mimetype": "text/x-python",
   "name": "python",
   "nbconvert_exporter": "python",
   "pygments_lexer": "ipython3",
   "version": "3.9.12"
  },
  "toc": {
   "base_numbering": 1,
   "nav_menu": {},
   "number_sections": true,
   "sideBar": true,
   "skip_h1_title": true,
   "title_cell": "Table of Contents",
   "title_sidebar": "Contents",
   "toc_cell": false,
   "toc_position": {},
   "toc_section_display": true,
   "toc_window_display": false
  }
 },
 "nbformat": 4,
 "nbformat_minor": 2
}
