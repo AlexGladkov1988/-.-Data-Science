{
 "cells": [
  {
   "cell_type": "markdown",
   "metadata": {},
   "source": [
    "# Отток клиентов"
   ]
  },
  {
   "cell_type": "markdown",
   "metadata": {},
   "source": [
    "Из «Бета-Банка» стали уходить клиенты. Каждый месяц. Немного, но заметно. Банковские маркетологи посчитали: сохранять текущих клиентов дешевле, чем привлекать новых.\n",
    "\n",
    "Нужно спрогнозировать, уйдёт клиент из банка в ближайшее время или нет. Вам предоставлены исторические данные о поведении клиентов и расторжении договоров с банком. "
   ]
  },
  {
   "cell_type": "markdown",
   "metadata": {},
   "source": [
    "## Подготовка данных"
   ]
  },
  {
   "cell_type": "markdown",
   "metadata": {},
   "source": [
    "Добрый день!\n",
    "Представляю Вашему вниманию проект, в котором попытаюсь спрогнозировать, уйдёт ли клиент из \"Бета-Банка\" в ближайшее время или нет. Исходными данными для Меня предоставлены исторические данные о поведении клиентов и расторжении договоров с \"Бета-Банком\".\n",
    "Я постараюсь построить модель с предельно большим значением F1-меры. Дополнительно измерю AUC-ROC и сравнивню её значение с F1-мерой."
   ]
  },
  {
   "cell_type": "markdown",
   "metadata": {},
   "source": [
    "Импортируем библиотеки:"
   ]
  },
  {
   "cell_type": "code",
   "execution_count": 1,
   "metadata": {},
   "outputs": [],
   "source": [
    "import pandas as pd\n",
    "import matplotlib.pyplot as plt\n",
    "import numpy as np\n",
    "from sklearn.model_selection import train_test_split\n",
    "from sklearn.ensemble import RandomForestClassifier\n",
    "from sklearn.metrics import accuracy_score\n",
    "from sklearn.metrics import f1_score\n",
    "from sklearn.metrics import precision_score, recall_score\n",
    "from sklearn.metrics import roc_curve\n",
    "from sklearn.metrics import roc_auc_score\n",
    "from sklearn.preprocessing import StandardScaler\n",
    "from sklearn.utils import shuffle\n",
    "from sklearn.metrics import precision_recall_curve"
   ]
  },
  {
   "cell_type": "markdown",
   "metadata": {},
   "source": [
    "Игнорируем предупреждения:"
   ]
  },
  {
   "cell_type": "code",
   "execution_count": 2,
   "metadata": {},
   "outputs": [],
   "source": [
    "import warnings\n",
    "warnings.filterwarnings('ignore')"
   ]
  },
  {
   "cell_type": "markdown",
   "metadata": {},
   "source": [
    "Откроем файл:"
   ]
  },
  {
   "cell_type": "code",
   "execution_count": 3,
   "metadata": {},
   "outputs": [],
   "source": [
    "data = pd.read_csv('/datasets/Churn.csv')"
   ]
  },
  {
   "cell_type": "markdown",
   "metadata": {},
   "source": [
    "Выведем первые строки датафрейма:"
   ]
  },
  {
   "cell_type": "code",
   "execution_count": 4,
   "metadata": {},
   "outputs": [
    {
     "data": {
      "text/html": [
       "<div>\n",
       "<style scoped>\n",
       "    .dataframe tbody tr th:only-of-type {\n",
       "        vertical-align: middle;\n",
       "    }\n",
       "\n",
       "    .dataframe tbody tr th {\n",
       "        vertical-align: top;\n",
       "    }\n",
       "\n",
       "    .dataframe thead th {\n",
       "        text-align: right;\n",
       "    }\n",
       "</style>\n",
       "<table border=\"1\" class=\"dataframe\">\n",
       "  <thead>\n",
       "    <tr style=\"text-align: right;\">\n",
       "      <th></th>\n",
       "      <th>RowNumber</th>\n",
       "      <th>CustomerId</th>\n",
       "      <th>Surname</th>\n",
       "      <th>CreditScore</th>\n",
       "      <th>Geography</th>\n",
       "      <th>Gender</th>\n",
       "      <th>Age</th>\n",
       "      <th>Tenure</th>\n",
       "      <th>Balance</th>\n",
       "      <th>NumOfProducts</th>\n",
       "      <th>HasCrCard</th>\n",
       "      <th>IsActiveMember</th>\n",
       "      <th>EstimatedSalary</th>\n",
       "      <th>Exited</th>\n",
       "    </tr>\n",
       "  </thead>\n",
       "  <tbody>\n",
       "    <tr>\n",
       "      <th>0</th>\n",
       "      <td>1</td>\n",
       "      <td>15634602</td>\n",
       "      <td>Hargrave</td>\n",
       "      <td>619</td>\n",
       "      <td>France</td>\n",
       "      <td>Female</td>\n",
       "      <td>42</td>\n",
       "      <td>2.0</td>\n",
       "      <td>0.00</td>\n",
       "      <td>1</td>\n",
       "      <td>1</td>\n",
       "      <td>1</td>\n",
       "      <td>101348.88</td>\n",
       "      <td>1</td>\n",
       "    </tr>\n",
       "    <tr>\n",
       "      <th>1</th>\n",
       "      <td>2</td>\n",
       "      <td>15647311</td>\n",
       "      <td>Hill</td>\n",
       "      <td>608</td>\n",
       "      <td>Spain</td>\n",
       "      <td>Female</td>\n",
       "      <td>41</td>\n",
       "      <td>1.0</td>\n",
       "      <td>83807.86</td>\n",
       "      <td>1</td>\n",
       "      <td>0</td>\n",
       "      <td>1</td>\n",
       "      <td>112542.58</td>\n",
       "      <td>0</td>\n",
       "    </tr>\n",
       "    <tr>\n",
       "      <th>2</th>\n",
       "      <td>3</td>\n",
       "      <td>15619304</td>\n",
       "      <td>Onio</td>\n",
       "      <td>502</td>\n",
       "      <td>France</td>\n",
       "      <td>Female</td>\n",
       "      <td>42</td>\n",
       "      <td>8.0</td>\n",
       "      <td>159660.80</td>\n",
       "      <td>3</td>\n",
       "      <td>1</td>\n",
       "      <td>0</td>\n",
       "      <td>113931.57</td>\n",
       "      <td>1</td>\n",
       "    </tr>\n",
       "    <tr>\n",
       "      <th>3</th>\n",
       "      <td>4</td>\n",
       "      <td>15701354</td>\n",
       "      <td>Boni</td>\n",
       "      <td>699</td>\n",
       "      <td>France</td>\n",
       "      <td>Female</td>\n",
       "      <td>39</td>\n",
       "      <td>1.0</td>\n",
       "      <td>0.00</td>\n",
       "      <td>2</td>\n",
       "      <td>0</td>\n",
       "      <td>0</td>\n",
       "      <td>93826.63</td>\n",
       "      <td>0</td>\n",
       "    </tr>\n",
       "    <tr>\n",
       "      <th>4</th>\n",
       "      <td>5</td>\n",
       "      <td>15737888</td>\n",
       "      <td>Mitchell</td>\n",
       "      <td>850</td>\n",
       "      <td>Spain</td>\n",
       "      <td>Female</td>\n",
       "      <td>43</td>\n",
       "      <td>2.0</td>\n",
       "      <td>125510.82</td>\n",
       "      <td>1</td>\n",
       "      <td>1</td>\n",
       "      <td>1</td>\n",
       "      <td>79084.10</td>\n",
       "      <td>0</td>\n",
       "    </tr>\n",
       "  </tbody>\n",
       "</table>\n",
       "</div>"
      ],
      "text/plain": [
       "   RowNumber  CustomerId   Surname  CreditScore Geography  Gender  Age  \\\n",
       "0          1    15634602  Hargrave          619    France  Female   42   \n",
       "1          2    15647311      Hill          608     Spain  Female   41   \n",
       "2          3    15619304      Onio          502    France  Female   42   \n",
       "3          4    15701354      Boni          699    France  Female   39   \n",
       "4          5    15737888  Mitchell          850     Spain  Female   43   \n",
       "\n",
       "   Tenure    Balance  NumOfProducts  HasCrCard  IsActiveMember  \\\n",
       "0     2.0       0.00              1          1               1   \n",
       "1     1.0   83807.86              1          0               1   \n",
       "2     8.0  159660.80              3          1               0   \n",
       "3     1.0       0.00              2          0               0   \n",
       "4     2.0  125510.82              1          1               1   \n",
       "\n",
       "   EstimatedSalary  Exited  \n",
       "0        101348.88       1  \n",
       "1        112542.58       0  \n",
       "2        113931.57       1  \n",
       "3         93826.63       0  \n",
       "4         79084.10       0  "
      ]
     },
     "execution_count": 4,
     "metadata": {},
     "output_type": "execute_result"
    }
   ],
   "source": [
    "data.head()"
   ]
  },
  {
   "cell_type": "markdown",
   "metadata": {},
   "source": [
    "Выведем основную информацию датафрейма:"
   ]
  },
  {
   "cell_type": "code",
   "execution_count": 5,
   "metadata": {},
   "outputs": [
    {
     "name": "stdout",
     "output_type": "stream",
     "text": [
      "<class 'pandas.core.frame.DataFrame'>\n",
      "RangeIndex: 10000 entries, 0 to 9999\n",
      "Data columns (total 14 columns):\n",
      " #   Column           Non-Null Count  Dtype  \n",
      "---  ------           --------------  -----  \n",
      " 0   RowNumber        10000 non-null  int64  \n",
      " 1   CustomerId       10000 non-null  int64  \n",
      " 2   Surname          10000 non-null  object \n",
      " 3   CreditScore      10000 non-null  int64  \n",
      " 4   Geography        10000 non-null  object \n",
      " 5   Gender           10000 non-null  object \n",
      " 6   Age              10000 non-null  int64  \n",
      " 7   Tenure           9091 non-null   float64\n",
      " 8   Balance          10000 non-null  float64\n",
      " 9   NumOfProducts    10000 non-null  int64  \n",
      " 10  HasCrCard        10000 non-null  int64  \n",
      " 11  IsActiveMember   10000 non-null  int64  \n",
      " 12  EstimatedSalary  10000 non-null  float64\n",
      " 13  Exited           10000 non-null  int64  \n",
      "dtypes: float64(3), int64(8), object(3)\n",
      "memory usage: 1.1+ MB\n"
     ]
    }
   ],
   "source": [
    "data.info()"
   ]
  },
  {
   "cell_type": "markdown",
   "metadata": {},
   "source": [
    "Приведёт наименования столбцов к нижнему регистру:"
   ]
  },
  {
   "cell_type": "code",
   "execution_count": 6,
   "metadata": {},
   "outputs": [],
   "source": [
    "data.columns = data.columns.str.lower()"
   ]
  },
  {
   "cell_type": "code",
   "execution_count": 7,
   "metadata": {},
   "outputs": [
    {
     "name": "stdout",
     "output_type": "stream",
     "text": [
      "<class 'pandas.core.frame.DataFrame'>\n",
      "RangeIndex: 10000 entries, 0 to 9999\n",
      "Data columns (total 14 columns):\n",
      " #   Column           Non-Null Count  Dtype  \n",
      "---  ------           --------------  -----  \n",
      " 0   rownumber        10000 non-null  int64  \n",
      " 1   customerid       10000 non-null  int64  \n",
      " 2   surname          10000 non-null  object \n",
      " 3   creditscore      10000 non-null  int64  \n",
      " 4   geography        10000 non-null  object \n",
      " 5   gender           10000 non-null  object \n",
      " 6   age              10000 non-null  int64  \n",
      " 7   tenure           9091 non-null   float64\n",
      " 8   balance          10000 non-null  float64\n",
      " 9   numofproducts    10000 non-null  int64  \n",
      " 10  hascrcard        10000 non-null  int64  \n",
      " 11  isactivemember   10000 non-null  int64  \n",
      " 12  estimatedsalary  10000 non-null  float64\n",
      " 13  exited           10000 non-null  int64  \n",
      "dtypes: float64(3), int64(8), object(3)\n",
      "memory usage: 1.1+ MB\n"
     ]
    }
   ],
   "source": [
    "data.info()"
   ]
  },
  {
   "cell_type": "markdown",
   "metadata": {},
   "source": [
    "Заполним пропущенные значения в столбце 'tenure' "
   ]
  },
  {
   "cell_type": "code",
   "execution_count": 8,
   "metadata": {},
   "outputs": [],
   "source": [
    "data['tenure'] = data['tenure'].fillna(0)"
   ]
  },
  {
   "cell_type": "markdown",
   "metadata": {},
   "source": [
    "Удалим ненужные признаки:"
   ]
  },
  {
   "cell_type": "code",
   "execution_count": 9,
   "metadata": {},
   "outputs": [],
   "source": [
    "data = data.drop(['rownumber', 'customerid', 'surname'],  axis = 1)"
   ]
  },
  {
   "cell_type": "markdown",
   "metadata": {},
   "source": [
    "Преобразуем категориальный признак техникой OHE:"
   ]
  },
  {
   "cell_type": "code",
   "execution_count": 10,
   "metadata": {},
   "outputs": [],
   "source": [
    "data_ohe = pd.get_dummies(data, drop_first=True)"
   ]
  },
  {
   "cell_type": "markdown",
   "metadata": {},
   "source": [
    "Создадим переменные для признаков и целевого признака:"
   ]
  },
  {
   "cell_type": "code",
   "execution_count": 11,
   "metadata": {},
   "outputs": [],
   "source": [
    "features = data_ohe.drop('exited', axis = 1)\n",
    "target = data_ohe['exited']"
   ]
  },
  {
   "cell_type": "markdown",
   "metadata": {},
   "source": [
    "Выделим из исходных данных тренировочную выборку:"
   ]
  },
  {
   "cell_type": "code",
   "execution_count": 12,
   "metadata": {},
   "outputs": [],
   "source": [
    "data_train, data_temp = train_test_split(data_ohe, train_size=0.6, random_state=12345)"
   ]
  },
  {
   "cell_type": "markdown",
   "metadata": {},
   "source": [
    "Оставшиеся данные поделим пополам на валидационную и тестовые выборки:"
   ]
  },
  {
   "cell_type": "code",
   "execution_count": 13,
   "metadata": {},
   "outputs": [],
   "source": [
    "data_valid, data_test = train_test_split(data_temp, test_size=0.5, random_state=12345)"
   ]
  },
  {
   "cell_type": "markdown",
   "metadata": {},
   "source": [
    "Выведем размер таблицы, получившихся выборок:"
   ]
  },
  {
   "cell_type": "code",
   "execution_count": 14,
   "metadata": {},
   "outputs": [
    {
     "data": {
      "text/plain": [
       "(10000, 12)"
      ]
     },
     "execution_count": 14,
     "metadata": {},
     "output_type": "execute_result"
    }
   ],
   "source": [
    "data_ohe.shape"
   ]
  },
  {
   "cell_type": "code",
   "execution_count": 15,
   "metadata": {},
   "outputs": [
    {
     "data": {
      "text/plain": [
       "(6000, 12)"
      ]
     },
     "execution_count": 15,
     "metadata": {},
     "output_type": "execute_result"
    }
   ],
   "source": [
    "data_train.shape"
   ]
  },
  {
   "cell_type": "code",
   "execution_count": 16,
   "metadata": {},
   "outputs": [
    {
     "data": {
      "text/plain": [
       "(2000, 12)"
      ]
     },
     "execution_count": 16,
     "metadata": {},
     "output_type": "execute_result"
    }
   ],
   "source": [
    "data_valid.shape"
   ]
  },
  {
   "cell_type": "code",
   "execution_count": 17,
   "metadata": {},
   "outputs": [
    {
     "data": {
      "text/plain": [
       "(2000, 12)"
      ]
     },
     "execution_count": 17,
     "metadata": {},
     "output_type": "execute_result"
    }
   ],
   "source": [
    "data_test.shape"
   ]
  },
  {
   "cell_type": "markdown",
   "metadata": {},
   "source": [
    "Создадим переменные для признаков и целевого признака для тренировочной, валидационной и тестовой выборки:"
   ]
  },
  {
   "cell_type": "code",
   "execution_count": 18,
   "metadata": {},
   "outputs": [],
   "source": [
    "features_train = data_train.drop(['exited'], axis=1)\n",
    "target_train = data_train['exited']\n",
    "features_valid = data_valid.drop(['exited'], axis=1)\n",
    "target_valid = data_valid['exited']\n",
    "features_test = data_test.drop(['exited'], axis=1)\n",
    "target_test = data_test['exited']"
   ]
  },
  {
   "cell_type": "markdown",
   "metadata": {},
   "source": [
    "Приведём численные признаки к одному масштабу:"
   ]
  },
  {
   "cell_type": "code",
   "execution_count": 19,
   "metadata": {},
   "outputs": [],
   "source": [
    "numeric = ['creditscore', 'age', 'tenure', 'balance', 'numofproducts', 'estimatedsalary']\n",
    "scaler = StandardScaler()\n",
    "scaler.fit(features_train[numeric])\n",
    "features_train[numeric] = scaler.transform(features_train[numeric])\n",
    "features_valid[numeric] = scaler.transform(features_valid[numeric])\n",
    "features_test[numeric] = scaler.transform(features_test[numeric])"
   ]
  },
  {
   "cell_type": "markdown",
   "metadata": {},
   "source": [
    "## Исследование задачи"
   ]
  },
  {
   "cell_type": "markdown",
   "metadata": {},
   "source": [
    "Исследуем качество модели на тренировочной выборке с помощью модели \"Случайный лес\":"
   ]
  },
  {
   "cell_type": "code",
   "execution_count": 20,
   "metadata": {},
   "outputs": [
    {
     "name": "stdout",
     "output_type": "stream",
     "text": [
      "max_est = 1 : 0.785\n",
      "max_est = 2 : 0.827\n",
      "max_est = 3 : 0.827\n",
      "max_est = 4 : 0.838\n",
      "max_est = 5 : 0.838\n",
      "max_est = 6 : 0.8455\n",
      "max_est = 7 : 0.8515\n",
      "max_est = 8 : 0.852\n",
      "max_est = 9 : 0.854\n",
      "max_est = 10 : 0.8535\n"
     ]
    }
   ],
   "source": [
    "for est in range(1, 11):\n",
    "    model_RFC = RandomForestClassifier(random_state=12345, n_estimators= est)\n",
    "    model_RFC.fit(features_train, target_train)\n",
    "    predictions_valid_RFC = model_RFC.predict(features_valid)\n",
    "    print(\"max_est =\", est, \": \", end='')\n",
    "    print(accuracy_score(target_valid, predictions_valid_RFC))"
   ]
  },
  {
   "cell_type": "code",
   "execution_count": 21,
   "metadata": {},
   "outputs": [
    {
     "data": {
      "text/plain": [
       "0.5849923430321593"
      ]
     },
     "execution_count": 21,
     "metadata": {},
     "output_type": "execute_result"
    }
   ],
   "source": [
    "model_RFC = RandomForestClassifier(random_state=12345, n_estimators = 100, max_depth = 13)\n",
    "model_RFC.fit(features_train, target_train)\n",
    "result_RFC = model_RFC.score(features_valid, target_valid)\n",
    "predicted_valid = model_RFC.predict(features_valid)\n",
    "f1_score(target_valid, predicted_valid)"
   ]
  },
  {
   "cell_type": "code",
   "execution_count": 22,
   "metadata": {},
   "outputs": [
    {
     "name": "stdout",
     "output_type": "stream",
     "text": [
      "AUC-ROC: 0.714562451986765\n"
     ]
    }
   ],
   "source": [
    "print('AUC-ROC:', roc_auc_score(target_valid, predicted_valid))"
   ]
  },
  {
   "cell_type": "markdown",
   "metadata": {},
   "source": [
    "Метрика F1 далека от идеала, в дальнейшем постараемся улучшить наши показатели..."
   ]
  },
  {
   "cell_type": "markdown",
   "metadata": {},
   "source": [
    "## Борьба с дисбалансом"
   ]
  },
  {
   "cell_type": "markdown",
   "metadata": {},
   "source": [
    "На первом этапе поборемся с дисбалансом классов с помощью техники увеличения выборки:"
   ]
  },
  {
   "cell_type": "code",
   "execution_count": 24,
   "metadata": {},
   "outputs": [],
   "source": [
    "def upsample(features, target, repeat):\n",
    "    features_zeros = features[target == 0]\n",
    "    features_ones = features[target == 1]\n",
    "    target_zeros = target[target == 0]\n",
    "    target_ones = target[target == 1]\n",
    "\n",
    "    features_upsampled = np.concatenate([features_zeros] + [features_ones] * repeat)\n",
    "    target_upsampled = np.concatenate([target_zeros] + [target_ones] * repeat)\n",
    "    \n",
    "    features_upsampled, target_upsampled = shuffle(\n",
    "        features_upsampled, target_upsampled, random_state=12345)\n",
    "    \n",
    "    return features_upsampled, target_upsampled\n",
    "\n",
    "features_upsampled, target_upsampled = upsample(features_train, target_train, 4)"
   ]
  },
  {
   "cell_type": "markdown",
   "metadata": {},
   "source": [
    "выполнил определение гиперпараметров"
   ]
  },
  {
   "cell_type": "code",
   "execution_count": 25,
   "metadata": {},
   "outputs": [
    {
     "name": "stdout",
     "output_type": "stream",
     "text": [
      "0.6289156626506025 100 13\n"
     ]
    }
   ],
   "source": [
    "best_results_up = 0\n",
    "est_best_up = 0\n",
    "depth_best_up = 0\n",
    "for est in range (20,101,10):\n",
    "    for depth in range (5,20,1):\n",
    "        model_up = RandomForestClassifier(random_state=12345, n_estimators = est, max_depth = depth)\n",
    "        model_up.fit(features_upsampled, target_upsampled)\n",
    "        predict_up = model_up.predict(features_valid)\n",
    "        results_up = f1_score(target_valid, predict_up)\n",
    "        if results_up > best_results_up:\n",
    "            best_results_up = results_up\n",
    "            est_best_up = est\n",
    "            depth_best_up = depth\n",
    "print(best_results_up, est_best_up, depth_best_up)"
   ]
  },
  {
   "cell_type": "code",
   "execution_count": 26,
   "metadata": {},
   "outputs": [
    {
     "name": "stdout",
     "output_type": "stream",
     "text": [
      "F1: 0.6289156626506025\n"
     ]
    }
   ],
   "source": [
    "model_up = RandomForestClassifier(random_state=12345, n_estimators = 100, max_depth = 13)\n",
    "model_up.fit(features_upsampled, target_upsampled)\n",
    "predicted_valid_up = model_up.predict(features_valid)\n",
    "print(\"F1:\", f1_score(target_valid, predicted_valid_up))"
   ]
  },
  {
   "cell_type": "markdown",
   "metadata": {},
   "source": [
    "выполнил балансировку весов классов"
   ]
  },
  {
   "cell_type": "code",
   "execution_count": 27,
   "metadata": {},
   "outputs": [
    {
     "name": "stdout",
     "output_type": "stream",
     "text": [
      "[0.05271164 0.59450491 0.31638994 0.19708648 0.03840956 0.02881885\n",
      " 0.10483176 0.11394746 0.10203198 0.2926908  0.52121902 0.02092148\n",
      " 0.01914251 0.22568521 0.82846472 0.03361181 0.02680562 0.8811792\n",
      " 0.22604352 0.3194939  0.04440028 0.44904757 0.81337468 0.33007393\n",
      " 0.03487244 0.02888886 0.39198129 0.05614516 0.01482534 0.17248377\n",
      " 0.05545116 0.33758084 0.04422327 0.24616829 0.25453566 0.15118971\n",
      " 0.09199423 0.27147198 0.01796456 0.79339234 0.59308253 0.68433975\n",
      " 0.02376392 0.01352958 0.63365779 0.98953613 0.59967269 0.01087943\n",
      " 0.16197443 0.00317686]\n"
     ]
    }
   ],
   "source": [
    "probabilities_valid_up = model_up.predict_proba(features_valid)\n",
    "probabilities_one_valid_up = probabilities_valid_up[:, 1]\n",
    "print(probabilities_one_valid_up[:50])"
   ]
  },
  {
   "cell_type": "code",
   "execution_count": 28,
   "metadata": {},
   "outputs": [
    {
     "name": "stdout",
     "output_type": "stream",
     "text": [
      "Порог = 0.00 | Точность = 0.209, Полнота = 1.000\n",
      "Порог = 0.02 | Точность = 0.222, Полнота = 0.995\n",
      "Порог = 0.04 | Точность = 0.236, Полнота = 0.988\n",
      "Порог = 0.06 | Точность = 0.248, Полнота = 0.971\n",
      "Порог = 0.08 | Точность = 0.261, Полнота = 0.964\n",
      "Порог = 0.10 | Точность = 0.275, Полнота = 0.952\n",
      "Порог = 0.12 | Точность = 0.291, Полнота = 0.938\n",
      "Порог = 0.14 | Точность = 0.303, Полнота = 0.923\n",
      "Порог = 0.16 | Точность = 0.318, Полнота = 0.911\n",
      "Порог = 0.18 | Точность = 0.334, Полнота = 0.890\n",
      "Порог = 0.20 | Точность = 0.354, Полнота = 0.880\n",
      "Порог = 0.22 | Точность = 0.369, Полнота = 0.861\n",
      "Порог = 0.24 | Точность = 0.384, Полнота = 0.847\n",
      "Порог = 0.26 | Точность = 0.399, Полнота = 0.821\n",
      "Порог = 0.28 | Точность = 0.418, Полнота = 0.801\n",
      "Порог = 0.30 | Точность = 0.439, Полнота = 0.787\n",
      "Порог = 0.32 | Точность = 0.452, Полнота = 0.763\n",
      "Порог = 0.34 | Точность = 0.468, Полнота = 0.746\n",
      "Порог = 0.36 | Точность = 0.492, Полнота = 0.730\n",
      "Порог = 0.38 | Точность = 0.515, Полнота = 0.722\n",
      "Порог = 0.40 | Точность = 0.532, Полнота = 0.703\n",
      "Порог = 0.42 | Точность = 0.558, Полнота = 0.687\n",
      "Порог = 0.44 | Точность = 0.582, Полнота = 0.677\n",
      "Порог = 0.46 | Точность = 0.591, Полнота = 0.651\n",
      "Порог = 0.48 | Точность = 0.611, Полнота = 0.636\n",
      "Порог = 0.50 | Точность = 0.633, Полнота = 0.624\n",
      "Порог = 0.52 | Точность = 0.652, Полнота = 0.600\n",
      "Порог = 0.54 | Точность = 0.658, Полнота = 0.579\n",
      "Порог = 0.56 | Точность = 0.675, Полнота = 0.567\n",
      "Порог = 0.58 | Точность = 0.690, Полнота = 0.553\n",
      "Порог = 0.60 | Точность = 0.710, Полнота = 0.538\n",
      "Порог = 0.62 | Точность = 0.736, Полнота = 0.522\n",
      "Порог = 0.64 | Точность = 0.757, Полнота = 0.493\n",
      "Порог = 0.66 | Точность = 0.767, Полнота = 0.450\n",
      "Порог = 0.68 | Точность = 0.789, Полнота = 0.438\n",
      "Порог = 0.70 | Точность = 0.811, Полнота = 0.411\n",
      "Порог = 0.72 | Точность = 0.826, Полнота = 0.397\n",
      "Порог = 0.74 | Точность = 0.840, Полнота = 0.376\n",
      "Порог = 0.76 | Точность = 0.843, Полнота = 0.347\n",
      "Порог = 0.78 | Точность = 0.863, Полнота = 0.333\n",
      "Порог = 0.80 | Точность = 0.869, Полнота = 0.301\n",
      "Порог = 0.82 | Точность = 0.881, Полнота = 0.266\n",
      "Порог = 0.84 | Точность = 0.899, Полнота = 0.234\n",
      "Порог = 0.86 | Точность = 0.931, Полнота = 0.194\n",
      "Порог = 0.88 | Точность = 0.915, Полнота = 0.156\n",
      "Порог = 0.90 | Точность = 0.912, Полнота = 0.124\n",
      "Порог = 0.92 | Точность = 0.894, Полнота = 0.100\n",
      "Порог = 0.94 | Точность = 0.862, Полнота = 0.060\n",
      "Порог = 0.96 | Точность = 1.000, Полнота = 0.029\n",
      "Порог = 0.98 | Точность = 1.000, Полнота = 0.010\n"
     ]
    }
   ],
   "source": [
    "for threshold in np.arange(0, 1.0, 0.02):\n",
    "    predicted_valid_up = probabilities_one_valid_up > threshold\n",
    "    precision_up = precision_score(target_valid, predicted_valid_up)\n",
    "    recall_up = recall_score(target_valid, predicted_valid_up)\n",
    "    print(\"Порог = {:.2f} | Точность = {:.3f}, Полнота = {:.3f}\".format(\n",
    "        threshold, precision_up, recall_up))"
   ]
  },
  {
   "cell_type": "markdown",
   "metadata": {},
   "source": [
    "На втором этапе поборемся с дисбалансом классов с помощью техники уменьшения выборки:"
   ]
  },
  {
   "cell_type": "code",
   "execution_count": 29,
   "metadata": {},
   "outputs": [],
   "source": [
    "def downsample(features, target, fraction):\n",
    "    features_zeros = features[target == 0]\n",
    "    features_ones = features[target == 1]\n",
    "    target_zeros = target[target == 0]\n",
    "    target_ones = target[target == 1]\n",
    "\n",
    "    features_downsampled = pd.concat(\n",
    "        [features_zeros.sample(frac=fraction, random_state=12345)] + [features_ones])\n",
    "    target_downsampled = pd.concat(\n",
    "        [target_zeros.sample(frac=fraction, random_state=12345)] + [target_ones])\n",
    "    \n",
    "    features_downsampled, target_downsampled = shuffle(\n",
    "        features_downsampled, target_downsampled, random_state=12345)\n",
    "    \n",
    "    return features_downsampled, target_downsampled\n",
    "\n",
    "features_downsampled, target_downsampled = downsample(features_train, target_train, 0.3)"
   ]
  },
  {
   "cell_type": "code",
   "execution_count": 30,
   "metadata": {},
   "outputs": [
    {
     "name": "stdout",
     "output_type": "stream",
     "text": [
      "0.6261980830670926 70 5\n"
     ]
    }
   ],
   "source": [
    "best_results_down = 0\n",
    "est_best_down = 0\n",
    "depth_best_down = 0\n",
    "for est in range (20,101,10):\n",
    "    for depth in range (5,20,1):\n",
    "        model_down = RandomForestClassifier(random_state=12345, n_estimators = est, max_depth = depth)\n",
    "        model_down.fit(features_downsampled, target_downsampled)\n",
    "        predict_down = model_down.predict(features_valid)\n",
    "        results_down = f1_score(target_valid, predict_down)\n",
    "        if results_down > best_results_down:\n",
    "            best_results_down = results_down\n",
    "            est_best_down = est\n",
    "            depth_best_down = depth\n",
    "print(best_results_down, est_best_down, depth_best_down)"
   ]
  },
  {
   "cell_type": "code",
   "execution_count": 31,
   "metadata": {},
   "outputs": [
    {
     "name": "stdout",
     "output_type": "stream",
     "text": [
      "F1: 0.6261980830670926\n"
     ]
    }
   ],
   "source": [
    "model_down = RandomForestClassifier(random_state=12345, n_estimators = 70, max_depth = 5)\n",
    "model_down.fit(features_downsampled, target_downsampled)\n",
    "predicted_valid_down = model_down.predict(features_valid)\n",
    "print(\"F1:\", f1_score(target_valid, predicted_valid_down))"
   ]
  },
  {
   "cell_type": "code",
   "execution_count": 32,
   "metadata": {},
   "outputs": [
    {
     "name": "stdout",
     "output_type": "stream",
     "text": [
      "[0.2077646  0.5717485  0.46132219 0.28234758 0.35070203 0.32331307\n",
      " 0.20270575 0.21937943 0.38680488 0.48517426 0.62786866 0.18980069\n",
      " 0.12456775 0.35700439 0.85907912 0.18402316 0.15099239 0.7470489\n",
      " 0.39413467 0.4133014  0.21715471 0.70778428 0.71073356 0.3856384\n",
      " 0.2246533  0.18217291 0.49983571 0.35484414 0.13100029 0.4226598\n",
      " 0.32125639 0.34186562 0.25569296 0.37448584 0.45777359 0.2118456\n",
      " 0.29409459 0.30194067 0.15103097 0.76171322 0.47413887 0.3755101\n",
      " 0.19155642 0.14476425 0.59634474 0.8358817  0.51806498 0.12547539\n",
      " 0.28507263 0.12529998]\n"
     ]
    }
   ],
   "source": [
    "probabilities_valid_down = model_down.predict_proba(features_valid)\n",
    "probabilities_one_valid_down = probabilities_valid_down[:, 1]\n",
    "print(probabilities_one_valid_down[:50])"
   ]
  },
  {
   "cell_type": "code",
   "execution_count": 33,
   "metadata": {},
   "outputs": [
    {
     "name": "stdout",
     "output_type": "stream",
     "text": [
      "Порог = 0.00 | Точность = 0.209, Полнота = 1.000\n",
      "Порог = 0.02 | Точность = 0.209, Полнота = 1.000\n",
      "Порог = 0.04 | Точность = 0.209, Полнота = 1.000\n",
      "Порог = 0.06 | Точность = 0.209, Полнота = 1.000\n",
      "Порог = 0.08 | Точность = 0.209, Полнота = 1.000\n",
      "Порог = 0.10 | Точность = 0.209, Полнота = 1.000\n",
      "Порог = 0.12 | Точность = 0.210, Полнота = 1.000\n",
      "Порог = 0.14 | Точность = 0.216, Полнота = 0.998\n",
      "Порог = 0.16 | Точность = 0.226, Полнота = 0.990\n",
      "Порог = 0.18 | Точность = 0.235, Полнота = 0.986\n",
      "Порог = 0.20 | Точность = 0.254, Полнота = 0.981\n",
      "Порог = 0.22 | Точность = 0.263, Полнота = 0.955\n",
      "Порог = 0.24 | Точность = 0.271, Полнота = 0.945\n",
      "Порог = 0.26 | Точность = 0.281, Полнота = 0.928\n",
      "Порог = 0.28 | Точность = 0.291, Полнота = 0.919\n",
      "Порог = 0.30 | Точность = 0.302, Полнота = 0.911\n",
      "Порог = 0.32 | Точность = 0.323, Полнота = 0.897\n",
      "Порог = 0.34 | Точность = 0.343, Полнота = 0.880\n",
      "Порог = 0.36 | Точность = 0.369, Полнота = 0.866\n",
      "Порог = 0.38 | Точность = 0.394, Полнота = 0.840\n",
      "Порог = 0.40 | Точность = 0.413, Полнота = 0.811\n",
      "Порог = 0.42 | Точность = 0.427, Полнота = 0.780\n",
      "Порог = 0.44 | Точность = 0.454, Полнота = 0.766\n",
      "Порог = 0.46 | Точность = 0.485, Полнота = 0.749\n",
      "Порог = 0.48 | Точность = 0.519, Полнота = 0.722\n",
      "Порог = 0.50 | Точность = 0.564, Полнота = 0.703\n",
      "Порог = 0.52 | Точность = 0.591, Полнота = 0.675\n",
      "Порог = 0.54 | Точность = 0.615, Полнота = 0.639\n",
      "Порог = 0.56 | Точность = 0.638, Полнота = 0.612\n",
      "Порог = 0.58 | Точность = 0.648, Полнота = 0.572\n",
      "Порог = 0.60 | Точность = 0.671, Полнота = 0.541\n",
      "Порог = 0.62 | Точность = 0.694, Полнота = 0.514\n",
      "Порог = 0.64 | Точность = 0.728, Полнота = 0.493\n",
      "Порог = 0.66 | Точность = 0.749, Полнота = 0.471\n",
      "Порог = 0.68 | Точность = 0.775, Полнота = 0.438\n",
      "Порог = 0.70 | Точность = 0.820, Полнота = 0.392\n",
      "Порог = 0.72 | Точность = 0.855, Полнота = 0.337\n",
      "Порог = 0.74 | Точность = 0.873, Полнота = 0.297\n",
      "Порог = 0.76 | Точность = 0.860, Полнота = 0.234\n",
      "Порог = 0.78 | Точность = 0.851, Полнота = 0.191\n",
      "Порог = 0.80 | Точность = 0.865, Полнота = 0.184\n",
      "Порог = 0.82 | Точность = 0.877, Полнота = 0.153\n",
      "Порог = 0.84 | Точность = 0.922, Полнота = 0.112\n",
      "Порог = 0.86 | Точность = 0.967, Полнота = 0.069\n",
      "Порог = 0.88 | Точность = 1.000, Полнота = 0.041\n",
      "Порог = 0.90 | Точность = 1.000, Полнота = 0.005\n",
      "Порог = 0.92 | Точность = 0.000, Полнота = 0.000\n",
      "Порог = 0.94 | Точность = 0.000, Полнота = 0.000\n",
      "Порог = 0.96 | Точность = 0.000, Полнота = 0.000\n",
      "Порог = 0.98 | Точность = 0.000, Полнота = 0.000\n"
     ]
    }
   ],
   "source": [
    "for threshold in np.arange(0, 1.0, 0.02):\n",
    "    predicted_valid_down = probabilities_one_valid_down > threshold\n",
    "    precision_down = precision_score(target_valid, predicted_valid_down)\n",
    "    recall_down = recall_score(target_valid, predicted_valid_down)\n",
    "    print(\"Порог = {:.2f} | Точность = {:.3f}, Полнота = {:.3f}\".format(\n",
    "        threshold, precision_down, recall_down))"
   ]
  },
  {
   "cell_type": "code",
   "execution_count": 34,
   "metadata": {},
   "outputs": [
    {
     "name": "stdout",
     "output_type": "stream",
     "text": [
      "Порог = 0.00 | Точность = 0.209, Полнота = 1.000, F1 = 0.346\n",
      "Порог = 0.02 | Точность = 0.209, Полнота = 1.000, F1 = 0.346\n",
      "Порог = 0.04 | Точность = 0.209, Полнота = 1.000, F1 = 0.346\n",
      "Порог = 0.06 | Точность = 0.209, Полнота = 1.000, F1 = 0.346\n",
      "Порог = 0.08 | Точность = 0.209, Полнота = 1.000, F1 = 0.346\n",
      "Порог = 0.10 | Точность = 0.209, Полнота = 1.000, F1 = 0.346\n",
      "Порог = 0.12 | Точность = 0.210, Полнота = 1.000, F1 = 0.347\n",
      "Порог = 0.14 | Точность = 0.216, Полнота = 0.998, F1 = 0.355\n",
      "Порог = 0.16 | Точность = 0.226, Полнота = 0.990, F1 = 0.368\n",
      "Порог = 0.18 | Точность = 0.235, Полнота = 0.986, F1 = 0.380\n",
      "Порог = 0.20 | Точность = 0.254, Полнота = 0.981, F1 = 0.403\n",
      "Порог = 0.22 | Точность = 0.263, Полнота = 0.955, F1 = 0.412\n",
      "Порог = 0.24 | Точность = 0.271, Полнота = 0.945, F1 = 0.421\n",
      "Порог = 0.26 | Точность = 0.281, Полнота = 0.928, F1 = 0.431\n",
      "Порог = 0.28 | Точность = 0.291, Полнота = 0.919, F1 = 0.442\n",
      "Порог = 0.30 | Точность = 0.302, Полнота = 0.911, F1 = 0.454\n",
      "Порог = 0.32 | Точность = 0.323, Полнота = 0.897, F1 = 0.475\n",
      "Порог = 0.34 | Точность = 0.343, Полнота = 0.880, F1 = 0.494\n",
      "Порог = 0.36 | Точность = 0.369, Полнота = 0.866, F1 = 0.517\n",
      "Порог = 0.38 | Точность = 0.394, Полнота = 0.840, F1 = 0.537\n",
      "Порог = 0.40 | Точность = 0.413, Полнота = 0.811, F1 = 0.548\n",
      "Порог = 0.42 | Точность = 0.427, Полнота = 0.780, F1 = 0.552\n",
      "Порог = 0.44 | Точность = 0.454, Полнота = 0.766, F1 = 0.570\n",
      "Порог = 0.46 | Точность = 0.485, Полнота = 0.749, F1 = 0.588\n",
      "Порог = 0.48 | Точность = 0.519, Полнота = 0.722, F1 = 0.604\n",
      "Порог = 0.50 | Точность = 0.564, Полнота = 0.703, F1 = 0.626\n",
      "Порог = 0.52 | Точность = 0.591, Полнота = 0.675, F1 = 0.630\n",
      "Порог = 0.54 | Точность = 0.615, Полнота = 0.639, F1 = 0.627\n",
      "Порог = 0.56 | Точность = 0.638, Полнота = 0.612, F1 = 0.625\n",
      "Порог = 0.58 | Точность = 0.648, Полнота = 0.572, F1 = 0.607\n",
      "Порог = 0.60 | Точность = 0.671, Полнота = 0.541, F1 = 0.599\n",
      "Порог = 0.62 | Точность = 0.694, Полнота = 0.514, F1 = 0.591\n",
      "Порог = 0.64 | Точность = 0.728, Полнота = 0.493, F1 = 0.588\n",
      "Порог = 0.66 | Точность = 0.749, Полнота = 0.471, F1 = 0.579\n",
      "Порог = 0.68 | Точность = 0.775, Полнота = 0.438, F1 = 0.560\n",
      "Порог = 0.70 | Точность = 0.820, Полнота = 0.392, F1 = 0.531\n",
      "Порог = 0.72 | Точность = 0.855, Полнота = 0.337, F1 = 0.484\n",
      "Порог = 0.74 | Точность = 0.873, Полнота = 0.297, F1 = 0.443\n",
      "Порог = 0.76 | Точность = 0.860, Полнота = 0.234, F1 = 0.368\n",
      "Порог = 0.78 | Точность = 0.851, Полнота = 0.191, F1 = 0.312\n",
      "Порог = 0.80 | Точность = 0.865, Полнота = 0.184, F1 = 0.304\n",
      "Порог = 0.82 | Точность = 0.877, Полнота = 0.153, F1 = 0.261\n",
      "Порог = 0.84 | Точность = 0.922, Полнота = 0.112, F1 = 0.200\n",
      "Порог = 0.86 | Точность = 0.967, Полнота = 0.069, F1 = 0.129\n",
      "Порог = 0.88 | Точность = 1.000, Полнота = 0.041, F1 = 0.078\n",
      "Порог = 0.90 | Точность = 1.000, Полнота = 0.005, F1 = 0.010\n",
      "Порог = 0.92 | Точность = 0.000, Полнота = 0.000, F1 = 0.000\n",
      "Порог = 0.94 | Точность = 0.000, Полнота = 0.000, F1 = 0.000\n",
      "Порог = 0.96 | Точность = 0.000, Полнота = 0.000, F1 = 0.000\n",
      "Порог = 0.98 | Точность = 0.000, Полнота = 0.000, F1 = 0.000\n"
     ]
    }
   ],
   "source": [
    "for threshold in np.arange(0, 1.0, 0.02):\n",
    "    predicted_valid_down = probabilities_one_valid_down > threshold\n",
    "    precision_down = precision_score(target_valid, predicted_valid_down)\n",
    "    recall_down = recall_score(target_valid, predicted_valid_down)\n",
    "    f1 = f1_score(target_valid, predicted_valid_down)\n",
    "    print(\"Порог = {:.2f} | Точность = {:.3f}, Полнота = {:.3f}, F1 = {:.3f}\".format(\n",
    "        threshold, precision_down, recall_down, f1))"
   ]
  },
  {
   "cell_type": "markdown",
   "metadata": {},
   "source": [
    "Пименим балансировку весов классов (class_weight):"
   ]
  },
  {
   "cell_type": "code",
   "execution_count": 35,
   "metadata": {},
   "outputs": [
    {
     "name": "stdout",
     "output_type": "stream",
     "text": [
      "F1: 0.5609756097560976\n"
     ]
    }
   ],
   "source": [
    "model_balanced = RandomForestClassifier(random_state=12345, class_weight='balanced')\n",
    "model_balanced.fit(features_train, target_train)\n",
    "predicted_valid = model_balanced.predict(features_valid)\n",
    "print(\"F1:\", f1_score(target_valid, predicted_valid))"
   ]
  },
  {
   "cell_type": "code",
   "execution_count": 40,
   "metadata": {},
   "outputs": [
    {
     "data": {
      "text/plain": [
       "0    0.546454\n",
       "1    0.453546\n",
       "Name: exited, dtype: float64"
      ]
     },
     "execution_count": 40,
     "metadata": {},
     "output_type": "execute_result"
    }
   ],
   "source": [
    "target_downsampled.value_counts(normalize=True)"
   ]
  },
  {
   "cell_type": "markdown",
   "metadata": {},
   "source": [
    "Качество модели выше при увеличении выборки, применим полученные данные для тестирования модели..."
   ]
  },
  {
   "cell_type": "markdown",
   "metadata": {},
   "source": [
    "## Тестирование модели"
   ]
  },
  {
   "cell_type": "markdown",
   "metadata": {},
   "source": [
    "протестируем модель после учета дисбаланса кассов:"
   ]
  },
  {
   "cell_type": "code",
   "execution_count": 36,
   "metadata": {},
   "outputs": [
    {
     "name": "stdout",
     "output_type": "stream",
     "text": [
      "Тестовая модель\n",
      "F1: 0.6289156626506025\n"
     ]
    }
   ],
   "source": [
    "model_test = RandomForestClassifier(random_state=12345, n_estimators = 100, max_depth = 13)\n",
    "#model_test.fit(features_upsampled, target_upsampled)\n",
    "#predictions_test = model_test.predict(features_upsampled)\n",
    "#print('Тестовая модель')\n",
    "#print('F1:', f1_score(target_upsampled, predictions_test))\n",
    "model_test.fit(features_upsampled, target_upsampled)\n",
    "predicted_valid_test = model_test.predict(features_valid)\n",
    "print('Тестовая модель')\n",
    "print(\"F1:\", f1_score(target_valid, predicted_valid_test))"
   ]
  },
  {
   "cell_type": "code",
   "execution_count": 41,
   "metadata": {},
   "outputs": [
    {
     "data": {
      "text/plain": [
       "0.6064981949458483"
      ]
     },
     "execution_count": 41,
     "metadata": {},
     "output_type": "execute_result"
    }
   ],
   "source": [
    "f1_score(model_test.predict(features_test), target_test)"
   ]
  },
  {
   "cell_type": "code",
   "execution_count": 37,
   "metadata": {},
   "outputs": [
    {
     "name": "stdout",
     "output_type": "stream",
     "text": [
      "AUC-ROC: 0.7030286899872368\n"
     ]
    }
   ],
   "source": [
    "print('AUC-ROC:', roc_auc_score(target_valid, predicted_valid))"
   ]
  },
  {
   "cell_type": "markdown",
   "metadata": {},
   "source": [
    "Мы получили очень хорошие показатели метрики F1"
   ]
  },
  {
   "cell_type": "markdown",
   "metadata": {},
   "source": [
    "Изобразим PR-кривую на графике и посмотрим как выглядят значения метрик..."
   ]
  },
  {
   "cell_type": "code",
   "execution_count": 38,
   "metadata": {},
   "outputs": [
    {
     "data": {
      "image/png": "[encoded data removed]",
      "text/plain": [
       "<Figure size 432x432 with 1 Axes>"
      ]
     },
     "metadata": {
      "needs_background": "light"
     },
     "output_type": "display_data"
    }
   ],
   "source": [
    "probabilities_valid = model_test.predict_proba(features_valid)\n",
    "precision, recall, thresholds = precision_recall_curve(target_valid, probabilities_valid[:, 1])\n",
    "\n",
    "plt.figure(figsize=(6, 6))\n",
    "plt.step(recall, precision, where='post')\n",
    "plt.xlabel('Recall')\n",
    "plt.ylabel('Precision')\n",
    "plt.ylim([0.0, 1.05])\n",
    "plt.xlim([0.0, 1.0])\n",
    "plt.title('Кривая Precision-Recall')\n",
    "plt.grid()\n",
    "plt.show() "
   ]
  },
  {
   "cell_type": "markdown",
   "metadata": {},
   "source": [
    "Чем выше кривая, тем лучше модель..."
   ]
  },
  {
   "cell_type": "code",
   "execution_count": 39,
   "metadata": {},
   "outputs": [
    {
     "data": {
      "image/png": "[encoded data removed]",
      "text/plain": [
       "<Figure size 432x288 with 1 Axes>"
      ]
     },
     "metadata": {
      "needs_background": "light"
     },
     "output_type": "display_data"
    }
   ],
   "source": [
    "probabilities_one_valid = probabilities_valid[:, 1]\n",
    "fpr, tpr, thresholds = roc_curve(target_valid, probabilities_valid[:, 1]) # < напишите код здесь >\n",
    "plt.figure()\n",
    "plt.plot(fpr, tpr)\n",
    "plt.plot([0, 1], [0, 1], linestyle='--')\n",
    "plt.xlim([0.0, 1.0])\n",
    "plt.ylim([0.0, 1.0])\n",
    "plt.xlabel('False Positive Rate')\n",
    "plt.ylabel('True Positive Rate')\n",
    "plt.title('ROC-кривая')\n",
    "plt.grid()\n",
    "plt.show()"
   ]
  },
  {
   "cell_type": "markdown",
   "metadata": {},
   "source": [
    "Короткий путь не самый лучший)))..."
   ]
  },
  {
   "cell_type": "markdown",
   "metadata": {},
   "source": [
    "В этом проекте я  спрогнозировал, уйдёт ли клиент из \"Бета-Банка\" в ближайшее время или нет...\n",
    "Мною были подготовлены даннные и исследована задача классификации, исследован балас классов техниками: увеличения и уменьшения выборки. \n",
    "Проведено тестирование модели. Полученное значение F1-меры выше 0,59 говорит о том, что прогноз класса 1 удался, т.е. положительный класс хорошо прогнозируется...\n",
    "Следовательно можно предположить, что в ближайшее время действительно произойдёт отток клиентов и необходимо принять какие либо меры по удержанию клиентов:    "
   ]
  },
  {
   "cell_type": "code",
   "execution_count": null,
   "metadata": {},
   "outputs": [],
   "source": []
  }
 ],
 "metadata": {
  "ExecuteTimeLog": [
   {
    "duration": 77,
    "start_time": "2022-11-07T09:50:58.965Z"
   },
   {
    "duration": 1002,
    "start_time": "2022-11-08T16:13:57.093Z"
   },
   {
    "duration": 2,
    "start_time": "2022-11-08T16:13:58.097Z"
   },
   {
    "duration": 72,
    "start_time": "2022-11-08T16:13:58.100Z"
   },
   {
    "duration": 16,
    "start_time": "2022-11-08T16:13:58.174Z"
   },
   {
    "duration": 15,
    "start_time": "2022-11-08T16:13:58.192Z"
   },
   {
    "duration": 8,
    "start_time": "2022-11-08T16:13:58.208Z"
   },
   {
    "duration": 15,
    "start_time": "2022-11-08T16:13:58.217Z"
   },
   {
    "duration": 27,
    "start_time": "2022-11-08T16:13:58.233Z"
   },
   {
    "duration": 97,
    "start_time": "2022-11-08T16:13:58.261Z"
   },
   {
    "duration": 0,
    "start_time": "2022-11-08T16:13:58.359Z"
   },
   {
    "duration": 0,
    "start_time": "2022-11-08T16:13:58.360Z"
   },
   {
    "duration": 1,
    "start_time": "2022-11-08T16:13:58.361Z"
   },
   {
    "duration": 0,
    "start_time": "2022-11-08T16:13:58.363Z"
   },
   {
    "duration": 0,
    "start_time": "2022-11-08T16:13:58.363Z"
   },
   {
    "duration": 3,
    "start_time": "2022-11-08T16:17:50.311Z"
   },
   {
    "duration": 10,
    "start_time": "2022-11-08T16:17:52.763Z"
   },
   {
    "duration": 3,
    "start_time": "2022-11-08T16:19:24.587Z"
   },
   {
    "duration": 5,
    "start_time": "2022-11-08T16:19:24.592Z"
   },
   {
    "duration": 33,
    "start_time": "2022-11-08T16:19:24.599Z"
   },
   {
    "duration": 11,
    "start_time": "2022-11-08T16:19:24.634Z"
   },
   {
    "duration": 15,
    "start_time": "2022-11-08T16:19:24.646Z"
   },
   {
    "duration": 2,
    "start_time": "2022-11-08T16:19:24.662Z"
   },
   {
    "duration": 6,
    "start_time": "2022-11-08T16:19:24.665Z"
   },
   {
    "duration": 14,
    "start_time": "2022-11-08T16:19:24.672Z"
   },
   {
    "duration": 0,
    "start_time": "2022-11-08T16:19:24.688Z"
   },
   {
    "duration": 11,
    "start_time": "2022-11-08T16:19:30.674Z"
   },
   {
    "duration": 4,
    "start_time": "2022-11-08T16:19:56.129Z"
   },
   {
    "duration": 11,
    "start_time": "2022-11-08T16:20:01.624Z"
   },
   {
    "duration": 6,
    "start_time": "2022-11-08T16:20:04.548Z"
   },
   {
    "duration": 5,
    "start_time": "2022-11-08T16:20:08.857Z"
   },
   {
    "duration": 6,
    "start_time": "2022-11-08T16:20:12.111Z"
   },
   {
    "duration": 3,
    "start_time": "2022-11-08T16:20:14.299Z"
   },
   {
    "duration": 3,
    "start_time": "2022-11-08T16:20:45.871Z"
   },
   {
    "duration": 3,
    "start_time": "2022-11-08T16:20:48.692Z"
   },
   {
    "duration": 3,
    "start_time": "2022-11-08T16:20:51.100Z"
   },
   {
    "duration": 4,
    "start_time": "2022-11-08T16:20:53.822Z"
   },
   {
    "duration": 9,
    "start_time": "2022-11-08T16:20:59.368Z"
   },
   {
    "duration": 76,
    "start_time": "2022-11-08T16:22:08.334Z"
   },
   {
    "duration": 6,
    "start_time": "2022-11-08T16:22:16.718Z"
   },
   {
    "duration": 13,
    "start_time": "2022-11-08T16:22:19.610Z"
   },
   {
    "duration": 13,
    "start_time": "2022-11-08T16:23:13.375Z"
   },
   {
    "duration": 25,
    "start_time": "2022-11-08T16:23:23.607Z"
   },
   {
    "duration": 10,
    "start_time": "2022-11-08T16:23:43.038Z"
   },
   {
    "duration": 8,
    "start_time": "2022-11-08T16:24:06.507Z"
   },
   {
    "duration": 9,
    "start_time": "2022-11-08T16:24:47.668Z"
   },
   {
    "duration": 9,
    "start_time": "2022-11-08T16:24:52.960Z"
   },
   {
    "duration": 10,
    "start_time": "2022-11-08T16:25:05.938Z"
   },
   {
    "duration": 4,
    "start_time": "2022-11-08T16:25:19.546Z"
   },
   {
    "duration": 403,
    "start_time": "2022-11-08T16:25:26.743Z"
   },
   {
    "duration": 80,
    "start_time": "2022-11-08T16:25:37.792Z"
   },
   {
    "duration": 4,
    "start_time": "2022-11-08T16:26:47.938Z"
   },
   {
    "duration": 91,
    "start_time": "2022-11-08T16:27:19.873Z"
   },
   {
    "duration": 5,
    "start_time": "2022-11-08T16:27:36.157Z"
   },
   {
    "duration": 8,
    "start_time": "2022-11-08T16:37:14.822Z"
   },
   {
    "duration": 13,
    "start_time": "2022-11-08T16:38:00.909Z"
   },
   {
    "duration": 16,
    "start_time": "2022-11-08T16:38:04.193Z"
   },
   {
    "duration": 5,
    "start_time": "2022-11-08T16:39:51.394Z"
   },
   {
    "duration": 7,
    "start_time": "2022-11-08T16:39:59.242Z"
   },
   {
    "duration": 85,
    "start_time": "2022-11-08T16:40:06.454Z"
   },
   {
    "duration": 16,
    "start_time": "2022-11-08T16:41:47.649Z"
   },
   {
    "duration": 7,
    "start_time": "2022-11-08T16:42:25.908Z"
   },
   {
    "duration": 438,
    "start_time": "2022-11-08T17:01:03.983Z"
   },
   {
    "duration": 74,
    "start_time": "2022-11-08T17:01:26.385Z"
   },
   {
    "duration": 80,
    "start_time": "2022-11-08T17:02:02.318Z"
   },
   {
    "duration": 82,
    "start_time": "2022-11-08T17:02:21.233Z"
   },
   {
    "duration": 410,
    "start_time": "2022-11-08T17:03:26.608Z"
   },
   {
    "duration": 73,
    "start_time": "2022-11-08T17:03:31.201Z"
   },
   {
    "duration": 5,
    "start_time": "2022-11-08T17:03:43.284Z"
   },
   {
    "duration": 86,
    "start_time": "2022-11-08T17:05:42.790Z"
   },
   {
    "duration": 89,
    "start_time": "2022-11-08T17:08:34.691Z"
   },
   {
    "duration": 77,
    "start_time": "2022-11-08T17:09:23.378Z"
   },
   {
    "duration": 17,
    "start_time": "2022-11-08T17:11:18.810Z"
   },
   {
    "duration": 38,
    "start_time": "2022-11-08T17:11:39.673Z"
   },
   {
    "duration": 41,
    "start_time": "2022-11-08T17:11:51.499Z"
   },
   {
    "duration": 6,
    "start_time": "2022-11-08T17:18:51.432Z"
   },
   {
    "duration": 101,
    "start_time": "2022-11-08T17:19:05.379Z"
   },
   {
    "duration": 15,
    "start_time": "2022-11-08T17:21:38.989Z"
   },
   {
    "duration": 3,
    "start_time": "2022-11-08T17:22:00.678Z"
   },
   {
    "duration": 15,
    "start_time": "2022-11-08T17:23:39.113Z"
   },
   {
    "duration": 367,
    "start_time": "2022-11-08T17:23:56.563Z"
   },
   {
    "duration": 136,
    "start_time": "2022-11-08T17:24:04.034Z"
   },
   {
    "duration": 103,
    "start_time": "2022-11-08T17:28:04.603Z"
   },
   {
    "duration": 1452,
    "start_time": "2022-11-09T18:51:40.296Z"
   },
   {
    "duration": 3,
    "start_time": "2022-11-09T18:51:41.750Z"
   },
   {
    "duration": 161,
    "start_time": "2022-11-09T18:51:41.754Z"
   },
   {
    "duration": 15,
    "start_time": "2022-11-09T18:51:41.917Z"
   },
   {
    "duration": 11,
    "start_time": "2022-11-09T18:51:41.933Z"
   },
   {
    "duration": 2,
    "start_time": "2022-11-09T18:51:41.946Z"
   },
   {
    "duration": 13,
    "start_time": "2022-11-09T18:51:41.949Z"
   },
   {
    "duration": 4,
    "start_time": "2022-11-09T18:51:41.963Z"
   },
   {
    "duration": 8,
    "start_time": "2022-11-09T18:51:41.968Z"
   },
   {
    "duration": 10,
    "start_time": "2022-11-09T18:51:41.979Z"
   },
   {
    "duration": 5,
    "start_time": "2022-11-09T18:51:41.991Z"
   },
   {
    "duration": 6,
    "start_time": "2022-11-09T18:51:41.997Z"
   },
   {
    "duration": 4,
    "start_time": "2022-11-09T18:51:42.005Z"
   },
   {
    "duration": 5,
    "start_time": "2022-11-09T18:51:42.011Z"
   },
   {
    "duration": 6,
    "start_time": "2022-11-09T18:51:42.017Z"
   },
   {
    "duration": 3,
    "start_time": "2022-11-09T18:51:42.059Z"
   },
   {
    "duration": 6,
    "start_time": "2022-11-09T18:51:42.063Z"
   },
   {
    "duration": 9,
    "start_time": "2022-11-09T18:51:42.071Z"
   },
   {
    "duration": 27,
    "start_time": "2022-11-09T18:51:42.082Z"
   },
   {
    "duration": 435,
    "start_time": "2022-11-09T18:51:42.110Z"
   },
   {
    "duration": 80,
    "start_time": "2022-11-09T18:51:42.547Z"
   },
   {
    "duration": 5,
    "start_time": "2022-11-09T18:51:42.629Z"
   },
   {
    "duration": 6,
    "start_time": "2022-11-09T18:51:42.635Z"
   },
   {
    "duration": 124,
    "start_time": "2022-11-09T18:51:42.658Z"
   },
   {
    "duration": 11,
    "start_time": "2022-11-09T18:53:51.496Z"
   },
   {
    "duration": 73,
    "start_time": "2022-11-09T18:53:58.543Z"
   },
   {
    "duration": 74,
    "start_time": "2022-11-09T18:54:19.005Z"
   },
   {
    "duration": 92,
    "start_time": "2022-11-09T18:54:41.624Z"
   },
   {
    "duration": 43,
    "start_time": "2022-11-09T18:55:06.333Z"
   },
   {
    "duration": 89,
    "start_time": "2022-11-09T18:56:01.875Z"
   },
   {
    "duration": 58,
    "start_time": "2022-11-09T18:56:14.125Z"
   },
   {
    "duration": 80,
    "start_time": "2022-11-09T18:57:40.875Z"
   },
   {
    "duration": 58,
    "start_time": "2022-11-09T19:00:09.048Z"
   },
   {
    "duration": 100,
    "start_time": "2022-11-09T19:00:24.737Z"
   },
   {
    "duration": 94,
    "start_time": "2022-11-09T19:02:01.339Z"
   },
   {
    "duration": 47,
    "start_time": "2022-11-09T19:02:07.535Z"
   },
   {
    "duration": 90,
    "start_time": "2022-11-09T19:02:19.524Z"
   },
   {
    "duration": 49,
    "start_time": "2022-11-09T19:03:34.215Z"
   },
   {
    "duration": 52,
    "start_time": "2022-11-09T19:04:14.656Z"
   },
   {
    "duration": 88,
    "start_time": "2022-11-09T19:04:26.097Z"
   },
   {
    "duration": 87,
    "start_time": "2022-11-09T19:06:34.080Z"
   },
   {
    "duration": 45,
    "start_time": "2022-11-09T19:06:41.547Z"
   },
   {
    "duration": 42,
    "start_time": "2022-11-09T19:07:27.444Z"
   },
   {
    "duration": 90,
    "start_time": "2022-11-09T19:07:34.149Z"
   },
   {
    "duration": 3,
    "start_time": "2022-11-09T19:09:38.396Z"
   },
   {
    "duration": 18,
    "start_time": "2022-11-09T19:09:38.401Z"
   },
   {
    "duration": 41,
    "start_time": "2022-11-09T19:09:38.420Z"
   },
   {
    "duration": 11,
    "start_time": "2022-11-09T19:09:38.462Z"
   },
   {
    "duration": 12,
    "start_time": "2022-11-09T19:09:38.475Z"
   },
   {
    "duration": 7,
    "start_time": "2022-11-09T19:09:38.488Z"
   },
   {
    "duration": 18,
    "start_time": "2022-11-09T19:09:38.497Z"
   },
   {
    "duration": 5,
    "start_time": "2022-11-09T19:09:38.516Z"
   },
   {
    "duration": 20,
    "start_time": "2022-11-09T19:09:38.522Z"
   },
   {
    "duration": 11,
    "start_time": "2022-11-09T19:09:38.544Z"
   },
   {
    "duration": 11,
    "start_time": "2022-11-09T19:09:38.556Z"
   },
   {
    "duration": 6,
    "start_time": "2022-11-09T19:09:38.568Z"
   },
   {
    "duration": 8,
    "start_time": "2022-11-09T19:09:38.575Z"
   },
   {
    "duration": 20,
    "start_time": "2022-11-09T19:09:38.584Z"
   },
   {
    "duration": 20,
    "start_time": "2022-11-09T19:09:38.605Z"
   },
   {
    "duration": 12,
    "start_time": "2022-11-09T19:09:38.627Z"
   },
   {
    "duration": 21,
    "start_time": "2022-11-09T19:09:38.640Z"
   },
   {
    "duration": 12,
    "start_time": "2022-11-09T19:09:38.663Z"
   },
   {
    "duration": 42,
    "start_time": "2022-11-09T19:09:38.676Z"
   },
   {
    "duration": 413,
    "start_time": "2022-11-09T19:09:38.720Z"
   },
   {
    "duration": 81,
    "start_time": "2022-11-09T19:09:39.135Z"
   },
   {
    "duration": 4,
    "start_time": "2022-11-09T19:09:39.218Z"
   },
   {
    "duration": 4,
    "start_time": "2022-11-09T19:09:39.223Z"
   },
   {
    "duration": 10,
    "start_time": "2022-11-09T19:09:39.228Z"
   },
   {
    "duration": 101,
    "start_time": "2022-11-09T19:09:39.240Z"
   },
   {
    "duration": 47,
    "start_time": "2022-11-09T19:09:39.343Z"
   },
   {
    "duration": 51,
    "start_time": "2022-11-09T19:10:19.801Z"
   },
   {
    "duration": 35,
    "start_time": "2022-11-09T19:10:36.401Z"
   },
   {
    "duration": 35,
    "start_time": "2022-11-09T19:12:20.320Z"
   },
   {
    "duration": 56,
    "start_time": "2022-11-09T19:12:41.749Z"
   },
   {
    "duration": 46,
    "start_time": "2022-11-09T19:15:23.091Z"
   },
   {
    "duration": 50,
    "start_time": "2022-11-09T19:16:06.488Z"
   },
   {
    "duration": 43,
    "start_time": "2022-11-09T19:16:28.314Z"
   },
   {
    "duration": 45,
    "start_time": "2022-11-09T19:17:09.794Z"
   },
   {
    "duration": 91,
    "start_time": "2022-11-09T19:17:58.722Z"
   },
   {
    "duration": 34,
    "start_time": "2022-11-09T19:19:02.878Z"
   },
   {
    "duration": 15,
    "start_time": "2022-11-09T19:19:26.094Z"
   },
   {
    "duration": 5,
    "start_time": "2022-11-09T19:19:47.280Z"
   },
   {
    "duration": 34,
    "start_time": "2022-11-09T19:20:28.300Z"
   },
   {
    "duration": 101,
    "start_time": "2022-11-09T19:22:02.489Z"
   },
   {
    "duration": 93,
    "start_time": "2022-11-09T19:22:27.076Z"
   },
   {
    "duration": 9,
    "start_time": "2022-11-09T19:29:28.115Z"
   },
   {
    "duration": 46,
    "start_time": "2022-11-09T19:29:49.953Z"
   },
   {
    "duration": 28,
    "start_time": "2022-11-09T19:31:04.056Z"
   },
   {
    "duration": 34,
    "start_time": "2022-11-09T19:31:17.154Z"
   },
   {
    "duration": 97,
    "start_time": "2022-11-09T19:31:31.306Z"
   },
   {
    "duration": 62,
    "start_time": "2022-11-09T19:31:49.343Z"
   },
   {
    "duration": 78,
    "start_time": "2022-11-09T19:33:30.118Z"
   },
   {
    "duration": 3,
    "start_time": "2022-11-09T19:57:53.250Z"
   },
   {
    "duration": 6,
    "start_time": "2022-11-09T19:57:53.271Z"
   },
   {
    "duration": 17,
    "start_time": "2022-11-09T19:57:53.292Z"
   },
   {
    "duration": 14,
    "start_time": "2022-11-09T19:57:53.314Z"
   },
   {
    "duration": 23,
    "start_time": "2022-11-09T19:57:53.343Z"
   },
   {
    "duration": 5,
    "start_time": "2022-11-09T19:57:53.372Z"
   },
   {
    "duration": 12,
    "start_time": "2022-11-09T19:57:53.388Z"
   },
   {
    "duration": 4,
    "start_time": "2022-11-09T19:57:53.411Z"
   },
   {
    "duration": 35,
    "start_time": "2022-11-09T19:57:53.426Z"
   },
   {
    "duration": 1,
    "start_time": "2022-11-09T19:57:53.521Z"
   },
   {
    "duration": 0,
    "start_time": "2022-11-09T19:57:53.523Z"
   },
   {
    "duration": 0,
    "start_time": "2022-11-09T19:57:53.525Z"
   },
   {
    "duration": 0,
    "start_time": "2022-11-09T19:57:53.527Z"
   },
   {
    "duration": 0,
    "start_time": "2022-11-09T19:57:53.528Z"
   },
   {
    "duration": 0,
    "start_time": "2022-11-09T19:57:53.530Z"
   },
   {
    "duration": 1,
    "start_time": "2022-11-09T19:57:53.531Z"
   },
   {
    "duration": 0,
    "start_time": "2022-11-09T19:57:53.533Z"
   },
   {
    "duration": 0,
    "start_time": "2022-11-09T19:57:53.559Z"
   },
   {
    "duration": 0,
    "start_time": "2022-11-09T19:57:53.561Z"
   },
   {
    "duration": 0,
    "start_time": "2022-11-09T19:57:53.563Z"
   },
   {
    "duration": 0,
    "start_time": "2022-11-09T19:57:53.565Z"
   },
   {
    "duration": 0,
    "start_time": "2022-11-09T19:57:53.567Z"
   },
   {
    "duration": 0,
    "start_time": "2022-11-09T19:57:53.569Z"
   },
   {
    "duration": 0,
    "start_time": "2022-11-09T19:57:53.570Z"
   },
   {
    "duration": 57091,
    "start_time": "2022-11-09T19:57:59.952Z"
   },
   {
    "duration": 89,
    "start_time": "2022-11-09T19:58:57.045Z"
   },
   {
    "duration": 97,
    "start_time": "2022-11-09T19:58:57.135Z"
   },
   {
    "duration": 0,
    "start_time": "2022-11-09T19:58:57.258Z"
   },
   {
    "duration": 0,
    "start_time": "2022-11-09T19:58:57.259Z"
   },
   {
    "duration": 0,
    "start_time": "2022-11-09T19:58:57.260Z"
   },
   {
    "duration": 3,
    "start_time": "2022-11-09T19:59:36.271Z"
   },
   {
    "duration": 12,
    "start_time": "2022-11-09T19:59:40.650Z"
   },
   {
    "duration": 3,
    "start_time": "2022-11-09T20:00:15.700Z"
   },
   {
    "duration": 11,
    "start_time": "2022-11-09T20:00:18.881Z"
   },
   {
    "duration": 3,
    "start_time": "2022-11-09T20:00:26.545Z"
   },
   {
    "duration": 13,
    "start_time": "2022-11-09T20:00:32.196Z"
   },
   {
    "duration": 14,
    "start_time": "2022-11-09T20:01:20.589Z"
   },
   {
    "duration": 11,
    "start_time": "2022-11-09T20:04:40.517Z"
   },
   {
    "duration": 11,
    "start_time": "2022-11-09T20:05:08.040Z"
   },
   {
    "duration": 12,
    "start_time": "2022-11-09T20:09:29.586Z"
   },
   {
    "duration": 12,
    "start_time": "2022-11-09T20:09:39.181Z"
   },
   {
    "duration": 12,
    "start_time": "2022-11-09T20:10:40.433Z"
   },
   {
    "duration": 7,
    "start_time": "2022-11-09T20:10:47.625Z"
   },
   {
    "duration": 8,
    "start_time": "2022-11-09T20:11:57.431Z"
   },
   {
    "duration": 13,
    "start_time": "2022-11-09T20:12:09.952Z"
   },
   {
    "duration": 19,
    "start_time": "2022-11-09T20:13:18.099Z"
   },
   {
    "duration": 11,
    "start_time": "2022-11-09T20:13:33.155Z"
   },
   {
    "duration": 3,
    "start_time": "2022-11-09T20:14:02.754Z"
   },
   {
    "duration": 10,
    "start_time": "2022-11-09T20:14:05.841Z"
   },
   {
    "duration": 4,
    "start_time": "2022-11-09T20:14:10.015Z"
   },
   {
    "duration": 11,
    "start_time": "2022-11-09T20:14:14.133Z"
   },
   {
    "duration": 12,
    "start_time": "2022-11-09T20:15:13.124Z"
   },
   {
    "duration": 13,
    "start_time": "2022-11-09T20:15:29.985Z"
   },
   {
    "duration": 11,
    "start_time": "2022-11-09T20:16:18.955Z"
   },
   {
    "duration": 12,
    "start_time": "2022-11-09T20:17:12.933Z"
   },
   {
    "duration": 12,
    "start_time": "2022-11-09T20:17:24.580Z"
   },
   {
    "duration": 2,
    "start_time": "2022-11-09T20:18:00.172Z"
   },
   {
    "duration": 9,
    "start_time": "2022-11-09T20:18:04.073Z"
   },
   {
    "duration": 3,
    "start_time": "2022-11-09T20:18:16.805Z"
   },
   {
    "duration": 7,
    "start_time": "2022-11-09T20:18:16.810Z"
   },
   {
    "duration": 41,
    "start_time": "2022-11-09T20:18:16.818Z"
   },
   {
    "duration": 11,
    "start_time": "2022-11-09T20:18:16.860Z"
   },
   {
    "duration": 14,
    "start_time": "2022-11-09T20:18:16.872Z"
   },
   {
    "duration": 2,
    "start_time": "2022-11-09T20:18:16.887Z"
   },
   {
    "duration": 11,
    "start_time": "2022-11-09T20:18:16.891Z"
   },
   {
    "duration": 2,
    "start_time": "2022-11-09T20:18:16.904Z"
   },
   {
    "duration": 7,
    "start_time": "2022-11-09T20:18:16.908Z"
   },
   {
    "duration": 204,
    "start_time": "2022-11-09T20:18:16.917Z"
   },
   {
    "duration": 67,
    "start_time": "2022-11-09T20:18:17.122Z"
   },
   {
    "duration": 53,
    "start_time": "2022-11-09T20:18:17.191Z"
   },
   {
    "duration": 35,
    "start_time": "2022-11-09T20:18:17.245Z"
   },
   {
    "duration": 4,
    "start_time": "2022-11-09T20:18:17.281Z"
   },
   {
    "duration": 20,
    "start_time": "2022-11-09T20:18:17.286Z"
   },
   {
    "duration": 12,
    "start_time": "2022-11-09T20:18:17.307Z"
   },
   {
    "duration": 9,
    "start_time": "2022-11-09T20:18:17.320Z"
   },
   {
    "duration": 32,
    "start_time": "2022-11-09T20:18:17.331Z"
   },
   {
    "duration": 25,
    "start_time": "2022-11-09T20:18:17.364Z"
   },
   {
    "duration": 4949,
    "start_time": "2022-11-09T20:18:17.390Z"
   },
   {
    "duration": 771,
    "start_time": "2022-11-09T20:18:22.340Z"
   },
   {
    "duration": 4,
    "start_time": "2022-11-09T20:18:23.113Z"
   },
   {
    "duration": 4,
    "start_time": "2022-11-09T20:18:23.119Z"
   },
   {
    "duration": 938,
    "start_time": "2022-11-09T20:18:23.124Z"
   },
   {
    "duration": 627,
    "start_time": "2022-11-09T20:18:29.355Z"
   },
   {
    "duration": 653,
    "start_time": "2022-11-09T20:20:32.488Z"
   },
   {
    "duration": 0,
    "start_time": "2022-11-09T20:36:07.576Z"
   },
   {
    "duration": 0,
    "start_time": "2022-11-09T20:36:07.581Z"
   },
   {
    "duration": 0,
    "start_time": "2022-11-09T20:36:07.586Z"
   },
   {
    "duration": 0,
    "start_time": "2022-11-09T20:36:07.590Z"
   },
   {
    "duration": 0,
    "start_time": "2022-11-09T20:36:07.594Z"
   },
   {
    "duration": 0,
    "start_time": "2022-11-09T20:36:07.597Z"
   },
   {
    "duration": 0,
    "start_time": "2022-11-09T20:36:07.661Z"
   },
   {
    "duration": 0,
    "start_time": "2022-11-09T20:36:07.665Z"
   },
   {
    "duration": 0,
    "start_time": "2022-11-09T20:36:07.669Z"
   },
   {
    "duration": 0,
    "start_time": "2022-11-09T20:36:07.670Z"
   },
   {
    "duration": 0,
    "start_time": "2022-11-09T20:36:07.673Z"
   },
   {
    "duration": 0,
    "start_time": "2022-11-09T20:36:07.676Z"
   },
   {
    "duration": 0,
    "start_time": "2022-11-09T20:36:07.678Z"
   },
   {
    "duration": 0,
    "start_time": "2022-11-09T20:36:07.681Z"
   },
   {
    "duration": 0,
    "start_time": "2022-11-09T20:36:07.683Z"
   },
   {
    "duration": 0,
    "start_time": "2022-11-09T20:36:07.685Z"
   },
   {
    "duration": 0,
    "start_time": "2022-11-09T20:36:07.687Z"
   },
   {
    "duration": 0,
    "start_time": "2022-11-09T20:36:07.689Z"
   },
   {
    "duration": 0,
    "start_time": "2022-11-09T20:36:07.692Z"
   },
   {
    "duration": 0,
    "start_time": "2022-11-09T20:36:07.694Z"
   },
   {
    "duration": 0,
    "start_time": "2022-11-09T20:36:07.696Z"
   },
   {
    "duration": 0,
    "start_time": "2022-11-09T20:36:07.759Z"
   },
   {
    "duration": 0,
    "start_time": "2022-11-09T20:36:07.761Z"
   },
   {
    "duration": 0,
    "start_time": "2022-11-09T20:36:07.763Z"
   },
   {
    "duration": 4,
    "start_time": "2022-11-09T20:36:27.697Z"
   },
   {
    "duration": 8,
    "start_time": "2022-11-09T20:36:27.703Z"
   },
   {
    "duration": 43,
    "start_time": "2022-11-09T20:36:27.712Z"
   },
   {
    "duration": 10,
    "start_time": "2022-11-09T20:36:27.756Z"
   },
   {
    "duration": 14,
    "start_time": "2022-11-09T20:36:27.767Z"
   },
   {
    "duration": 2,
    "start_time": "2022-11-09T20:36:27.783Z"
   },
   {
    "duration": 12,
    "start_time": "2022-11-09T20:36:27.786Z"
   },
   {
    "duration": 3,
    "start_time": "2022-11-09T20:36:27.800Z"
   },
   {
    "duration": 5,
    "start_time": "2022-11-09T20:36:27.805Z"
   },
   {
    "duration": 11,
    "start_time": "2022-11-09T20:36:27.811Z"
   },
   {
    "duration": 4,
    "start_time": "2022-11-09T20:36:27.823Z"
   },
   {
    "duration": 31,
    "start_time": "2022-11-09T20:36:27.829Z"
   },
   {
    "duration": 4,
    "start_time": "2022-11-09T20:36:27.861Z"
   },
   {
    "duration": 7,
    "start_time": "2022-11-09T20:36:27.866Z"
   },
   {
    "duration": 5,
    "start_time": "2022-11-09T20:36:27.874Z"
   },
   {
    "duration": 5,
    "start_time": "2022-11-09T20:36:27.880Z"
   },
   {
    "duration": 5,
    "start_time": "2022-11-09T20:36:27.886Z"
   },
   {
    "duration": 6,
    "start_time": "2022-11-09T20:36:27.893Z"
   },
   {
    "duration": 26,
    "start_time": "2022-11-09T20:36:27.900Z"
   },
   {
    "duration": 427,
    "start_time": "2022-11-09T20:36:27.927Z"
   },
   {
    "duration": 71,
    "start_time": "2022-11-09T20:36:28.358Z"
   },
   {
    "duration": 5,
    "start_time": "2022-11-09T20:36:28.430Z"
   },
   {
    "duration": 23,
    "start_time": "2022-11-09T20:36:28.436Z"
   },
   {
    "duration": 8,
    "start_time": "2022-11-09T20:36:28.461Z"
   },
   {
    "duration": 58630,
    "start_time": "2022-11-09T20:36:28.470Z"
   },
   {
    "duration": 86,
    "start_time": "2022-11-09T20:37:27.101Z"
   },
   {
    "duration": 90,
    "start_time": "2022-11-09T20:37:27.188Z"
   },
   {
    "duration": 36,
    "start_time": "2022-11-09T20:37:27.280Z"
   },
   {
    "duration": 58173,
    "start_time": "2022-11-09T20:38:38.495Z"
   },
   {
    "duration": 808,
    "start_time": "2022-11-09T20:40:39.422Z"
   },
   {
    "duration": 268,
    "start_time": "2022-11-09T20:41:02.905Z"
   },
   {
    "duration": 785,
    "start_time": "2022-11-09T20:41:19.790Z"
   },
   {
    "duration": 285,
    "start_time": "2022-11-09T20:41:55.940Z"
   },
   {
    "duration": 5,
    "start_time": "2022-11-09T20:42:02.516Z"
   },
   {
    "duration": 157,
    "start_time": "2022-11-09T20:47:22.441Z"
   },
   {
    "duration": 108,
    "start_time": "2022-11-09T20:47:27.929Z"
   },
   {
    "duration": 148,
    "start_time": "2022-11-09T20:51:00.199Z"
   },
   {
    "duration": 154,
    "start_time": "2022-11-09T20:51:18.836Z"
   },
   {
    "duration": 276,
    "start_time": "2022-11-09T20:54:16.067Z"
   },
   {
    "duration": 288,
    "start_time": "2022-11-09T20:54:50.897Z"
   },
   {
    "duration": 6,
    "start_time": "2022-11-09T20:55:08.669Z"
   },
   {
    "duration": 8,
    "start_time": "2022-11-09T20:55:22.710Z"
   },
   {
    "duration": 5,
    "start_time": "2022-11-09T20:55:39.547Z"
   },
   {
    "duration": 5,
    "start_time": "2022-11-09T20:55:52.964Z"
   },
   {
    "duration": 151,
    "start_time": "2022-11-09T20:56:01.185Z"
   },
   {
    "duration": 109,
    "start_time": "2022-11-09T20:56:06.371Z"
   },
   {
    "duration": 617,
    "start_time": "2022-11-09T21:02:24.852Z"
   },
   {
    "duration": 5,
    "start_time": "2022-11-09T21:02:32.728Z"
   },
   {
    "duration": 303,
    "start_time": "2022-11-09T21:04:58.569Z"
   },
   {
    "duration": 274,
    "start_time": "2022-11-09T21:05:31.813Z"
   },
   {
    "duration": 271,
    "start_time": "2022-11-09T21:05:38.273Z"
   },
   {
    "duration": 299,
    "start_time": "2022-11-09T21:05:44.645Z"
   },
   {
    "duration": 251,
    "start_time": "2022-11-09T21:05:55.065Z"
   },
   {
    "duration": 58022,
    "start_time": "2022-11-09T21:06:06.624Z"
   },
   {
    "duration": 242,
    "start_time": "2022-11-09T21:08:13.081Z"
   },
   {
    "duration": 246,
    "start_time": "2022-11-09T21:08:18.543Z"
   },
   {
    "duration": 194,
    "start_time": "2022-11-09T21:08:25.279Z"
   },
   {
    "duration": 215,
    "start_time": "2022-11-09T21:08:30.770Z"
   },
   {
    "duration": 224,
    "start_time": "2022-11-09T21:08:35.853Z"
   },
   {
    "duration": 4,
    "start_time": "2022-11-09T21:08:49.594Z"
   },
   {
    "duration": 138,
    "start_time": "2022-11-09T21:08:54.029Z"
   },
   {
    "duration": 106,
    "start_time": "2022-11-09T21:08:59.029Z"
   },
   {
    "duration": 1402,
    "start_time": "2022-11-10T05:20:33.850Z"
   },
   {
    "duration": 2,
    "start_time": "2022-11-10T05:20:35.254Z"
   },
   {
    "duration": 172,
    "start_time": "2022-11-10T05:20:35.258Z"
   },
   {
    "duration": 17,
    "start_time": "2022-11-10T05:20:35.432Z"
   },
   {
    "duration": 12,
    "start_time": "2022-11-10T05:20:35.450Z"
   },
   {
    "duration": 3,
    "start_time": "2022-11-10T05:20:35.463Z"
   },
   {
    "duration": 13,
    "start_time": "2022-11-10T05:20:35.467Z"
   },
   {
    "duration": 4,
    "start_time": "2022-11-10T05:20:35.482Z"
   },
   {
    "duration": 12,
    "start_time": "2022-11-10T05:20:35.487Z"
   },
   {
    "duration": 12,
    "start_time": "2022-11-10T05:20:35.502Z"
   },
   {
    "duration": 8,
    "start_time": "2022-11-10T05:20:35.516Z"
   },
   {
    "duration": 8,
    "start_time": "2022-11-10T05:20:35.525Z"
   },
   {
    "duration": 5,
    "start_time": "2022-11-10T05:20:35.535Z"
   },
   {
    "duration": 5,
    "start_time": "2022-11-10T05:20:35.541Z"
   },
   {
    "duration": 22,
    "start_time": "2022-11-10T05:20:35.548Z"
   },
   {
    "duration": 6,
    "start_time": "2022-11-10T05:20:35.572Z"
   },
   {
    "duration": 5,
    "start_time": "2022-11-10T05:20:35.580Z"
   },
   {
    "duration": 7,
    "start_time": "2022-11-10T05:20:35.587Z"
   },
   {
    "duration": 28,
    "start_time": "2022-11-10T05:20:35.596Z"
   },
   {
    "duration": 501,
    "start_time": "2022-11-10T05:20:35.625Z"
   },
   {
    "duration": 679,
    "start_time": "2022-11-10T05:20:36.127Z"
   },
   {
    "duration": 6,
    "start_time": "2022-11-10T05:20:36.808Z"
   },
   {
    "duration": 23,
    "start_time": "2022-11-10T05:20:36.816Z"
   },
   {
    "duration": 12,
    "start_time": "2022-11-10T05:20:36.840Z"
   },
   {
    "duration": 60257,
    "start_time": "2022-11-10T05:20:41.452Z"
   },
   {
    "duration": 60556,
    "start_time": "2022-11-10T05:22:04.924Z"
   },
   {
    "duration": 790,
    "start_time": "2022-11-10T05:24:32.741Z"
   },
   {
    "duration": 831,
    "start_time": "2022-11-10T05:24:39.450Z"
   },
   {
    "duration": 14,
    "start_time": "2022-11-10T05:24:54.215Z"
   },
   {
    "duration": 207,
    "start_time": "2022-11-10T05:24:58.534Z"
   },
   {
    "duration": 61164,
    "start_time": "2022-11-10T05:25:28.444Z"
   },
   {
    "duration": 50,
    "start_time": "2022-11-10T05:28:11.674Z"
   },
   {
    "duration": 50,
    "start_time": "2022-11-10T05:28:44.700Z"
   },
   {
    "duration": 20917,
    "start_time": "2022-11-10T05:29:46.252Z"
   },
   {
    "duration": 860,
    "start_time": "2022-11-10T05:31:28.953Z"
   },
   {
    "duration": 821,
    "start_time": "2022-11-10T05:32:10.502Z"
   },
   {
    "duration": 21323,
    "start_time": "2022-11-10T05:33:16.297Z"
   },
   {
    "duration": 200,
    "start_time": "2022-11-10T05:34:00.065Z"
   },
   {
    "duration": 336,
    "start_time": "2022-11-10T05:38:45.811Z"
   },
   {
    "duration": 291,
    "start_time": "2022-11-10T05:39:12.544Z"
   },
   {
    "duration": 49,
    "start_time": "2022-11-10T05:46:55.638Z"
   },
   {
    "duration": 50,
    "start_time": "2022-11-10T05:47:18.163Z"
   },
   {
    "duration": 60,
    "start_time": "2022-11-10T05:47:35.925Z"
   },
   {
    "duration": 10,
    "start_time": "2022-11-10T05:50:31.163Z"
   },
   {
    "duration": 16,
    "start_time": "2022-11-10T05:50:45.924Z"
   },
   {
    "duration": 48,
    "start_time": "2022-11-10T05:51:15.359Z"
   },
   {
    "duration": 80,
    "start_time": "2022-11-10T05:51:30.205Z"
   },
   {
    "duration": 142,
    "start_time": "2022-11-10T05:52:30.460Z"
   },
   {
    "duration": 31,
    "start_time": "2022-11-10T05:55:05.674Z"
   },
   {
    "duration": 137,
    "start_time": "2022-11-10T05:55:59.031Z"
   },
   {
    "duration": 908,
    "start_time": "2022-11-10T06:00:28.005Z"
   },
   {
    "duration": 10,
    "start_time": "2022-11-10T06:06:10.356Z"
   },
   {
    "duration": 25359,
    "start_time": "2022-11-10T06:06:13.084Z"
   },
   {
    "duration": 14,
    "start_time": "2022-11-10T06:07:26.031Z"
   },
   {
    "duration": 27980,
    "start_time": "2022-11-10T06:07:29.422Z"
   },
   {
    "duration": 203,
    "start_time": "2022-11-10T06:08:46.559Z"
   },
   {
    "duration": 11,
    "start_time": "2022-11-10T06:08:59.631Z"
   },
   {
    "duration": 26515,
    "start_time": "2022-11-10T06:09:02.790Z"
   },
   {
    "duration": 13,
    "start_time": "2022-11-10T06:09:58.179Z"
   },
   {
    "duration": 28545,
    "start_time": "2022-11-10T06:10:00.428Z"
   },
   {
    "duration": 51,
    "start_time": "2022-11-10T06:10:37.688Z"
   },
   {
    "duration": 168,
    "start_time": "2022-11-10T06:10:43.408Z"
   },
   {
    "duration": 681,
    "start_time": "2022-11-10T06:11:40.233Z"
   },
   {
    "duration": 325,
    "start_time": "2022-11-10T06:17:00.623Z"
   },
   {
    "duration": 302,
    "start_time": "2022-11-10T06:17:18.794Z"
   },
   {
    "duration": 320,
    "start_time": "2022-11-10T06:17:27.892Z"
   },
   {
    "duration": 350,
    "start_time": "2022-11-10T06:17:34.860Z"
   },
   {
    "duration": 318,
    "start_time": "2022-11-10T06:18:05.363Z"
   },
   {
    "duration": 334,
    "start_time": "2022-11-10T06:18:35.259Z"
   },
   {
    "duration": 260,
    "start_time": "2022-11-10T06:18:44.554Z"
   },
   {
    "duration": 330,
    "start_time": "2022-11-10T06:18:52.853Z"
   },
   {
    "duration": 345,
    "start_time": "2022-11-10T06:19:00.639Z"
   },
   {
    "duration": 322,
    "start_time": "2022-11-10T06:19:07.260Z"
   },
   {
    "duration": 207,
    "start_time": "2022-11-10T06:19:15.421Z"
   },
   {
    "duration": 336,
    "start_time": "2022-11-10T06:19:22.463Z"
   },
   {
    "duration": 914,
    "start_time": "2022-11-10T06:23:23.489Z"
   },
   {
    "duration": 5,
    "start_time": "2022-11-10T06:25:10.291Z"
   },
   {
    "duration": 2205,
    "start_time": "2022-11-10T16:36:40.817Z"
   },
   {
    "duration": 3,
    "start_time": "2022-11-10T16:36:43.024Z"
   },
   {
    "duration": 79,
    "start_time": "2022-11-10T16:36:43.029Z"
   },
   {
    "duration": 18,
    "start_time": "2022-11-10T16:36:43.110Z"
   },
   {
    "duration": 15,
    "start_time": "2022-11-10T16:36:43.131Z"
   },
   {
    "duration": 3,
    "start_time": "2022-11-10T16:36:43.148Z"
   },
   {
    "duration": 15,
    "start_time": "2022-11-10T16:36:43.153Z"
   },
   {
    "duration": 4,
    "start_time": "2022-11-10T16:36:43.170Z"
   },
   {
    "duration": 5,
    "start_time": "2022-11-10T16:36:43.176Z"
   },
   {
    "duration": 40,
    "start_time": "2022-11-10T16:36:43.183Z"
   },
   {
    "duration": 6,
    "start_time": "2022-11-10T16:36:43.225Z"
   },
   {
    "duration": 7,
    "start_time": "2022-11-10T16:36:43.233Z"
   },
   {
    "duration": 7,
    "start_time": "2022-11-10T16:36:43.242Z"
   },
   {
    "duration": 4,
    "start_time": "2022-11-10T16:36:43.253Z"
   },
   {
    "duration": 6,
    "start_time": "2022-11-10T16:36:43.259Z"
   },
   {
    "duration": 6,
    "start_time": "2022-11-10T16:36:43.267Z"
   },
   {
    "duration": 6,
    "start_time": "2022-11-10T16:36:43.275Z"
   },
   {
    "duration": 48,
    "start_time": "2022-11-10T16:36:43.283Z"
   },
   {
    "duration": 36,
    "start_time": "2022-11-10T16:36:43.334Z"
   },
   {
    "duration": 484,
    "start_time": "2022-11-10T16:36:43.372Z"
   },
   {
    "duration": 802,
    "start_time": "2022-11-10T16:36:43.858Z"
   },
   {
    "duration": 6,
    "start_time": "2022-11-10T16:36:44.662Z"
   },
   {
    "duration": 3,
    "start_time": "2022-11-10T16:36:44.669Z"
   },
   {
    "duration": 13,
    "start_time": "2022-11-10T16:36:44.674Z"
   },
   {
    "duration": 68584,
    "start_time": "2022-11-10T16:36:44.689Z"
   },
   {
    "duration": 1087,
    "start_time": "2022-11-10T16:37:53.275Z"
   },
   {
    "duration": 74,
    "start_time": "2022-11-10T16:37:54.364Z"
   },
   {
    "duration": 187,
    "start_time": "2022-11-10T16:37:54.439Z"
   },
   {
    "duration": 12,
    "start_time": "2022-11-10T16:37:54.628Z"
   },
   {
    "duration": 29532,
    "start_time": "2022-11-10T16:37:54.642Z"
   },
   {
    "duration": 217,
    "start_time": "2022-11-10T16:38:24.177Z"
   },
   {
    "duration": 39,
    "start_time": "2022-11-10T16:38:24.396Z"
   },
   {
    "duration": 160,
    "start_time": "2022-11-10T16:38:24.437Z"
   },
   {
    "duration": 343,
    "start_time": "2022-11-10T16:38:24.600Z"
   },
   {
    "duration": 782,
    "start_time": "2022-11-10T16:38:24.945Z"
   },
   {
    "duration": 1023,
    "start_time": "2022-11-10T16:38:25.728Z"
   },
   {
    "duration": 6,
    "start_time": "2022-11-10T16:38:26.754Z"
   },
   {
    "duration": 211,
    "start_time": "2022-11-10T16:38:26.762Z"
   },
   {
    "duration": 146,
    "start_time": "2022-11-10T16:38:26.975Z"
   },
   {
    "duration": 9,
    "start_time": "2022-11-10T16:40:50.952Z"
   },
   {
    "duration": 55,
    "start_time": "2022-11-10T16:42:41.344Z"
   }
  ],
  "kernelspec": {
   "display_name": "Python 3 (ipykernel)",
   "language": "python",
   "name": "python3"
  },
  "language_info": {
   "codemirror_mode": {
    "name": "ipython",
    "version": 3
   },
   "file_extension": ".py",
   "mimetype": "text/x-python",
   "name": "python",
   "nbconvert_exporter": "python",
   "pygments_lexer": "ipython3",
   "version": "3.9.12"
  },
  "toc": {
   "base_numbering": 1,
   "nav_menu": {},
   "number_sections": true,
   "sideBar": true,
   "skip_h1_title": true,
   "title_cell": "Содержание",
   "title_sidebar": "Contents",
   "toc_cell": true,
   "toc_position": {},
   "toc_section_display": true,
   "toc_window_display": false
  }
 },
 "nbformat": 4,
 "nbformat_minor": 2
}
